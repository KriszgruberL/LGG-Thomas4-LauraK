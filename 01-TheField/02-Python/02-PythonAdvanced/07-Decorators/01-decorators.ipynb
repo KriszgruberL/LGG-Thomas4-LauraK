{
 "cells": [
  {
   "cell_type": "markdown",
   "metadata": {},
   "source": [
    "# Decorators \n",
    "\n",
    "You've probably already heard of **decorators**. This is a feature that is widely used in the Python world. They allow you to write concise, readable and non-repetitive code.\n",
    "\n",
    "Concretely, a decorator is a callable that takes another callable as an argument and returns a copy of the same callable by \"decorating\" it, i.e. pre-processing and/or post-processing it. In the jargon, this is often referred to as wrapping (wrapping, sprinkling, adding something extra, decorating)."
   ]
  },
  {
   "cell_type": "code",
   "metadata": {
    "ExecuteTime": {
     "end_time": "2024-06-12T12:20:49.772280Z",
     "start_time": "2024-06-12T12:20:49.756617Z"
    }
   },
   "source": [
    "def my_decorator(my_function):\n",
    "    print(my_function.__name__)\n",
    "    return my_function"
   ],
   "outputs": [],
   "execution_count": 1
  },
  {
   "cell_type": "markdown",
   "metadata": {},
   "source": [
    "To apply a decorator, we precede the definition line of the function to be decorated with a line containing an `@` character, then the name of the decorator to be applied, for example :"
   ]
  },
  {
   "cell_type": "code",
   "metadata": {
    "ExecuteTime": {
     "end_time": "2024-06-12T12:20:58.004901Z",
     "start_time": "2024-06-12T12:20:57.996281Z"
    }
   },
   "source": [
    "@my_decorator\n",
    "def addition(a, b):\n",
    "    return a + b"
   ],
   "outputs": [
    {
     "name": "stdout",
     "output_type": "stream",
     "text": [
      "addition\n"
     ]
    }
   ],
   "execution_count": 2
  },
  {
   "cell_type": "code",
   "metadata": {
    "ExecuteTime": {
     "end_time": "2024-06-12T12:21:00.541122Z",
     "start_time": "2024-06-12T12:21:00.528069Z"
    }
   },
   "source": [
    "addition(5, 6)"
   ],
   "outputs": [
    {
     "data": {
      "text/plain": [
       "11"
      ]
     },
     "execution_count": 3,
     "metadata": {},
     "output_type": "execute_result"
    }
   ],
   "execution_count": 3
  },
  {
   "cell_type": "markdown",
   "metadata": {},
   "source": [
    "It is therefore clear that the decorator is applied when the function is defined, and not when it is called. Here we use a very simple decorator that returns the same function that it got as argument (`my_function`), but it could very well be that it returns another one, which would for example be created on the fly.\n",
    "\n",
    "This has the effect of replacing `addition` by the return of the decorator function called with `addition` as argument, which is strictly equivalent to the following.\n",
    "\n"
   ]
  },
  {
   "cell_type": "code",
   "metadata": {
    "ExecuteTime": {
     "end_time": "2024-06-12T12:21:40.784314Z",
     "start_time": "2024-06-12T12:21:40.769800Z"
    }
   },
   "source": [
    "def addition(a, b):\n",
    "    return a + b\n",
    "\n",
    "\n",
    "addition = my_decorator(addition)"
   ],
   "outputs": [
    {
     "name": "stdout",
     "output_type": "stream",
     "text": [
      "addition\n"
     ]
    }
   ],
   "execution_count": 4
  },
  {
   "cell_type": "markdown",
   "metadata": {},
   "source": [
    "Let's say we would like to change our `addition` function to display the operands and then the result, without touching the body of our function. We can make a decorator that will return a new function that will display the arguments, call our original function, then display the return and return it (to keep the original behavior).\n",
    "\n",
    "Thus, our decorator becomes :"
   ]
  },
  {
   "cell_type": "code",
   "metadata": {
    "ExecuteTime": {
     "end_time": "2024-06-12T12:22:36.365954Z",
     "start_time": "2024-06-12T12:22:36.351704Z"
    }
   },
   "source": [
    "def print_decorator(function):\n",
    "    def new_function(a, b):  # New function behaving as the `function` to be decorated\n",
    "        print(f\"Addition of numbers {a} and {b}\")\n",
    "        return_value = function(a, b)  # Call to `function`\n",
    "        print(f\"Result: {return_value}\")\n",
    "        return return_value\n",
    "\n",
    "    return new_function  # don't forget to return `new_function`"
   ],
   "outputs": [],
   "execution_count": 5
  },
  {
   "cell_type": "markdown",
   "metadata": {},
   "source": [
    "If we now apply this decorator to our addition function:"
   ]
  },
  {
   "cell_type": "code",
   "metadata": {
    "ExecuteTime": {
     "end_time": "2024-06-12T12:51:19.304341Z",
     "start_time": "2024-06-12T12:51:19.242854Z"
    }
   },
   "source": [
    "@print_decorator\n",
    "def addition(a, b):\n",
    "    return a + b\n"
   ],
   "outputs": [],
   "execution_count": 25
  },
  {
   "cell_type": "code",
   "metadata": {
    "ExecuteTime": {
     "end_time": "2024-06-12T12:51:22.319603Z",
     "start_time": "2024-06-12T12:51:22.260017Z"
    }
   },
   "source": [
    "addition(1, 2)"
   ],
   "outputs": [
    {
     "name": "stdout",
     "output_type": "stream",
     "text": [
      "call addition with args=(1, 2) and kwargs={}\n",
      "Result: 3\n"
     ]
    },
    {
     "data": {
      "text/plain": [
       "3"
      ]
     },
     "execution_count": 26,
     "metadata": {},
     "output_type": "execute_result"
    }
   ],
   "execution_count": 26
  },
  {
   "cell_type": "markdown",
   "metadata": {},
   "source": [
    "But our decorator is very specialized here, it only works with functions taking two parameters, and will display `\"Addition\"` in all cases. We can modify it to make it more generic (remember `*args` and `**kwargs`)."
   ]
  },
  {
   "cell_type": "code",
   "metadata": {
    "ExecuteTime": {
     "end_time": "2024-06-12T12:23:22.427910Z",
     "start_time": "2024-06-12T12:23:22.409098Z"
    }
   },
   "source": [
    "def print_decorator(function):\n",
    "    def new_function(*args, **kwargs):\n",
    "        print(f\"call {function.__name__} with args={args} and kwargs={kwargs}\")\n",
    "        return_value = function(*args, **kwargs)\n",
    "        print(f\"Result: {return_value}\")\n",
    "        return return_value\n",
    "\n",
    "    return new_function"
   ],
   "outputs": [],
   "execution_count": 8
  },
  {
   "cell_type": "markdown",
   "metadata": {},
   "source": [
    "I'll let you try it out on different functions to see how generic it is.\n",
    "\n",
    "Function definitions are not limited to one decorator: you can specify as many as you want, by placing them one after the other.\n",
    "\n"
   ]
  },
  {
   "cell_type": "code",
   "metadata": {
    "ExecuteTime": {
     "end_time": "2024-06-12T12:27:41.399448Z",
     "start_time": "2024-06-12T12:27:41.385838Z"
    }
   },
   "source": [
    "@my_decorator\n",
    "@print_decorator\n",
    "def useless():\n",
    "    pass\n",
    "\n",
    "@print_decorator\n",
    "def add(a,b) : \n",
    "    return a +b\n",
    "\n",
    "@print_decorator\n",
    "def multiply(*args) : \n",
    "    result = 1\n",
    "    for i in args : \n",
    "        result *= i \n",
    "    return result\n",
    "\n",
    "add(5,4)\n",
    "multiply(5,4,6,5)\n"
   ],
   "outputs": [
    {
     "name": "stdout",
     "output_type": "stream",
     "text": [
      "new_function\n",
      "call add with args=(5, 4) and kwargs={}\n",
      "Result: 9\n",
      "call multiply with args=(5, 4, 6, 5) and kwargs={}\n",
      "Result: 600\n"
     ]
    },
    {
     "data": {
      "text/plain": [
       "600"
      ]
     },
     "execution_count": 21,
     "metadata": {},
     "output_type": "execute_result"
    }
   ],
   "execution_count": 21
  },
  {
   "cell_type": "markdown",
   "metadata": {},
   "source": [
    "The order in which they are specified is important, the previous code is equivalent to :"
   ]
  },
  {
   "cell_type": "code",
   "metadata": {
    "ExecuteTime": {
     "end_time": "2024-06-12T12:23:37.092978Z",
     "start_time": "2024-06-12T12:23:37.068935Z"
    }
   },
   "source": [
    "def useless():\n",
    "    pass\n",
    "\n",
    "\n",
    "useless = my_decorator(print_decorator(useless))"
   ],
   "outputs": [
    {
     "name": "stdout",
     "output_type": "stream",
     "text": [
      "new_function\n"
     ]
    }
   ],
   "execution_count": 10
  },
  {
   "cell_type": "markdown",
   "metadata": {},
   "source": [
    "So we can see that the decorators specified first are those that will be applied last.\n",
    "\n",
    "I said earlier that the decorators apply to functions. This is also true for functions defined within classes (i.e. methods). But you should also know that decorators extend to class declarations."
   ]
  },
  {
   "cell_type": "code",
   "execution_count": null,
   "metadata": {},
   "outputs": [],
   "source": [
    "@print_decorator\n",
    "class MyClass:\n",
    "    @my_decorator\n",
    "    def method(self):\n",
    "        pass"
   ]
  },
  {
   "cell_type": "markdown",
   "metadata": {},
   "source": [
    "Although the definition is broader than that. The decorator is a callable taking a callable as a parameter, and can return any type of object.\n",
    "\n",
    "We have seen how to apply a decorator to a function, however we may want to parameterize the behavior of this decorator. In our previous example (`print_decorator`), we display text before and after the function call. But what do we do if we want to change this text (to change the language, or use a term other than \"function\")?\n",
    "\n",
    "We don't want to have to create a different decorator for every possible and imaginable sentence. We'd like to be able to pass our strings to our decorator so that it can display them at the right time.\n",
    "\n",
    "In fact, `@` doesn't have to be followed by an object name, arguments can also be added to it using parentheses (as we would do for a call). But the behavior may seem strange to you at first glance.\n",
    "\n",
    "For example, to use such a parameterized decorator :"
   ]
  },
  {
   "cell_type": "code",
   "metadata": {
    "ExecuteTime": {
     "end_time": "2024-06-12T12:28:39.625891Z",
     "start_time": "2024-06-12T12:28:38.488857Z"
    }
   },
   "source": [
    "@param_print_decorator(\"call {} with args({}) and kwargs({})\", \"Return value = {}\")\n",
    "def test_func(x):\n",
    "    return x"
   ],
   "outputs": [
    {
     "ename": "NameError",
     "evalue": "name 'param_print_decorator' is not defined",
     "output_type": "error",
     "traceback": [
      "\u001B[1;31m---------------------------------------------------------------------------\u001B[0m",
      "\u001B[1;31mNameError\u001B[0m                                 Traceback (most recent call last)",
      "Cell \u001B[1;32mIn[22], line 1\u001B[0m\n\u001B[1;32m----> 1\u001B[0m \u001B[38;5;129m@param_print_decorator\u001B[39m(\u001B[38;5;124m\"\u001B[39m\u001B[38;5;124mcall \u001B[39m\u001B[38;5;132;01m{}\u001B[39;00m\u001B[38;5;124m with args(\u001B[39m\u001B[38;5;132;01m{}\u001B[39;00m\u001B[38;5;124m) and kwargs(\u001B[39m\u001B[38;5;132;01m{}\u001B[39;00m\u001B[38;5;124m)\u001B[39m\u001B[38;5;124m\"\u001B[39m, \u001B[38;5;124m\"\u001B[39m\u001B[38;5;124mReturn value = \u001B[39m\u001B[38;5;132;01m{}\u001B[39;00m\u001B[38;5;124m\"\u001B[39m)\n\u001B[0;32m      2\u001B[0m \u001B[38;5;28;01mdef\u001B[39;00m \u001B[38;5;21mtest_func\u001B[39m(x):\n\u001B[0;32m      3\u001B[0m     \u001B[38;5;28;01mreturn\u001B[39;00m x\n",
      "\u001B[1;31mNameError\u001B[0m: name 'param_print_decorator' is not defined"
     ]
    }
   ],
   "execution_count": 22
  },
  {
   "cell_type": "markdown",
   "metadata": {},
   "source": [
    "We will need to have a callable `param_print_decorator` which, when called, will return a decorator that can then be applied to our function. **So a parametrized decorator is just a callable that returns a simple decorator.**\n",
    "\n",
    "The `param_print_decorator` code would thus look like :"
   ]
  },
  {
   "cell_type": "code",
   "metadata": {
    "ExecuteTime": {
     "end_time": "2024-06-12T12:28:43.320428Z",
     "start_time": "2024-06-12T12:28:43.313598Z"
    }
   },
   "source": [
    "def param_print_decorator(string_before_execution, string_after_execution):\n",
    "    def simple_decorator(function):\n",
    "        def new_function(*args, **kwargs):\n",
    "            print(string_before_execution.format(function.__name__, args, kwargs))\n",
    "            return_value = function(*args, **kwargs)\n",
    "            print(string_after_execution.format(return_value))\n",
    "            return return_value\n",
    "\n",
    "        return new_function\n",
    "\n",
    "    return simple_decorator"
   ],
   "outputs": [],
   "execution_count": 23
  },
  {
   "cell_type": "markdown",
   "metadata": {},
   "source": [
    "A function is not just a piece of code with parameters. It also has a name, names of the parameters, documentation (docstring), annotations, etc. When we decorate a function, and where we return a new one function like in the previous example, we lose all this related information.\n",
    "\n",
    "Here is an example to illustrate this:"
   ]
  },
  {
   "cell_type": "code",
   "metadata": {
    "ExecuteTime": {
     "end_time": "2024-06-12T12:28:53.052610Z",
     "start_time": "2024-06-12T12:28:53.040476Z"
    }
   },
   "source": [
    "def my_decorator(function):\n",
    "    def decorated(*args, **kwargs):\n",
    "        return function(*args, **kwargs)\n",
    "\n",
    "    return decorated\n",
    "\n",
    "\n",
    "@my_decorator\n",
    "def addition(a, b):\n",
    "    \"This function makes an addition.\"\n",
    "    return a + b\n",
    "\n",
    "\n",
    "help(addition)"
   ],
   "outputs": [
    {
     "name": "stdout",
     "output_type": "stream",
     "text": [
      "Help on function decorated in module __main__:\n",
      "\n",
      "decorated(*args, **kwargs)\n",
      "\n"
     ]
    }
   ],
   "execution_count": 24
  },
  {
   "cell_type": "markdown",
   "metadata": {},
   "source": [
    "For more information of decorators, please read https://realpython.com/primer-on-python-decorators/"
   ]
  }
 ],
 "metadata": {
  "kernelspec": {
   "display_name": "Python 3",
   "language": "python",
   "name": "python3"
  },
  "language_info": {
   "codemirror_mode": {
    "name": "ipython"
   },
   "file_extension": ".py",
   "mimetype": "text/x-python",
   "name": "python",
   "nbconvert_exporter": "python"
  }
 },
 "nbformat": 4,
 "nbformat_minor": 2
}
