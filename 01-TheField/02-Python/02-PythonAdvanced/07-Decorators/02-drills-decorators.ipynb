{
 "cells": [
  {
   "cell_type": "markdown",
   "metadata": {},
   "source": [
    "# Drill - Decorators\n",
    "\n",
    "### Exercise 1\n",
    "Create a decorator that limits the execution of a function:\n",
    "\n",
    "When the function is executed too many times, an exception is thrown. The decorator must take one parameter, which is the number of times it is executed."
   ]
  },
  {
   "cell_type": "code",
   "metadata": {
    "ExecuteTime": {
     "end_time": "2024-06-17T10:13:18.622628Z",
     "start_time": "2024-06-17T10:13:18.611804Z"
    }
   },
   "source": [
    "class TooManyTimesException(Exception):\n",
    "    def __init__(self, message=\"You used this function too many times\"):\n",
    "        self.message = message\n",
    "        super().__init__(self.message)\n",
    "\n",
    "def limit_exe(limit):\n",
    "    def decorator(func):\n",
    "        count = 0\n",
    "        def wrapper(*args, **kwargs):\n",
    "            nonlocal count\n",
    "            if count >= limit:\n",
    "                raise TooManyTimesException(\"Function called too many times\")\n",
    "            count += 1\n",
    "            return func(*args, **kwargs)\n",
    "        return wrapper\n",
    "    return decorator\n",
    "\n",
    "\n",
    "@limit_exe(limit=5)\n",
    "def add(a, b):\n",
    "    return a + b\n",
    "\n",
    "\n",
    "for i in range(10):\n",
    "    try:\n",
    "        print(f\"You used add() function {i} times. Result : \", add(3, 5))\n",
    "    except TooManyTimesException as e:\n",
    "        print(e.message)"
   ],
   "outputs": [
    {
     "name": "stdout",
     "output_type": "stream",
     "text": [
      "You used add() function 0 times. Result :  8\n",
      "You used add() function 1 times. Result :  8\n",
      "You used add() function 2 times. Result :  8\n",
      "You used add() function 3 times. Result :  8\n",
      "You used add() function 4 times. Result :  8\n",
      "Function called too many times\n",
      "Function called too many times\n",
      "Function called too many times\n",
      "Function called too many times\n",
      "Function called too many times\n"
     ]
    }
   ],
   "execution_count": 1
  },
  {
   "cell_type": "markdown",
   "metadata": {},
   "source": [
    "### Exercise 2\n",
    "Create a decorator that controls what a function returns. The decorator must throw an exception if the function returns a string or an int."
   ]
  },
  {
   "cell_type": "code",
   "metadata": {
    "ExecuteTime": {
     "end_time": "2024-06-12T13:09:46.002297Z",
     "start_time": "2024-06-12T13:09:45.981566Z"
    }
   },
   "source": [
    "class WrongType(Exception):\n",
    "    def __init__(self, typeResult, message=\"The function return the wrong type : \"):\n",
    "        self.type = typeResult\n",
    "        self.message = message\n",
    "        super().__init__(self.message + self.type)\n",
    "\n",
    "def checkIfIntOrString(func) : \n",
    "        def wrapper(*args, **kwargs):\n",
    "            result = func(*args, **kwargs)\n",
    "            if isinstance(result, (int, str)) : \n",
    "                raise WrongType(str(type(result)))\n",
    "            return result\n",
    "        return wrapper\n",
    "\n",
    "@checkIfIntOrString\n",
    "def return_string():\n",
    "    return \"Hello\"\n",
    "\n",
    "@checkIfIntOrString\n",
    "def return_integer():\n",
    "    return 5\n",
    "\n",
    "@checkIfIntOrString\n",
    "def return_floats():\n",
    "    return 5.00\n",
    "\n",
    "try:\n",
    "    return_string()\n",
    "except WrongType as e:\n",
    "    print(e)\n",
    "\n",
    "try:\n",
    "    return_integer()\n",
    "except WrongType as e:\n",
    "    print(e)\n",
    "\n",
    "try:\n",
    "    print(return_floats())\n",
    "except WrongType as e:\n",
    "    print(e)\n"
   ],
   "outputs": [
    {
     "name": "stdout",
     "output_type": "stream",
     "text": [
      "The function return the wrong type : <class 'str'>\n",
      "The function return the wrong type : <class 'int'>\n"
     ]
    }
   ],
   "execution_count": 44
  },
  {
   "cell_type": "markdown",
   "metadata": {},
   "source": [
    "### Exercise 3\n",
    "A decorator that displays the time it took for the function to run (basic)."
   ]
  },
  {
   "cell_type": "code",
   "metadata": {
    "ExecuteTime": {
     "end_time": "2024-06-12T13:44:07.367251Z",
     "start_time": "2024-06-12T13:44:07.340713Z"
    }
   },
   "source": [
    "\n",
    "from time import perf_counter\n",
    "def timeCounter(func):\n",
    "    def wrapper(*args, **kwargs):\n",
    "        start_time = perf_counter()\n",
    "        result = func(*args, **kwargs)\n",
    "        end = perf_counter()\n",
    "        print(f\"Time spent in the function: {end - start_time} seconds.\")\n",
    "        return result\n",
    "    return wrapper\n",
    "\n",
    "@timeCounter\n",
    "def add(a,b) :\n",
    "    return a+ b\n",
    "\n",
    "add(5,4)"
   ],
   "outputs": [
    {
     "name": "stdout",
     "output_type": "stream",
     "text": [
      "Time spent in the function: 8.999995770864189e-07 seconds.\n"
     ]
    },
    {
     "data": {
      "text/plain": [
       "9"
      ]
     },
     "execution_count": 63,
     "metadata": {},
     "output_type": "execute_result"
    }
   ],
   "execution_count": 63
  }
 ],
 "metadata": {
  "kernelspec": {
   "display_name": "Python 3",
   "language": "python",
   "name": "python3"
  },
  "language_info": {
   "codemirror_mode": {
    "name": "ipython"
   },
   "file_extension": ".py",
   "mimetype": "text/x-python",
   "name": "python",
   "nbconvert_exporter": "python"
  }
 },
 "nbformat": 4,
 "nbformat_minor": 2
}
