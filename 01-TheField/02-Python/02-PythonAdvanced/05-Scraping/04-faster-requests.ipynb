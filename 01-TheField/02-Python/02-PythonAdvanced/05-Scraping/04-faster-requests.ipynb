{
 "cells": [
  {
   "cell_type": "markdown",
   "metadata": {},
   "source": [
    "# Make your requests faster\n",
    "\n",
    "When you start scraping web-pages or requesting APIs, you will be facing a problem when doing a lot of requests: this is really slow!\n",
    "\n",
    "It's because python is slow! You could say, well it should not be. Let's see how we can speed things up!\n",
    "\n",
    "## Measure performances\n",
    "\n",
    "In this notebook we will need to track how much time some code is taking to execute.\n",
    "To make things easier, we will create a simple decorator that will print the number of micro-seconds a function takes to execute.\n",
    "\n",
    "A good opportonity to practice decorators in a practical example!\n",
    "\n",
    "*Note that you need python3.3 or higher.*"
   ]
  },
  {
   "cell_type": "code",
   "metadata": {
    "ExecuteTime": {
     "end_time": "2024-06-12T09:06:23.957597Z",
     "start_time": "2024-06-12T09:06:21.944096Z"
    }
   },
   "source": [
    "import time\n",
    "\n",
    "def print_timing(func):\n",
    "    '''Create a timing decorator function use @print_timing just above the function you want to time.'''\n",
    "\n",
    "    def wrapper(*arg):\n",
    "        start = time.perf_counter()\n",
    "        \n",
    "        # Run the function decorated\n",
    "        result = func(*arg)\n",
    "\n",
    "        end = time.perf_counter()\n",
    "        execution_time = round((end - start), 2)\n",
    "        print(f'{func.__name__} took {execution_time} sec')\n",
    "        return result\n",
    "\n",
    "    return wrapper\n",
    "\n",
    "\n",
    "@print_timing\n",
    "def example():\n",
    "    time.sleep(2)\n",
    "\n",
    "\n",
    "example()"
   ],
   "outputs": [
    {
     "name": "stdout",
     "output_type": "stream",
     "text": [
      "example took 2.0 sec\n"
     ]
    }
   ],
   "execution_count": 1
  },
  {
   "cell_type": "markdown",
   "metadata": {},
   "source": [
    "## The API\n",
    "\n",
    "For this example, we will use the [quotable.io](https://api.quotable.io) API. It's an online API you can use to generate random quote.\n",
    "\n",
    "But feel free to replace `api_url` value with any API you'd like."
   ]
  },
  {
   "cell_type": "code",
   "metadata": {
    "ExecuteTime": {
     "end_time": "2024-06-12T09:06:59.821105Z",
     "start_time": "2024-06-12T09:06:59.814091Z"
    }
   },
   "source": [
    "api_url = \"https://api.quotable.io/random\""
   ],
   "outputs": [],
   "execution_count": 3
  },
  {
   "cell_type": "markdown",
   "metadata": {},
   "source": [
    "## The \"classic\" way\n",
    "\n",
    "If you start playing with requests, your should probably have something like this:"
   ]
  },
  {
   "cell_type": "code",
   "metadata": {
    "ExecuteTime": {
     "end_time": "2024-06-12T09:07:24.332855Z",
     "start_time": "2024-06-12T09:07:04.866201Z"
    }
   },
   "source": [
    "import requests\n",
    "\n",
    "\n",
    "def basic_request(url: str):\n",
    "    response = requests.get(url)\n",
    "    response_json = response.json()\n",
    "    print(response_json[\"content\"])\n",
    "\n",
    "\n",
    "@print_timing\n",
    "def basic_loop_request(url: str):\n",
    "    # Query 50 times the API\n",
    "    for _ in range(50):\n",
    "        basic_request(url)\n",
    "\n",
    "\n",
    "basic_loop_request(api_url)"
   ],
   "outputs": [
    {
     "name": "stdout",
     "output_type": "stream",
     "text": [
      "Golf is a game in which one endeavors to control a ball with implements ill adapted for the purpose.\n",
      "You cannot be lonely if you like the person you're alone with.\n",
      "We make our own fortunes and we call them fate.\n",
      "To fly as fast as thought, you must begin by knowing that you have already arrived.\n",
      "Every friendship goes through ups and downs. Dysfunctional patterns set in; external situations cause internal friction; you grow apart and then bounce back together.\n",
      "No alibi will save you from accepting the responsibility.\n",
      "Friendship, like credit, is highest when it is not used.\n",
      "No matter how carefully you plan your goals they will never be more than pipe dreams unless you pursue them with gusto.\n",
      "He who controls others may be powerful, but he who has mastered himself is mightier still.\n",
      "The only true wisdom is in knowing you know nothing.\n",
      "He who hath many friends hath none.\n",
      "People ask me what I do in winter when there's no baseball. I'll tell you what I do. I stare out the window and wait for spring.\n",
      "What is past is left behind. The future is yet unreached. Whatever quality is present, clearly see it right there.\n",
      "There is only one happiness in life, to love and be loved.\n",
      "No man was ever wise by chance.\n",
      "Discipline is the bridge between goals and accomplishment.\n",
      "Music in the soul can be heard by the universe.\n",
      "If you want a thing done well, do it yourself.\n",
      "Just because something doesn't do what you planned it to do doesn't mean it's useless.\n",
      "Where there is love there is life.\n",
      "If you want to succeed you should strike out on new paths, rather than travel the worn paths of accepted success.\n",
      "It is not the possession of truth, but the success which attends the seeking after it, that enriches the seeker and brings happiness to him.\n",
      "Don't ruin the present with the ruined past.\n",
      "It takes courage to grow up and become who you really are.\n",
      "Read as you taste fruit or savor wine, or enjoy friendship, love or life.\n",
      "All perceiving is also thinking, all reasoning is also intuition, all observation is also invention.\n",
      "He who learns must suffer. And even in our sleep pain that cannot forget falls drop by drop upon the heart, and in our own despair, against our will, comes wisdom to us by the awful grace of God.\n",
      "Value your friendship. Value your relationships.\n",
      "Correction does much, but encouragement does more.\n",
      "Until you value yourself, you won't value your time. Until you value your time, you won't do anything with it.\n",
      "Mountains cannot be surmounted except by winding paths.\n",
      "It always seems impossible until it's done.\n",
      "Everything that happens as it should, and if you observe carefully, you will find this to be so.\n",
      "Nature is a mutable cloud which is always and never the same.\n",
      "They say that time changes things, but you actually have to change them yourself.\n",
      "If we did the things we are capable of, we would astound ourselves.\n",
      "Quality is not an act; it is a habit.\n",
      "It is the quality of our work which will please God, not the quantity.\n",
      "I'd rather regret the things I've done than regret the things I haven't done.\n",
      "When we are no longer able to change a situation - we are challenged to change ourselves.\n",
      "Happiness does not come about only due to external circumstances; it mainly derives from inner attitudes.\n",
      "It is no use saying, 'We are doing our best.' You have got to succeed in doing what is necessary.\n",
      "There is no charm equal to tenderness of heart.\n",
      "Look back over the past, with its changing empires that rose and fell, and you can foresee the future, too.\n",
      "Reality is merely an illusion, albeit a very persistent one.\n",
      "It always seems impossible until it's done.\n",
      "Nobody made a greater mistake than he who did nothing because he could do only a little.\n",
      "Change is the law of life. And those who look only to the past or present are certain to miss the future.\n",
      "The key to growth is the introduction of higher dimensions of consciousness into our awareness.\n",
      "Know what's important and what isn't. Have the wisdom to know the right thing to do, the integrity to do it, the character to stand up to those who don't, and the courage to stop those who won't.\n",
      "basic_loop_request took 19.46 sec\n"
     ]
    }
   ],
   "execution_count": 4
  },
  {
   "cell_type": "markdown",
   "metadata": {},
   "source": [
    "### Results\n",
    "\n",
    "On my machine it took **17.06 sec for 50 requests**. \n",
    "\n",
    "Pretty slow right? But why is that?\n",
    "\n",
    "Each time you make a request, your computer needs to create a new \"session\", format your request, send it and wait to receive the response before doing it again with the next request."
   ]
  },
  {
   "cell_type": "markdown",
   "metadata": {},
   "source": [
    "## The \"session\" way\n",
    "\n",
    "To speed this, we can use a **\"session\"** that will be share by all the requests.\n",
    "\n",
    "You can picture it as a postman that knows you already, so he knows which bell to ring, where is the mailbox,... Instead of having to search for those each time."
   ]
  },
  {
   "cell_type": "code",
   "metadata": {
    "ExecuteTime": {
     "end_time": "2024-06-12T09:07:49.992696Z",
     "start_time": "2024-06-12T09:07:42.767205Z"
    }
   },
   "source": [
    "from requests import Session\n",
    "\n",
    "\n",
    "def session_request(url: str, session: Session):\n",
    "    # Instead of using request.get, we use our session\n",
    "    response = session.get(url)\n",
    "    response_json = response.json()\n",
    "    print(response_json[\"content\"])\n",
    "\n",
    "\n",
    "@print_timing\n",
    "def session_loop_request(url: str):\n",
    "    # Create shared session for all of your requests\n",
    "    with Session() as session:\n",
    "        # Query 50 times the API\n",
    "        for _ in range(50):\n",
    "            session_request(url, session)\n",
    "\n",
    "\n",
    "session_loop_request(api_url)"
   ],
   "outputs": [
    {
     "name": "stdout",
     "output_type": "stream",
     "text": [
      "Talent is God-given; be humble. Fame is man-given; be thankful. Conceit is self-given; be careful.\n",
      "Very little is needed to make a happy life; it is all within yourself, in your way of thinking.\n",
      "Character develops itself in the stream of life.\n",
      "We could never learn to be brave and patient if there were only joy in the world.\n",
      "Forgiveness is choosing to love. It is the first skill of self-giving love.\n",
      "Obstacles are those frightful things you see when you take your eyes off your goal.\n",
      "Light tomorrow with today!\n",
      "Today you are you! That is truer than true! There is no one alive who is you-er than you!\n",
      "Don't worry about people stealing your ideas. If your ideas are any good, you'll have to ram them down people's throats.\n",
      "Through pride we are ever deceiving ourselves. But deep down below the surface of the average conscience a still, small voice says to us, something is out of tune.\n",
      "That's the risk you take if you change: that people you've been involved with won't like the new you. But other people who do will come along.\n",
      "When we are no longer able to change a situation - we are challenged to change ourselves.\n",
      "It is not the possession of truth, but the success which attends the seeking after it, that enriches the seeker and brings happiness to him.\n",
      "God has given you one face, and you make yourself another.\n",
      "As a cure for worrying, work is better than whisky.\n",
      "Wisdom has never made a bigot, but learning has.\n",
      "We love life, not because we are used to living but because we are used to loving.\n",
      "It is through science that we prove, but through intuition that we discover.\n",
      "One friend in a lifetime is much; two are many; three are hardly possible. Friendship needs a certain parallelism of life, a community of thought, a rivalry of aim.\n",
      "Always be a first-rate version of yourself, instead of a second-rate version of somebody else.\n",
      "The universe is full of magical things, patiently waiting for our wits to grow sharper.\n",
      "It is the province of knowledge to speak, and it is the privilege of wisdom to listen.\n",
      "He who is contented is rich.\n",
      "Don't smother each other. No one can grow in the shade.\n",
      "You need chaos in your soul to give birth to a dancing star.\n",
      "A true friend is someone who is there for you when he'd rather be anywhere else.\n",
      "A poem begins in delight and ends in wisdom.\n",
      "From error to error one discovers the entire truth.\n",
      "Look back over the past, with its changing empires that rose and fell, and you can foresee the future, too.\n",
      "Many sophisticated, intelligent people lack wisdom and common sense.\n",
      "The really unhappy person is the one who leaves undone what they can do, and starts doing what they don't understand; no wonder they come to grief.\n",
      "Keep silence for the most part, and speak only when you must, and then briefly.\n",
      "Do one thing every day that scares you.\n",
      "The way we communicate with others and with ourselves ultimately determines the quality of our lives.\n",
      "Be glad of life because it gives you the chance to love, to work, to play, and to look up at the stars.\n",
      "Never doubt that a small group of thoughtful, committed people can change the world. Indeed. It is the only thing that ever has.\n",
      "A good hockey player plays where the puck is. A great hockey player plays where the puck is going to be.\n",
      "Nothing diminishes anxiety faster than action.\n",
      "We need to find the courage to say NO to the things and people that are not serving us if we want to rediscover ourselves and live our lives with authenticity.\n",
      "Make the best use of what is in your power and take the rest as it happens.\n",
      "None knows the weight of another's burden.\n",
      "Wisdom and penetration are the fruit of experience, not the lessons of retirement and leisure. Great necessities call out great virtues.\n",
      "The journey of a thousand miles begins with one step.\n",
      "I'd rather regret the things that I have done than the things that I have not done.\n",
      "Autumn is a second spring when every leaf is a flower.\n",
      "Time changes everything except something within us which is always surprised by change.\n",
      "Nothing will work unless you do.\n",
      "It is a common experience that a problem difficult at night is resolved in the morning after the committee of sleep has worked on it.\n",
      "One who gains strength by overcoming obstacles possesses the only strength which can overcome adversity.\n",
      "The energy of the mind is the essence of life.\n",
      "session_loop_request took 7.21 sec\n"
     ]
    }
   ],
   "execution_count": 5
  },
  {
   "cell_type": "markdown",
   "metadata": {},
   "source": [
    "### Results\n",
    "\n",
    "It took me **5.99 sec for 50 requests**. That's better!\n",
    "\n",
    "And as you can see, I didn't change that much in the code."
   ]
  },
  {
   "cell_type": "markdown",
   "metadata": {},
   "source": [
    "## The \"Async\" way\n",
    "\n",
    "If you need even more performances, you will need to use [AsyncIo](https://docs.python.org/3/library/asyncio.html).\n",
    "\n",
    "This is a library to allow you to run asynchronous code.\n",
    "\n",
    "Why is that more efficiant? Well, when you send a request you need to wait for the response. And during the waiting time, our computer does nothing.\n",
    "If you count all the time the computer is just \"waiting\" on 50 or more requests, you will be surprised to see that most of the computing time is just waiting for the server to respond.\n",
    "\n",
    "[AsyncIo](https://docs.python.org/3/library/asyncio.html) allow you to bypass that.\n",
    "\n",
    "But as always, it has a cost: complexity.\n",
    "\n",
    "Making your code async will complixify the code a lot and make the debugging not a pleasant experience. Also, you will go so fast that you could be banned by the server.\n",
    "\n",
    "My advice? Use it only if you need it.\n",
    "\n",
    "I will show you a simple example but you want to understand it better, I really advice you **[this video](https://www.youtube.com/watch?v=qAh5dDODJ5k)**!\n",
    "\n",
    "### Requirements\n",
    "In order to simplify a bit the code, I will use [httpx](https://www.python-httpx.org/) a python library that is working the same way as the `requests` module but with few helpers for async."
   ]
  },
  {
   "cell_type": "code",
   "metadata": {
    "ExecuteTime": {
     "end_time": "2024-06-12T09:09:01.873027Z",
     "start_time": "2024-06-12T09:08:59.075190Z"
    }
   },
   "source": [
    "!pip install httpx"
   ],
   "outputs": [
    {
     "name": "stdout",
     "output_type": "stream",
     "text": [
      "Requirement already satisfied: httpx in c:\\users\\lkris\\appdata\\local\\packages\\pythonsoftwarefoundation.python.3.9_qbz5n2kfra8p0\\localcache\\local-packages\\python39\\site-packages (0.27.0)\n",
      "Requirement already satisfied: anyio in c:\\users\\lkris\\appdata\\local\\packages\\pythonsoftwarefoundation.python.3.9_qbz5n2kfra8p0\\localcache\\local-packages\\python39\\site-packages (from httpx) (4.4.0)\n",
      "Requirement already satisfied: certifi in c:\\users\\lkris\\appdata\\local\\packages\\pythonsoftwarefoundation.python.3.9_qbz5n2kfra8p0\\localcache\\local-packages\\python39\\site-packages (from httpx) (2024.2.2)\n",
      "Requirement already satisfied: httpcore==1.* in c:\\users\\lkris\\appdata\\local\\packages\\pythonsoftwarefoundation.python.3.9_qbz5n2kfra8p0\\localcache\\local-packages\\python39\\site-packages (from httpx) (1.0.5)\n",
      "Requirement already satisfied: idna in c:\\users\\lkris\\appdata\\local\\packages\\pythonsoftwarefoundation.python.3.9_qbz5n2kfra8p0\\localcache\\local-packages\\python39\\site-packages (from httpx) (3.7)\n",
      "Requirement already satisfied: sniffio in c:\\users\\lkris\\appdata\\local\\packages\\pythonsoftwarefoundation.python.3.9_qbz5n2kfra8p0\\localcache\\local-packages\\python39\\site-packages (from httpx) (1.3.1)\n",
      "Requirement already satisfied: h11<0.15,>=0.13 in c:\\users\\lkris\\appdata\\local\\packages\\pythonsoftwarefoundation.python.3.9_qbz5n2kfra8p0\\localcache\\local-packages\\python39\\site-packages (from httpcore==1.*->httpx) (0.14.0)\n",
      "Requirement already satisfied: exceptiongroup>=1.0.2 in c:\\users\\lkris\\appdata\\local\\packages\\pythonsoftwarefoundation.python.3.9_qbz5n2kfra8p0\\localcache\\local-packages\\python39\\site-packages (from anyio->httpx) (1.2.1)\n",
      "Requirement already satisfied: typing-extensions>=4.1 in c:\\users\\lkris\\appdata\\local\\packages\\pythonsoftwarefoundation.python.3.9_qbz5n2kfra8p0\\localcache\\local-packages\\python39\\site-packages (from anyio->httpx) (4.12.0)\n"
     ]
    }
   ],
   "execution_count": 6
  },
  {
   "cell_type": "markdown",
   "metadata": {},
   "source": [
    "### Warning!\n",
    "This code won't work in jupyter notebook, there are subtilities for async in jupyter notebook. See [this thread](https://stackoverflow.com/questions/47518874/how-do-i-run-python-asyncio-code-in-a-jupyter-notebook) for more informations.\n",
    "\n",
    "To make it simpler, I will put this code in a .py file and run it in command line:"
   ]
  },
  {
   "cell_type": "markdown",
   "metadata": {},
   "source": [
    "```python\n",
    "from httpx import AsyncClient\n",
    "import asyncio\n",
    "import time\n",
    "\n",
    "\n",
    "api_url = \"https://api.quotable.io/random\"\n",
    "\n",
    "\n",
    "async def session_request_async(url: str, session: AsyncClient):\n",
    "    # Instead of using request.get, we use our session\n",
    "    response = await session.get(url)\n",
    "    response_json = response.json()\n",
    "    print(response_json[\"content\"])\n",
    "    return response_json\n",
    "\n",
    "\n",
    "async def session_loop_request_async(url: str):\n",
    "    # Create shared session for all of your requests\n",
    "    async with AsyncClient() as session:\n",
    "        # Create a list of empty tasks\n",
    "        tasks = []\n",
    "        # Query 50 times the API\n",
    "        for _ in range(50):\n",
    "            # Add a request to tasks\n",
    "            tasks.append(\n",
    "                asyncio.create_task(\n",
    "                    session_request_async(url, session)        \n",
    "                )\n",
    "            )\n",
    "        # Now that all the tasks are registred, run them\n",
    "        responses = await asyncio.gather(*tasks)\n",
    "            \n",
    "            \n",
    "\n",
    "\n",
    "start = time.perf_counter()\n",
    "\n",
    "# We need to use asyncio.run to run the async function\n",
    "asyncio.run(session_loop_request_async(api_url))\n",
    "\n",
    "end = time.perf_counter()\n",
    "execution_time = round((end - start), 2)\n",
    "print(f'session_loop_request_async took {execution_time} sec')\n",
    "```"
   ]
  },
  {
   "cell_type": "code",
   "metadata": {
    "ExecuteTime": {
     "end_time": "2024-06-12T09:10:07.467491Z",
     "start_time": "2024-06-12T09:10:05.948050Z"
    }
   },
   "source": [
    "!python3 ./assets/async_requests.py"
   ],
   "outputs": [
    {
     "name": "stdout",
     "output_type": "stream",
     "text": [
      "May all beings have happy minds.\n",
      "Believe you can and you're halfway there.\n",
      "While we stop to think, we often miss our opportunity.\n",
      "Knowing others is wisdom, knowing yourself is Enlightenment.\n",
      "Promises are the uniquely human way of ordering the future, making it predictable and reliable to the extent that this is humanly possible.\n",
      "True knowledge exists in knowing that you know nothing.\n",
      "Make it your habit not to be critical about small things.\n",
      "Respect should be earned by actions, and not acquired by years.\n",
      "Nature is a mutable cloud which is always and never the same.\n",
      "If you have one true friend, you have more than your share.\n",
      "He who knows himself is enlightened.\n",
      "Good, better, best. Never let it rest. ‘Til your good is better and your better is best.\n",
      "A man sees in the world what he carries in his heart.\n",
      "We must embrace pain and burn it as fuel for our journey.\n",
      "Where all think alike, no one thinks very much.\n",
      "Opportunity is missed by most people because it is dressed in overalls and looks like work.\n",
      "They must often change, who would be constant in happiness or wisdom.\n",
      "The language of friendship is not words but meanings.\n",
      "Music is a higher revelation than all wisdom and philosophy.\n",
      "One of the most beautiful qualities of true friendship is to understand and to be understood.\n",
      "The least movement is of importance to all nature. The entire ocean is affected by a pebble.\n",
      "To wear your heart on your sleeve isn't a very good plan; you should wear it inside, where it functions best.\n",
      "Laws alone can not secure freedom of expression; in order that every man present his views without penalty there must be spirit of tolerance in the entire population.\n",
      "Many of life's failures are people who did not realize how close they were to success when they gave up.\n",
      "Build a better mousetrap and the world will beat a path to your door.\n",
      "I believe that every person is born with talent.\n",
      "Never deny a diagnosis but do deny the negative verdict that may go with it.\n",
      "The greatest minds are capable of the greatest vices as well as of the greatest virtues.\n",
      "By failing to prepare, you are preparing to fail.\n",
      "Gratitude makes sense of our past, brings peace for today, and creates a vision for tomorrow.\n",
      "If you can't feed a hundred people, then feed just one.\n",
      "Learn from yesterday, live for today, hope for tomorrow.\n",
      "The only Zen you find on the tops of mountains is the Zen you bring up there.\n",
      "Life's most persistent and urgent question is, 'What are you doing for others?'\n",
      "May all beings have happy minds.\n",
      "Never make friends with people who are above or below you in status. Such friendships will never give you any happiness.\n",
      "There is nothing in a caterpillar that tells you it's going to be a butterfly.\n",
      "Strong beliefs win strong men, and then make them stronger.\n",
      "Opportunity does not knock, it presents itself when you beat down the door.\n",
      "Love is composed of a single soul inhabiting two bodies.\n",
      "One's friends are that part of the human race with which one can be human.\n",
      "The truth of the matter is that you always know the right thing to do. The hard part is doing it.\n",
      "I have just three things to teach: simplicity, patience, compassion. These three are your greatest treasures.\n",
      "Autumn is a second spring when every leaf is a flower.\n",
      "In three words I can sum up everything I've learned about life: it goes on.\n",
      "Friendship... is not something you learn in school. But if you haven't learned the meaning of friendship, you really haven't learned anything.\n",
      "Patience is the companion of wisdom.\n",
      "Friendship, like love, is destroyed by long absence, though it may be increased by short intermissions.\n",
      "The pine stays green in winter... wisdom in hardship.\n",
      "A passion for politics stems usually from an insatiable need, either for power, or for friendship and adulation, or a combination of both.\n",
      "session_loop_request_async took 0.74 sec\n"
     ]
    }
   ],
   "execution_count": 7
  },
  {
   "cell_type": "markdown",
   "metadata": {},
   "source": [
    "### Results\n",
    "It only took me **0.8 sec for 50 requests**! That's impressive.\n",
    "\n",
    "But as you can see, it is harder to write, structure and debug. So make sure you **really** need it if you consider using this method."
   ]
  },
  {
   "cell_type": "markdown",
   "metadata": {},
   "source": [
    "## Summary\n",
    "\n",
    "If we gather all our results:\n",
    "\n",
    "| Method                     | Execution time for 50 requests |\n",
    "|----------------------------|--------------------------------|\n",
    "| `requests.get` loop        | 17.06 sec                  |\n",
    "| `requests` with `Session`  | 5.99 sec                   |\n",
    "| `httpx` with `AsyncClient` | 0.8 sec                   |"
   ]
  },
  {
   "cell_type": "markdown",
   "metadata": {},
   "source": []
  }
 ],
 "metadata": {
  "kernelspec": {
   "display_name": "Python 3.10.5 64-bit",
   "language": "python",
   "name": "python3"
  },
  "language_info": {
   "codemirror_mode": {
    "name": "ipython",
    "version": 3
   },
   "file_extension": ".py",
   "mimetype": "text/x-python",
   "name": "python",
   "nbconvert_exporter": "python",
   "pygments_lexer": "ipython3",
   "version": "3.10.5"
  },
  "orig_nbformat": 4,
  "vscode": {
   "interpreter": {
    "hash": "b460384b52104c1e5b9cf54bee46a255d22b2bef338f75ac4ad5d48196028d3c"
   }
  }
 },
 "nbformat": 4,
 "nbformat_minor": 2
}
