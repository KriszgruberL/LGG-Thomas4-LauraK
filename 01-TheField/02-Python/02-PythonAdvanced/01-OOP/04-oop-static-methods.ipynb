{
 "cells": [
  {
   "cell_type": "markdown",
   "metadata": {},
   "source": [
    "# What is a static method in python?\n",
    "\n",
    "Static methods are methods within a class that have no access to anything else in the class (no `self` keyword or `cls` keyword). \n",
    "\n",
    "- They cannot change or look at any object attributes or call other methods within the class. \n",
    "- They can be thought of as a special kind of function that sits inside of the class. \n",
    "- When we create a static method we must use something called a [decorator](https://realpython.com/primer-on-python-decorators/#syntactic-sugar). The decorator for a static method is `@staticmethod`. No worries, we'll go deeper into the decorators later.\n",
    "\n",
    "In other words, you can create a callable class using the static method and use it with some restrictions. It helps developers write code in a safe architectural way to prevent conflicts in the code.\n",
    "\n",
    "### Example: Calculator Class\n",
    "\n",
    "Below we definte the `Calculator` class with two methods `multiply()` which is static and `add()`."
   ]
  },
  {
   "cell_type": "code",
   "metadata": {
    "ExecuteTime": {
     "end_time": "2024-06-11T08:53:14.189598Z",
     "start_time": "2024-06-11T08:53:14.171992Z"
    }
   },
   "source": [
    "class Calculator:\n",
    "    \"\"\"\n",
    "    Class that contains methods to perform basic operations.\n",
    "    \"\"\"\n",
    "    def __init__(self, number_one, number_two):\n",
    "        self.number_one = number_one\n",
    "        self.number_two = number_two\n",
    "\n",
    "    def multiply(self):\n",
    "        result = self.number_one * self.number_two\n",
    "        print(f\"Multiply: {result}\")\n",
    "\n",
    "    @staticmethod\n",
    "    def add(number_one, number_two):\n",
    "        result = number_one + number_two\n",
    "        print(f\"Addition: {result}\")"
   ],
   "outputs": [],
   "execution_count": 1
  },
  {
   "cell_type": "code",
   "metadata": {
    "ExecuteTime": {
     "end_time": "2024-06-11T08:53:24.178833Z",
     "start_time": "2024-06-11T08:53:24.162583Z"
    }
   },
   "source": [
    "Calculator.add(2, 5)"
   ],
   "outputs": [
    {
     "name": "stdout",
     "output_type": "stream",
     "text": [
      "Addition: 7\n"
     ]
    }
   ],
   "execution_count": 2
  },
  {
   "cell_type": "markdown",
   "metadata": {},
   "source": [
    "Notice here that we didn't need to first can access the method without creating an instance of the class. Let's try it with out ``multiply()`` method. In this case, it needs to be called by creating an instance because it uses the class properties."
   ]
  },
  {
   "cell_type": "code",
   "metadata": {
    "ExecuteTime": {
     "end_time": "2024-06-11T08:58:29.026066Z",
     "start_time": "2024-06-11T08:58:29.011138Z"
    }
   },
   "source": [
    "Object = Calculator(2,5)\n",
    "Object.multiply()"
   ],
   "outputs": [
    {
     "name": "stdout",
     "output_type": "stream",
     "text": [
      "Multiply: 10\n"
     ]
    }
   ],
   "execution_count": 4
  },
  {
   "cell_type": "markdown",
   "metadata": {},
   "source": [
    "### Example: Using the built-in staticmethod() function\n",
    "\n",
    "We can also use the `staticmethod()` function to convert a function to a static function."
   ]
  },
  {
   "cell_type": "code",
   "metadata": {
    "ExecuteTime": {
     "end_time": "2024-06-11T08:58:31.556022Z",
     "start_time": "2024-06-11T08:58:31.542850Z"
    }
   },
   "source": [
    "class Person:\n",
    "    \"\"\"\n",
    "    Class that defines a person who has an age defined by the age() method.\n",
    "    \"\"\"\n",
    "\n",
    "    def age(age_number):\n",
    "        if age_number <= 30:\n",
    "            print(\"Young\")\n",
    "\n",
    "        elif age_number <= 50:\n",
    "            print(\"Middle Age\")\n",
    "\n",
    "        else:\n",
    "            print(\"Senior Age\")\n",
    "\n",
    "\n",
    "John = Person\n",
    "age_category = staticmethod(John.age(45))"
   ],
   "outputs": [
    {
     "name": "stdout",
     "output_type": "stream",
     "text": [
      "Middle Age\n"
     ]
    }
   ],
   "execution_count": 5
  },
  {
   "cell_type": "markdown",
   "metadata": {},
   "source": [
    "### Additional Resources\n",
    "\n",
    "* [Python staticmethod()](https://www.programiz.com/python-programming/methods/built-in/staticmethod#:~:text=What%20is%20a%20static%20method,the%20state%20of%20the%20object.)\n",
    "* [Python classmethod()](https://www.programiz.com/python-programming/methods/built-in/classmethod)"
   ]
  }
 ],
 "metadata": {
  "kernelspec": {
   "display_name": "Python 3.9.13 64-bit (windows store)",
   "language": "python",
   "name": "python3"
  },
  "language_info": {
   "codemirror_mode": {
    "name": "ipython",
    "version": 3
   },
   "file_extension": ".py",
   "mimetype": "text/x-python",
   "name": "python",
   "nbconvert_exporter": "python",
   "pygments_lexer": "ipython3",
   "version": "3.9.13"
  },
  "vscode": {
   "interpreter": {
    "hash": "5af58ead5434bcaec4ba320c097b4ab95f4d47b5cc097d838e053a401accc545"
   }
  }
 },
 "nbformat": 4,
 "nbformat_minor": 2
}
