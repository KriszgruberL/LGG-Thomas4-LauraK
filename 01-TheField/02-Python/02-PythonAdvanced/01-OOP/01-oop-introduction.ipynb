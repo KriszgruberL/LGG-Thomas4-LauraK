{
 "cells": [
  {
   "attachments": {},
   "cell_type": "markdown",
   "metadata": {},
   "source": [
    "# Introduction to object-oriented programming in Python"
   ]
  },
  {
   "attachments": {},
   "cell_type": "markdown",
   "metadata": {},
   "source": [
    "So far, you've become familiar with procedural programming, which structures a program like a recipe in that it provides a set of steps, in the form of functions and code blocks, that flow sequentially in order to complete a task.\n",
    "\n",
    "**Object-oriented programming (OOP)** is a method of structuring a program by bundling related properties and behaviors into individual objects.\n",
    "\n",
    "Let's look at the type of data."
   ]
  },
  {
   "cell_type": "code",
   "metadata": {
    "ExecuteTime": {
     "end_time": "2024-06-11T07:24:20.629686Z",
     "start_time": "2024-06-11T07:24:20.602982Z"
    }
   },
   "source": [
    "first_name = \"James\"\n",
    "last_name = \"Bond\"\n",
    "age = 39\n",
    "weigth = 81.56\n",
    "double_agent = True\n",
    "login = \"007\"\n",
    "agent = [first_name, last_name, age, weigth, double_agent, login]\n",
    "\n",
    "print(first_name, type(first_name))\n",
    "print(last_name, type(last_name))\n",
    "print(age, type(age))\n",
    "print(weigth, type(weigth))\n",
    "print(agent, type(agent))"
   ],
   "outputs": [
    {
     "name": "stdout",
     "output_type": "stream",
     "text": [
      "James <class 'str'>\n",
      "Bond <class 'str'>\n",
      "39 <class 'int'>\n",
      "81.56 <class 'float'>\n",
      "['James', 'Bond', 39, 81.56, True, '007'] <class 'list'>\n"
     ]
    }
   ],
   "execution_count": 1
  },
  {
   "attachments": {},
   "cell_type": "markdown",
   "metadata": {},
   "source": [
    "Look when you check the data type, you can see that there is the word class in front of all types. The `str` type is a class (so an object), but also integers, float, etc. Everything in Python is an object! \n",
    "\n",
    "#### Mutable and Immutable Objects\n",
    "\n",
    "To close this introduction, it's important to note that there are two types of objects in python i.e. Mutable and Immutable objects. \n",
    "\n",
    "Whenever an object is instantiated, it is assigned a unique object id. The type of the object is defined at the runtime and it can’t be changed afterwards. However, it’s state can be changed if it is a mutable object.\n",
    "\n",
    "Some of the **mutable** data types in Python are list, dictionary, set and user-defined classes.\n",
    "\n",
    "On the other hand, some of the **immutable** data types are int, float, decimal, bool, string, tuple, and range.\n",
    "\n",
    "<img src=\"https://miro.medium.com/max/572/1*0Z1bXtvFVj5RIhn0EfFNAQ.png\" width=350px> </img>\n",
    "\n",
    "Let's see a short example! We will create an immutable object of class `int` and use the Python native function `id()` to know the reference of the object. "
   ]
  },
  {
   "cell_type": "code",
   "metadata": {
    "ExecuteTime": {
     "end_time": "2024-06-11T07:39:45.754177Z",
     "start_time": "2024-06-11T07:39:45.646937Z"
    }
   },
   "source": [
    "x = 10  # Creating the int() instance\n",
    "y = 10\n",
    "print(id(x), id(y))\n",
    "print(x is y)  # comparing the types"
   ],
   "outputs": [
    {
     "name": "stdout",
     "output_type": "stream",
     "text": [
      "1540434324048 1540434324048\n",
      "True\n"
     ]
    }
   ],
   "execution_count": 2
  },
  {
   "attachments": {},
   "cell_type": "markdown",
   "metadata": {},
   "source": [
    "It can be seen here that both the `x` and `y` variables point to the same reference. Note that this is particular to this example, it won't be true for larger numbers (try it out yourself or see [this article](https://realpython.com/lessons/small-integer-caching/)). \n",
    "\n",
    "Now, let's change the value of `x`."
   ]
  },
  {
   "cell_type": "code",
   "metadata": {
    "ExecuteTime": {
     "end_time": "2024-06-11T07:39:58.624968Z",
     "start_time": "2024-06-11T07:39:58.604214Z"
    }
   },
   "source": [
    "x += 1\n",
    "print(id(x), id(y))\n",
    "print(x is y)  # comparing the types"
   ],
   "outputs": [
    {
     "name": "stdout",
     "output_type": "stream",
     "text": [
      "1540434324080 1540434324048\n",
      "False\n"
     ]
    }
   ],
   "execution_count": 3
  },
  {
   "attachments": {},
   "cell_type": "markdown",
   "metadata": {},
   "source": [
    "This time we see that the variable no longer points to the same reference. Let's repeat the example with a mutable object, a `List`."
   ]
  },
  {
   "cell_type": "code",
   "metadata": {
    "ExecuteTime": {
     "end_time": "2024-06-11T07:41:05.897769Z",
     "start_time": "2024-06-11T07:41:05.883232Z"
    }
   },
   "source": [
    "person = [\"James\", \"Bond\", \"007\", \"Secret agent\"]\n",
    "person_copy = person\n",
    "print(id(person), id(person_copy))\n",
    "print(person is person_copy)"
   ],
   "outputs": [
    {
     "name": "stdout",
     "output_type": "stream",
     "text": [
      "1540505363840 1540505363840\n",
      "True\n"
     ]
    }
   ],
   "execution_count": 4
  },
  {
   "attachments": {},
   "cell_type": "markdown",
   "metadata": {},
   "source": [
    "Now, let modify both lists:\n",
    "\n",
    " "
   ]
  },
  {
   "cell_type": "code",
   "metadata": {
    "ExecuteTime": {
     "end_time": "2024-06-11T07:41:21.181860Z",
     "start_time": "2024-06-11T07:41:21.165048Z"
    }
   },
   "source": [
    "person += [\"English\"]\n",
    "person_copy += [\"Man\"]\n",
    "print(id(person), id(person_copy))\n",
    "print(person, person_copy)"
   ],
   "outputs": [
    {
     "name": "stdout",
     "output_type": "stream",
     "text": [
      "1540505363840 1540505363840\n",
      "['James', 'Bond', '007', 'Secret agent', 'English', 'Man'] ['James', 'Bond', '007', 'Secret agent', 'English', 'Man']\n"
     ]
    }
   ],
   "execution_count": 5
  },
  {
   "attachments": {},
   "cell_type": "markdown",
   "metadata": {},
   "source": [
    "We see that, \n",
    "\n",
    "1. Despite the changes made in `person`, the references do not change.\n",
    "2. The changes affect both the variable `person` and the variable `person_copy`.\n",
    "\n",
    "So we understand the consequences that this could have. It is therefore very useful to know if you are handling a mutable or immutable object."
   ]
  },
  {
   "attachments": {},
   "cell_type": "markdown",
   "metadata": {},
   "source": [
    "In practice, objects are variables that can themselves contain functions and variables.  The functions that are contained inside an object have a special name. They are called **methods**. This implies that each object has methods and attributes, and you already know some!\n",
    "\n",
    "Imagine that we want to capitalize the first letter of a string. There is already a **method** for this in the `str` class. This is the `capitalize()` method.\n",
    "\n"
   ]
  },
  {
   "cell_type": "code",
   "metadata": {
    "ExecuteTime": {
     "end_time": "2024-06-11T07:41:42.358419Z",
     "start_time": "2024-06-11T07:41:42.351896Z"
    }
   },
   "source": [
    "text = \"hello, and welcome to my world.\"\n",
    "capitalize_text = text.capitalize()\n",
    "print(capitalize_text)"
   ],
   "outputs": [
    {
     "name": "stdout",
     "output_type": "stream",
     "text": [
      "Hello, and welcome to my world.\n"
     ]
    }
   ],
   "execution_count": 6
  },
  {
   "attachments": {},
   "cell_type": "markdown",
   "metadata": {},
   "source": [
    "### Why are methods useful?\n",
    "\n",
    "Imagine you want to append the number 5 to `my_list`. There are at least two ways you can do this:\n",
    "\n",
    "a. Run `my_list.append(5)`. In this case, `append()` is a method of the `list` class of which `my_list` is part of.\n",
    "\n",
    "b. Write `append_to_list(my_list, 5)` where `append_to_list()` is a function that would add an element (`5` here) at the end of a list (`my_list` here).\n",
    "\n",
    "Which of the two options is simplest?\n",
    "\n",
    "Option a, of course! But behind Object-Oriented Programming is not only the purely aesthetic concern, it also allows to create complex code with simple and reusable building blocks."
   ]
  },
  {
   "attachments": {},
   "cell_type": "markdown",
   "metadata": {},
   "source": [
    "### User-defined Classes\n",
    "\n",
    "We have seen examples of classes that store simple information like numbers or strings. \n",
    "\n",
    "What if we want to build something more complex?\n",
    "\n",
    "A class is an abstract blueprint used to create user-defined data structures. Classes often represent broad categories that share **attributes**.\n",
    "\n",
    "Classes define functions called **methods**, which identify the behaviors and actions that an object created from the class can perform with its data. "
   ]
  },
  {
   "attachments": {},
   "cell_type": "markdown",
   "metadata": {},
   "source": [
    "### Example: Car Class\n",
    "\n",
    "For example, imagine a `Car` class that will be used to create objects that are cars. \n",
    "\n",
    "This class will be able to define a color attribute, a speed attribute, etc. These attributes correspond to properties that can exist for a car. \n",
    "\n",
    "The `Car` class can also define a `rolling()` method. A method, in a way, corresponds to an action, here the action of driving can be performed by a car. \n",
    "\n",
    "If we imagine an `Aircraft` class, it will be able to define a `fly()` method. It will also be able to define a `rolling()` method. \n",
    "\n",
    "On the other hand, the `Car` class will not have a `steal()` method because a car cannot steal. Similarly, the `Aircraft` class may have an `altitude` attribute but this will not be the case for the `Car` class."
   ]
  },
  {
   "attachments": {},
   "cell_type": "markdown",
   "metadata": {},
   "source": [
    "### Let's create a car class!"
   ]
  },
  {
   "attachments": {},
   "cell_type": "markdown",
   "metadata": {},
   "source": [
    "Our `Car` class is a kind of factory that creates cars.\n",
    "\n",
    "The `__init__()` method is called when creating an object. This is a special method, called a *constructor*, that is invariably called when you want to create an object from your class.\n",
    "\n",
    "In concrete terms, a constructor is a method of our object that is responsible for creating our attributes. In truth, it is even the method that will be called when we want to create our object."
   ]
  },
  {
   "cell_type": "code",
   "metadata": {
    "ExecuteTime": {
     "end_time": "2024-06-11T07:45:55.999959Z",
     "start_time": "2024-06-11T07:45:55.975842Z"
    }
   },
   "source": [
    "class Car:\n",
    "    def __init__(self):\n",
    "        self.name = \"Ferrari\""
   ],
   "outputs": [],
   "execution_count": 7
  },
  {
   "attachments": {},
   "cell_type": "markdown",
   "metadata": {},
   "source": [
    "In our class, we find the instantiation of our name attribute. We create a variable `name` and give it as value `\"Ferrari\"`.\n",
    "\n",
    "Remember, a class is a blueprint/factory and an object is the actual item. In this example,\n",
    "\n",
    "* `class Car` is the blueprint of a car\n",
    "* `__init__(self)` method is the one that is going to be defining the attributes that any car will have\n",
    "* `self` keyword refers to the object itself. So when we say `self.name = \"Ferrari\"`, we are saying that when constructing a new `Car` object, assign to the new object, designated by the `self` keyword, an attribute called `name` with the value `\"Ferrari\"`\n",
    "\n",
    "\n",
    "Objects\n",
    "\n",
    "**Objects** are instances of classes created with specific data. You can create as many objects as you want with a class. Using the class `Car` we can create any car model we want! \n",
    "\n",
    "![car_class](https://encrypted-tbn0.gstatic.com/images?q=tbn:ANd9GcTkP4Ok9kY1Wgq3PjiAvZzJMrMS4mQ5FTPjWi_wKTVSPLx1w7Mwrk5v8OmwdUVgq_Da21k&usqp=CAU)\n",
    "\n",
    "Now let's create our car. Calling `Car()` will call the `__init__(self)` method in `Car`.\n",
    "\n",
    "You can access create a new attribute and access it's value using `.attribute_name`."
   ]
  },
  {
   "cell_type": "code",
   "metadata": {
    "ExecuteTime": {
     "end_time": "2024-06-11T07:47:29.581252Z",
     "start_time": "2024-06-11T07:47:29.566121Z"
    }
   },
   "source": [
    "# bombo is the name of my class instance. Class instance and object are synonyms.\n",
    "bombo = Car()"
   ],
   "outputs": [],
   "execution_count": 8
  },
  {
   "cell_type": "code",
   "metadata": {
    "ExecuteTime": {
     "end_time": "2024-06-11T07:47:31.385707Z",
     "start_time": "2024-06-11T07:47:31.307927Z"
    }
   },
   "source": [
    "# A car object\n",
    "type(bombo)"
   ],
   "outputs": [
    {
     "data": {
      "text/plain": [
       "__main__.Car"
      ]
     },
     "execution_count": 9,
     "metadata": {},
     "output_type": "execute_result"
    }
   ],
   "execution_count": 9
  },
  {
   "cell_type": "code",
   "metadata": {
    "ExecuteTime": {
     "end_time": "2024-06-11T07:47:33.908646Z",
     "start_time": "2024-06-11T07:47:33.898612Z"
    }
   },
   "source": [
    "# We can access the name attribute of our object\n",
    "bombo.name"
   ],
   "outputs": [
    {
     "data": {
      "text/plain": [
       "'Ferrari'"
      ]
     },
     "execution_count": 10,
     "metadata": {},
     "output_type": "execute_result"
    }
   ],
   "execution_count": 10
  },
  {
   "cell_type": "code",
   "metadata": {
    "ExecuteTime": {
     "end_time": "2024-06-11T07:47:36.533441Z",
     "start_time": "2024-06-11T07:47:36.518280Z"
    }
   },
   "source": [
    "# You can create an attribute for your object at any time:\n",
    "bombo.model = \"250\""
   ],
   "outputs": [],
   "execution_count": 11
  },
  {
   "cell_type": "code",
   "metadata": {
    "ExecuteTime": {
     "end_time": "2024-06-11T07:47:38.479963Z",
     "start_time": "2024-06-11T07:47:38.461358Z"
    }
   },
   "source": [
    "bombo.model"
   ],
   "outputs": [
    {
     "data": {
      "text/plain": [
       "'250'"
      ]
     },
     "execution_count": 12,
     "metadata": {},
     "output_type": "execute_result"
    }
   ],
   "execution_count": 12
  },
  {
   "attachments": {},
   "cell_type": "markdown",
   "metadata": {},
   "source": [
    "\n",
    "### Example: Let's create a new `Person` class "
   ]
  },
  {
   "attachments": {},
   "cell_type": "markdown",
   "metadata": {},
   "source": [
    "We still have to make a slightly smarter manufacturer. For the moment, whatever the object created, it has the same name, i.e. for `Car` it was always `\"Ferrari\"`.\n",
    "\n",
    "Let's create this time, a person class with name, first name, age and place of residence. You can change them later, of course, but you can also make the constructor `(__init__(self))` take several parameters, let's say... the name and the first name, to start with."
   ]
  },
  {
   "cell_type": "code",
   "metadata": {
    "ExecuteTime": {
     "end_time": "2024-06-11T07:48:18.071628Z",
     "start_time": "2024-06-11T07:48:18.036322Z"
    }
   },
   "source": [
    "class Person:\n",
    "    \"\"\"Class defining a person characterized by :\n",
    "    - his name\n",
    "    - his first name\n",
    "    - his age\n",
    "    - his place of residence\"\"\"\n",
    "\n",
    "    def __init__(self, firstname, lastname):\n",
    "        \"\"\"Constructor our class\"\"\"\n",
    "        self.firstname = firstname\n",
    "        self.lastname = lastname\n",
    "        self.age = 34\n",
    "        self.place_residence = \"Brussels\""
   ],
   "outputs": [],
   "execution_count": 13
  },
  {
   "cell_type": "code",
   "metadata": {
    "ExecuteTime": {
     "end_time": "2024-06-11T07:48:20.885149Z",
     "start_time": "2024-06-11T07:48:20.866708Z"
    }
   },
   "source": [
    "coach = Person(\"Ludovic\", \"Patho\")\n",
    "print(coach)"
   ],
   "outputs": [
    {
     "name": "stdout",
     "output_type": "stream",
     "text": [
      "<__main__.Person object at 0x00000166ACF5A9A0>\n"
     ]
    }
   ],
   "execution_count": 14
  },
  {
   "attachments": {},
   "cell_type": "markdown",
   "metadata": {},
   "source": [
    "First, the definition of the class. It consists of the keyword `class`, the name of the class and the famous column `:`.\n",
    "\n",
    "In OOP **constructor** is a special method. Constructors are used generally to initializing the value. The constructor is called automatically, when an object of class is created. Constructor does the work to initialize or assign the values to the members (class variables and class methods) of the class. \n",
    "\n",
    "The method named  ``__init__()`` is the constructor in Python. It is called always when an object is created.\n",
    "\n",
    "A constructor is a rather classic function: you can define parameters, by default or not, named or not. When you want to create your object, you will call the name of the class by passing in brackets the parameters to use.\n",
    "\n",
    "In our example, it initializes the object ``Person()`` with age 34 and residence in Brussels, and asks the user to pass the value for first name and last name. "
   ]
  },
  {
   "cell_type": "code",
   "metadata": {
    "ExecuteTime": {
     "end_time": "2024-06-11T07:50:51.418868Z",
     "start_time": "2024-06-11T07:50:51.406353Z"
    }
   },
   "source": [
    "(coach.firstname, coach.lastname, coach.age, coach.place_residence)"
   ],
   "outputs": [
    {
     "data": {
      "text/plain": [
       "('Ludovic', 'Patho', 34, 'Brussels')"
      ]
     },
     "execution_count": 15,
     "metadata": {},
     "output_type": "execute_result"
    }
   ],
   "execution_count": 15
  },
  {
   "attachments": {},
   "cell_type": "markdown",
   "metadata": {},
   "source": [
    "**Exercise**: Create a new attribute, birthday, for this object. His birthday is 24/06/1984."
   ]
  },
  {
   "cell_type": "code",
   "metadata": {
    "ExecuteTime": {
     "end_time": "2024-06-11T07:55:34.319216Z",
     "start_time": "2024-06-11T07:55:34.313215Z"
    }
   },
   "source": [
    "# Your code here\n",
    "coach.birthday = '24/06/1984'\n",
    "print(coach.firstname, coach.lastname, coach.age, coach.place_residence, coach.birthday)\n"
   ],
   "outputs": [
    {
     "name": "stdout",
     "output_type": "stream",
     "text": [
      "Ludovic Patho 34 Brussels 24/06/1984\n"
     ]
    }
   ],
   "execution_count": 18
  },
  {
   "attachments": {},
   "cell_type": "markdown",
   "metadata": {},
   "source": [
    "#### Class attributes\n",
    "In the examples we have seen so far, our attributes are contained in our object. They are specific to the object: if you create several objects, the attributes name, first name,... of each one will not necessarily be identical from one object to another. But we can also define attributes in our class. "
   ]
  },
  {
   "cell_type": "code",
   "metadata": {
    "ExecuteTime": {
     "end_time": "2024-06-11T07:56:19.724895Z",
     "start_time": "2024-06-11T07:56:19.713419Z"
    }
   },
   "source": [
    "class Counter:\n",
    "    \"\"\"This class has a class attribute (`objects_created`) that is incremented at each\n",
    "    time you create an object of this type\"\"\"\n",
    "\n",
    "    objects_created = 0  # The counter is 0 at the start\n",
    "\n",
    "    def __init__(self):\n",
    "        \"\"\"Each time we create an object, we increment the counter\"\"\"\n",
    "        Counter.objects_created = Counter.objects_created + 1"
   ],
   "outputs": [],
   "execution_count": 19
  },
  {
   "attachments": {},
   "cell_type": "markdown",
   "metadata": {},
   "source": [
    "We define our class attribute `objects_created` directly in the body of the class, before the definition of the constructor. \n",
    "\n",
    "When you want to call it in the constructor, you prefix the name of the class attribute with the name of the class (`Counter.objects_created`). \n",
    "\n",
    "And it is also accessed in this way, outside the class."
   ]
  },
  {
   "cell_type": "code",
   "metadata": {
    "ExecuteTime": {
     "end_time": "2024-06-11T07:56:31.576050Z",
     "start_time": "2024-06-11T07:56:31.556985Z"
    }
   },
   "source": [
    "Counter.objects_created"
   ],
   "outputs": [
    {
     "data": {
      "text/plain": [
       "0"
      ]
     },
     "execution_count": 20,
     "metadata": {},
     "output_type": "execute_result"
    }
   ],
   "execution_count": 20
  },
  {
   "cell_type": "code",
   "metadata": {
    "ExecuteTime": {
     "end_time": "2024-06-11T07:56:33.661436Z",
     "start_time": "2024-06-11T07:56:33.646798Z"
    }
   },
   "source": [
    "# Create a first object\n",
    "a = Counter()\n",
    "# Let's check that the counter has been incremented correctly\n",
    "print(Counter.objects_created)"
   ],
   "outputs": [
    {
     "name": "stdout",
     "output_type": "stream",
     "text": [
      "1\n"
     ]
    }
   ],
   "execution_count": 21
  },
  {
   "cell_type": "code",
   "metadata": {
    "ExecuteTime": {
     "end_time": "2024-06-11T07:56:39.038973Z",
     "start_time": "2024-06-11T07:56:39.020988Z"
    }
   },
   "source": [
    "b = Counter()\n",
    "print(b.objects_created)  # You can also access it using the object"
   ],
   "outputs": [
    {
     "name": "stdout",
     "output_type": "stream",
     "text": [
      "2\n"
     ]
    }
   ],
   "execution_count": 22
  },
  {
   "attachments": {},
   "cell_type": "markdown",
   "metadata": {},
   "source": [
    "Each time we create a `Counter` object, the class attribute `objects_created` is incremented by 1. It can be useful to have class attributes, when all our objects must have some identical data."
   ]
  },
  {
   "attachments": {},
   "cell_type": "markdown",
   "metadata": {},
   "source": [
    "#### Methods"
   ]
  },
  {
   "attachments": {},
   "cell_type": "markdown",
   "metadata": {},
   "source": [
    "Attributes are variables specific to our object, which are used to characterize it. The methods are rather actions, as we saw in the previous part, acting on the object. For example, the `append` method of the `list` class allows to add an element to the manipulated list object."
   ]
  },
  {
   "attachments": {},
   "cell_type": "markdown",
   "metadata": {},
   "source": [
    "Let's create a `Blackboard` class. Our table will have a `surface` (an attribute) on which we can write, read and delete. "
   ]
  },
  {
   "cell_type": "code",
   "metadata": {
    "ExecuteTime": {
     "end_time": "2024-06-11T07:56:55.803168Z",
     "start_time": "2024-06-11T07:56:55.789305Z"
    }
   },
   "source": [
    "class Blackboard:\n",
    "    \"\"\"Class defining a surface on which to write,\n",
    "    that can be read and deleted, by a set of methods. The modified attribute\n",
    "    is `surface`\"\"\"\n",
    "\n",
    "    def __init__(self):\n",
    "        \"\"\"By default, our surface is empty\"\"\"\n",
    "        self.surface = \"\""
   ],
   "outputs": [],
   "execution_count": 23
  },
  {
   "attachments": {},
   "cell_type": "markdown",
   "metadata": {},
   "source": [
    "We have already created a method, so you should not be too surprised by the syntax we will see. Our constructor is indeed a method, it keeps the syntax. So we will write our method `write` to start."
   ]
  },
  {
   "cell_type": "code",
   "metadata": {
    "ExecuteTime": {
     "end_time": "2024-06-11T07:57:17.423187Z",
     "start_time": "2024-06-11T07:57:17.410065Z"
    }
   },
   "source": [
    "class Blackboard:\n",
    "    \"\"\"Class defining a surface on which to write,\n",
    "    that can be read and deleted, by a set of methods. The modified attribute\n",
    "    is \"surface\" \"\"\"\n",
    "\n",
    "    def __init__(self):\n",
    "        \"\"\"By default, our surface is empty\"\"\"\n",
    "        self.surface = \"\"\n",
    "\n",
    "    def write(self, message_written):\n",
    "        \"\"\"Method for writing on the surface of the table.\n",
    "        If the surface is not empty, we skip a line before adding\n",
    "        the `message_written`.\"\"\"\n",
    "\n",
    "        if self.surface:\n",
    "            self.surface += \"\\n\"\n",
    "        self.surface += message_written"
   ],
   "outputs": [],
   "execution_count": 24
  },
  {
   "cell_type": "code",
   "metadata": {
    "ExecuteTime": {
     "end_time": "2024-06-11T07:57:26.044113Z",
     "start_time": "2024-06-11T07:57:26.025082Z"
    }
   },
   "source": [
    "board = Blackboard()\n",
    "# Check if blackboard is empty\n",
    "print(board.surface)"
   ],
   "outputs": [
    {
     "name": "stdout",
     "output_type": "stream",
     "text": [
      "\n"
     ]
    }
   ],
   "execution_count": 25
  },
  {
   "cell_type": "code",
   "metadata": {
    "ExecuteTime": {
     "end_time": "2024-06-11T07:57:28.002992Z",
     "start_time": "2024-06-11T07:57:27.983828Z"
    }
   },
   "source": [
    "board.write(\"Coooool ! I love this one\")\n",
    "# Is it good ?\n",
    "print(board.surface)"
   ],
   "outputs": [
    {
     "name": "stdout",
     "output_type": "stream",
     "text": [
      "Coooool ! I love this one\n"
     ]
    }
   ],
   "execution_count": 26
  },
  {
   "cell_type": "code",
   "metadata": {
    "ExecuteTime": {
     "end_time": "2024-06-11T07:57:30.419851Z",
     "start_time": "2024-06-11T07:57:30.408062Z"
    }
   },
   "source": [
    "board.write(\"Have a good start of the school year!\")\n",
    "print(board.surface)"
   ],
   "outputs": [
    {
     "name": "stdout",
     "output_type": "stream",
     "text": [
      "Coooool ! I love this one\n",
      "Have a good start of the school year!\n"
     ]
    }
   ],
   "execution_count": 27
  },
  {
   "attachments": {},
   "cell_type": "markdown",
   "metadata": {},
   "source": [
    "When you create a new object, here a blackboard (`board`), the attributes of the object are specific to the created object. \n",
    "- This makes sense: if you create several blackboards, they will not all have the same surface area. So the attributes are contained in the object.\n",
    "\n",
    "On the other hand, the methods are contained in the class that defines our object. \n",
    "- This is very important. When you type `board.write(...)`, Python will look for the `write` method not in the `board` object, but in the `Blackboard` class. When you type `board.write(...)`, it is the same as if you write `Blackboard.write(board, ...)`, i.e. the `Blackboard` class takes  the `board` object as argument to the `write` method. Remember, `self` is the object parameter in any class method, for example `write(self, message_written)`."
   ]
  },
  {
   "cell_type": "code",
   "metadata": {
    "ExecuteTime": {
     "end_time": "2024-06-11T07:57:58.434246Z",
     "start_time": "2024-06-11T07:57:58.418048Z"
    }
   },
   "source": [
    "board.write(\"Hello Swartz\")\n",
    "Blackboard.write(board, \"Hello Turing\")"
   ],
   "outputs": [],
   "execution_count": 28
  },
  {
   "cell_type": "code",
   "metadata": {
    "ExecuteTime": {
     "end_time": "2024-06-11T07:58:00.377209Z",
     "start_time": "2024-06-11T07:58:00.359159Z"
    }
   },
   "source": [
    "print(board.surface)"
   ],
   "outputs": [
    {
     "name": "stdout",
     "output_type": "stream",
     "text": [
      "Coooool ! I love this one\n",
      "Have a good start of the school year!\n",
      "Hello Swartz\n",
      "Hello Turing\n"
     ]
    }
   ],
   "execution_count": 29
  },
  {
   "cell_type": "code",
   "metadata": {
    "ExecuteTime": {
     "end_time": "2024-06-11T07:58:07.777805Z",
     "start_time": "2024-06-11T07:58:07.726305Z"
    }
   },
   "source": [
    "# And yes, the help comes from reading the docstring of the associated method\n",
    "help(Blackboard.write)"
   ],
   "outputs": [
    {
     "name": "stdout",
     "output_type": "stream",
     "text": [
      "Help on function write in module __main__:\n",
      "\n",
      "write(self, message_written)\n",
      "    Method for writing on the surface of the table.\n",
      "    If the surface is not empty, we skip a line before adding\n",
      "    the `message_written`.\n",
      "\n"
     ]
    }
   ],
   "execution_count": 31
  },
  {
   "cell_type": "code",
   "metadata": {
    "ExecuteTime": {
     "end_time": "2024-06-11T07:58:05.764198Z",
     "start_time": "2024-06-11T07:58:05.743256Z"
    }
   },
   "source": [
    "Blackboard.write(board, \"try\")\n",
    "print(board.surface)"
   ],
   "outputs": [
    {
     "name": "stdout",
     "output_type": "stream",
     "text": [
      "Coooool ! I love this one\n",
      "Have a good start of the school year!\n",
      "Hello Swartz\n",
      "Hello Turing\n",
      "try\n"
     ]
    }
   ],
   "execution_count": 30
  },
  {
   "attachments": {},
   "cell_type": "markdown",
   "metadata": {},
   "source": [
    "As you can see,  \n",
    "- Your `self` parameter is the object that calls the method. For this reason, you modify the surface of the object by calling `self.surface`.\n",
    "- To summarize, when you have to work in a method of the object on the object itself, you will go through `self`."
   ]
  },
  {
   "attachments": {},
   "cell_type": "markdown",
   "metadata": {},
   "source": [
    "**Exercise:** We still have to code methods to display and delete the content of our surface.\n",
    "\n",
    "Write these two methods; one that displays the contents of the table and the other that resets it to `\"\"`"
   ]
  },
  {
   "cell_type": "code",
   "metadata": {
    "ExecuteTime": {
     "end_time": "2024-06-11T08:00:13.531226Z",
     "start_time": "2024-06-11T08:00:13.526160Z"
    }
   },
   "source": [
    "class Blackboard:\n",
    "    \"\"\"Class defining a surface on which to write,\n",
    "    that can be read and deleted, by a set of methods. The modified attribute\n",
    "    is \"surface\" \"\"\"\n",
    "\n",
    "    def __init__(self):\n",
    "        \"\"\"By default, our surface is empty\"\"\"\n",
    "        self.surface = \"\"\n",
    "\n",
    "    def write(self, message_written):\n",
    "        \"\"\"Method for writing on the surface of the table.\n",
    "        If the surface is not empty, we skip a line before adding\n",
    "        the message to be written\"\"\"\n",
    "\n",
    "        if self.surface != \"\":\n",
    "            self.surface += \"\\n\"\n",
    "        self.surface += message_written\n",
    "\n",
    "    def read(self):\n",
    "        \"\"\"This method is in charge of displaying, thanks to print,\n",
    "        the surface of the painting\"\"\"\n",
    "        print(self.surface)\n",
    "\n",
    "    def reset(self):\n",
    "        \"\"\"This method allows you to erase the surface of the table\"\"\"\n",
    "        self.surface = \"\""
   ],
   "outputs": [],
   "execution_count": 35
  },
  {
   "cell_type": "code",
   "metadata": {
    "ExecuteTime": {
     "end_time": "2024-06-11T08:00:21.498930Z",
     "start_time": "2024-06-11T08:00:21.479843Z"
    }
   },
   "source": [
    "board = Blackboard()\n",
    "board.read()"
   ],
   "outputs": [
    {
     "name": "stdout",
     "output_type": "stream",
     "text": [
      "\n"
     ]
    }
   ],
   "execution_count": 36
  },
  {
   "cell_type": "code",
   "metadata": {
    "ExecuteTime": {
     "end_time": "2024-06-11T08:00:23.354024Z",
     "start_time": "2024-06-11T08:00:23.342098Z"
    }
   },
   "source": [
    "board.write(\"Hello everyone\")\n",
    "board.write(\"Are you all right?\")\n",
    "board.read()"
   ],
   "outputs": [
    {
     "name": "stdout",
     "output_type": "stream",
     "text": [
      "Hello everyone\n",
      "Are you all right?\n"
     ]
    }
   ],
   "execution_count": 37
  },
  {
   "cell_type": "code",
   "metadata": {
    "ExecuteTime": {
     "end_time": "2024-06-11T08:01:35.688126Z",
     "start_time": "2024-06-11T08:01:35.674370Z"
    }
   },
   "source": [
    "board.reset()\n",
    "board.read()"
   ],
   "outputs": [
    {
     "name": "stdout",
     "output_type": "stream",
     "text": [
      "\n"
     ]
    }
   ],
   "execution_count": 39
  },
  {
   "cell_type": "code",
   "metadata": {
    "ExecuteTime": {
     "end_time": "2024-06-11T08:01:38.974630Z",
     "start_time": "2024-06-11T08:01:38.962048Z"
    }
   },
   "source": [
    "# It's worth the effort to get good documentation on ones classes, isn't it?\n",
    "help(Blackboard)"
   ],
   "outputs": [
    {
     "name": "stdout",
     "output_type": "stream",
     "text": [
      "Help on class Blackboard in module __main__:\n",
      "\n",
      "class Blackboard(builtins.object)\n",
      " |  Class defining a surface on which to write,\n",
      " |  that can be read and deleted, by a set of methods. The modified attribute\n",
      " |  is \"surface\"\n",
      " |  \n",
      " |  Methods defined here:\n",
      " |  \n",
      " |  __init__(self)\n",
      " |      By default, our surface is empty\n",
      " |  \n",
      " |  read(self)\n",
      " |      This method is in charge of displaying, thanks to print,\n",
      " |      the surface of the painting\n",
      " |  \n",
      " |  reset(self)\n",
      " |      This method allows you to erase the surface of the table\n",
      " |  \n",
      " |  write(self, message_written)\n",
      " |      Method for writing on the surface of the table.\n",
      " |      If the surface is not empty, we skip a line before adding\n",
      " |      the message to be written\n",
      " |  \n",
      " |  ----------------------------------------------------------------------\n",
      " |  Data descriptors defined here:\n",
      " |  \n",
      " |  __dict__\n",
      " |      dictionary for instance variables (if defined)\n",
      " |  \n",
      " |  __weakref__\n",
      " |      list of weak references to the object (if defined)\n",
      "\n"
     ]
    }
   ],
   "execution_count": 40
  },
  {
   "attachments": {},
   "cell_type": "markdown",
   "metadata": {},
   "source": [
    "If you need to remember, which attributes or methods your object has use the `dir` function.\n",
    "\n",
    "The `dir` function returns a list containing the names of the attributes and methods of the object that is passed to it as a parameter. \n",
    "\n",
    "You can notice that everything is mixed, it's normal: for Python, methods, functions, classes, modules are objects. The first difference between a variable and a function is that a function is executable (callable). The `dir` function simply returns everything in the object, without distinction."
   ]
  },
  {
   "cell_type": "code",
   "metadata": {
    "ExecuteTime": {
     "end_time": "2024-06-11T08:01:57.997126Z",
     "start_time": "2024-06-11T08:01:57.984026Z"
    }
   },
   "source": [
    "dir(Blackboard)"
   ],
   "outputs": [
    {
     "data": {
      "text/plain": [
       "['__class__',\n",
       " '__delattr__',\n",
       " '__dict__',\n",
       " '__dir__',\n",
       " '__doc__',\n",
       " '__eq__',\n",
       " '__format__',\n",
       " '__ge__',\n",
       " '__getattribute__',\n",
       " '__gt__',\n",
       " '__hash__',\n",
       " '__init__',\n",
       " '__init_subclass__',\n",
       " '__le__',\n",
       " '__lt__',\n",
       " '__module__',\n",
       " '__ne__',\n",
       " '__new__',\n",
       " '__reduce__',\n",
       " '__reduce_ex__',\n",
       " '__repr__',\n",
       " '__setattr__',\n",
       " '__sizeof__',\n",
       " '__str__',\n",
       " '__subclasshook__',\n",
       " '__weakref__',\n",
       " 'read',\n",
       " 'reset',\n",
       " 'write']"
      ]
     },
     "execution_count": 41,
     "metadata": {},
     "output_type": "execute_result"
    }
   ],
   "execution_count": 41
  },
  {
   "attachments": {},
   "cell_type": "markdown",
   "metadata": {},
   "source": [
    "By default, when you develop a class, all objects built from that class will have a special attribute `__dict__`. This attribute is a dictionary that contains as keys the names of the attributes and, as values, the values of the attributes."
   ]
  },
  {
   "cell_type": "code",
   "metadata": {
    "ExecuteTime": {
     "end_time": "2024-06-11T08:02:08.332948Z",
     "start_time": "2024-06-11T08:02:08.320269Z"
    }
   },
   "source": [
    "Blackboard.__dict__"
   ],
   "outputs": [
    {
     "data": {
      "text/plain": [
       "mappingproxy({'__module__': '__main__',\n",
       "              '__doc__': 'Class defining a surface on which to write,\\n    that can be read and deleted, by a set of methods. The modified attribute\\n    is \"surface\" ',\n",
       "              '__init__': <function __main__.Blackboard.__init__(self)>,\n",
       "              'write': <function __main__.Blackboard.write(self, message_written)>,\n",
       "              'read': <function __main__.Blackboard.read(self)>,\n",
       "              'reset': <function __main__.Blackboard.reset(self)>,\n",
       "              '__dict__': <attribute '__dict__' of 'Blackboard' objects>,\n",
       "              '__weakref__': <attribute '__weakref__' of 'Blackboard' objects>})"
      ]
     },
     "execution_count": 42,
     "metadata": {},
     "output_type": "execute_result"
    }
   ],
   "execution_count": 42
  },
  {
   "attachments": {},
   "cell_type": "markdown",
   "metadata": {},
   "source": [
    "### In summary\n",
    "- Everything in Python is an object, that can be mutable or immutable.\n",
    "- A class is defined by following the syntax `class ClassName`:.\n",
    "- Methods are functions, except that they are found in the body of the class, hence their special name.\n",
    "- Instance methods take as first parameter `self`, which is the instance of the manipulated object.\n",
    "- We build a class instance by calling its constructor, a method called `__init__`.\n",
    "- The attributes of an instance are defined in the constructor of its class, following this syntax: `self.attribute_name = value`.\n",
    "- All methods that start and end with double underscores like `__str__` are methods common to (almost) all classes."
   ]
  }
 ],
 "metadata": {
  "kernelspec": {
   "display_name": "Python 3.9.13 64-bit (windows store)",
   "language": "python",
   "name": "python3"
  },
  "language_info": {
   "codemirror_mode": {
    "name": "ipython",
    "version": 3
   },
   "file_extension": ".py",
   "mimetype": "text/x-python",
   "name": "python",
   "nbconvert_exporter": "python",
   "pygments_lexer": "ipython3",
   "version": "3.10.9"
  },
  "vscode": {
   "interpreter": {
    "hash": "5af58ead5434bcaec4ba320c097b4ab95f4d47b5cc097d838e053a401accc545"
   }
  }
 },
 "nbformat": 4,
 "nbformat_minor": 2
}
