{
 "cells": [
  {
   "cell_type": "markdown",
   "metadata": {
    "colab_type": "text",
    "id": "Y2WIldGAzeGi"
   },
   "source": [
    "# Regular expressions (regex) : love or hate?"
   ]
  },
  {
   "cell_type": "markdown",
   "metadata": {},
   "source": "![commit strip](http://www.commitstrip.com/wp-content/uploads/2014/02/Strips-Le-dernier-des-vrais-codeurs-650-finalenglsih.jpg)\n"
  },
  {
   "cell_type": "markdown",
   "metadata": {
    "colab_type": "text",
    "id": "ncgjdsP6zeGk"
   },
   "source": [
    "Regular expressions are used in almost all languages. It is a very powerful tool to check if the content of a variable has the shape you expect. \n",
    "\n",
    "For example, if you retrieve a phone number, you expect the variable to be composed of numbers and spaces (or dashes) but nothing more. \n",
    "\n",
    "Regular expressions not only warn you of an unwanted character but also delete/modify all those that are not desirable.\n"
   ]
  },
  {
   "metadata": {},
   "cell_type": "markdown",
   "source": ""
  },
  {
   "cell_type": "markdown",
   "metadata": {
    "colab_type": "text",
    "id": "J9tTw4kpzeGm"
   },
   "source": [
    "**There are two ways to use regular expressions:**\n",
    "* The first consists in calling the function with the pattern as the first parameter, and the string to be analyzed as the second parameter.\n",
    "* The second way is to compile the regex, and then use the methods of the created object to analyze a string passed as an argument. This method speeds up processing when a regex is used several times.  "
   ]
  },
  {
   "cell_type": "code",
   "metadata": {
    "colab": {},
    "colab_type": "code",
    "id": "uW-ELEWSzeGn",
    "ExecuteTime": {
     "end_time": "2024-06-11T12:22:59.899561Z",
     "start_time": "2024-06-11T12:22:59.889518Z"
    }
   },
   "source": [
    "import re"
   ],
   "outputs": [],
   "execution_count": 2
  },
  {
   "cell_type": "code",
   "metadata": {
    "colab": {
     "base_uri": "https://localhost:8080/",
     "height": 202
    },
    "colab_type": "code",
    "executionInfo": {
     "elapsed": 1164,
     "status": "error",
     "timestamp": 1544433890947,
     "user": {
      "displayName": "jeanmichel matz",
      "photoUrl": "",
      "userId": "07185903058039212847"
     },
     "user_tz": -60
    },
    "id": "UZH4lcDtzeGr",
    "outputId": "56f57bbf-62d5-43a6-9a8c-e625eb5f51e1",
    "ExecuteTime": {
     "end_time": "2024-06-11T12:23:00.348808Z",
     "start_time": "2024-06-11T12:23:00.334097Z"
    }
   },
   "source": [
    "pattern = \"[ ]\"\n",
    "string = \"I am fine ! There are still 6 months left :()\"\n",
    "\n",
    "# Searches the pattern in the previous string and return a `MatchObject` if matches are found,\n",
    "# otherwise returns `None`.\n",
    "print(re.search(pattern, string))"
   ],
   "outputs": [
    {
     "name": "stdout",
     "output_type": "stream",
     "text": [
      "<re.Match object; span=(1, 2), match=' '>\n"
     ]
    }
   ],
   "execution_count": 3
  },
  {
   "cell_type": "code",
   "metadata": {
    "colab": {},
    "colab_type": "code",
    "id": "8CHrRMMnzeGx",
    "outputId": "7985c200-12be-4488-f07d-e67cd582be82",
    "ExecuteTime": {
     "end_time": "2024-06-11T12:23:00.411799Z",
     "start_time": "2024-06-11T12:23:00.399195Z"
    }
   },
   "source": [
    "pattern = \"[ ]\"\n",
    "string = \"I am fine ! There are still 6 months left :()\"\n",
    "\n",
    "# Cuts the string according to the occurrence of the pattern.\n",
    "print(re.split(pattern, string))"
   ],
   "outputs": [
    {
     "name": "stdout",
     "output_type": "stream",
     "text": [
      "['I', 'am', 'fine', '!', 'There', 'are', 'still', '6', 'months', 'left', ':()']\n"
     ]
    }
   ],
   "execution_count": 4
  },
  {
   "cell_type": "markdown",
   "metadata": {
    "colab_type": "text",
    "id": "00ZYg2cezeG2"
   },
   "source": [
    "### A little syntax\n",
    "\n",
    "    [xy]  A possible segment list. Example[abc] equals: a, b or c\n",
    "\n",
    "    (x|y) Indicates a multiple choice type (ps|ump) equals \"ps\" OR \"UMP\" \n",
    "\n",
    "    \\d    the segment is composed only of numbers, which is equivalent to [0-9].\n",
    "\n",
    "    \\D    the segment is not composed of numbers, which is equivalent to [^0-9].\n",
    "\n",
    "    \\s    A space, which is equivalent to [ \\t\\n\\r\\r\\f\\v].\n",
    "\n",
    "    \\S    No space, which is equivalent to [^ \\t\\n\\r\\f\\v].\n",
    "\n",
    "    \\w    Alphanumeric presence, which is equivalent to [a-zA-Z0-9_].\n",
    "\n",
    "    \\W    No alphanumeric presence [^a-zA-Z0-9_].\n",
    "\n",
    "    \\     Is an escape character. It _unprotects_ reserved characters by restoring their original meaning."
   ]
  },
  {
   "cell_type": "markdown",
   "metadata": {
    "colab_type": "text",
    "id": "kyiLpajFzeG3"
   },
   "source": [
    "### Let's try it.\n",
    "\n",
    "If the answer is not `None`, it means the match matches. GREY is indeed a name beginning with GR followed by a character and ending with Y."
   ]
  },
  {
   "cell_type": "code",
   "metadata": {
    "colab": {},
    "colab_type": "code",
    "id": "d-vUiHQJzeG4",
    "outputId": "79709efc-6003-46a4-9c5e-80f9b60d7b65",
    "ExecuteTime": {
     "end_time": "2024-06-11T12:23:00.552178Z",
     "start_time": "2024-06-11T12:23:00.541219Z"
    }
   },
   "source": [
    "print(re.match(\"GR(.)?Y\", \"GREY\"))\n",
    "# (.)? means that we expect 0 or 1 character.\n",
    "# 0 or 1 because of the `?` following the character `.`, which means any character"
   ],
   "outputs": [
    {
     "name": "stdout",
     "output_type": "stream",
     "text": [
      "<re.Match object; span=(0, 4), match='GREY'>\n"
     ]
    }
   ],
   "execution_count": 5
  },
  {
   "cell_type": "code",
   "metadata": {
    "colab": {},
    "colab_type": "code",
    "id": "K8cC1TGhzeG7",
    "outputId": "3fdb669d-7e94-4b73-c292-1e5c98cedf9e",
    "ExecuteTime": {
     "end_time": "2024-06-11T12:23:00.630409Z",
     "start_time": "2024-06-11T12:23:00.617327Z"
    }
   },
   "source": [
    "pattern = \"GR(.)?Y\"\n",
    "string = \"GREY\"\n",
    "\n",
    "result = re.match(pattern, string)\n",
    "print(result)\n",
    "\n",
    "# It is equal to\n",
    "compiled = re.compile(pattern)\n",
    "result = compiled.match(string)\n",
    "print(result)"
   ],
   "outputs": [
    {
     "name": "stdout",
     "output_type": "stream",
     "text": [
      "<re.Match object; span=(0, 4), match='GREY'>\n",
      "<re.Match object; span=(0, 4), match='GREY'>\n"
     ]
    }
   ],
   "execution_count": 6
  },
  {
   "cell_type": "code",
   "metadata": {
    "colab": {},
    "colab_type": "code",
    "id": "_yNpUAH-zeG_",
    "outputId": "2c8fd1ff-90a9-4cac-f599-2f6f11bcb536",
    "ExecuteTime": {
     "end_time": "2024-06-11T12:23:00.723602Z",
     "start_time": "2024-06-11T12:23:00.710691Z"
    }
   },
   "source": [
    "#  So in a loop the second syntax is nicer\n",
    "pattern = \"GR(.)?Y\"\n",
    "compiled = re.compile(pattern)\n",
    "l = [\"GREY 'S\", \"GRAY\", \"GREYISH\", \"A GREY\"]\n",
    "\n",
    "for elem in l:\n",
    "    result = compiled.match(elem)\n",
    "    print(elem, result)"
   ],
   "outputs": [
    {
     "name": "stdout",
     "output_type": "stream",
     "text": [
      "GREY 'S <re.Match object; span=(0, 4), match='GREY'>\n",
      "GRAY <re.Match object; span=(0, 4), match='GRAY'>\n",
      "GREYISH <re.Match object; span=(0, 4), match='GREY'>\n",
      "A GREY None\n"
     ]
    }
   ],
   "execution_count": 7
  },
  {
   "cell_type": "markdown",
   "metadata": {},
   "source": [
    "In the following, we search for specific expressions in a string."
   ]
  },
  {
   "cell_type": "code",
   "metadata": {
    "colab": {},
    "colab_type": "code",
    "id": "dSppk5IszeHE",
    "outputId": "90badda8-bab3-4eba-9c8d-9547e9da2f48",
    "ExecuteTime": {
     "end_time": "2024-06-11T12:23:00.785796Z",
     "start_time": "2024-06-11T12:23:00.768115Z"
    }
   },
   "source": [
    "print(re.findall(\"GR(.)?Y\", \"GREY\"))\n",
    "# so here we are looking for a unique element (.)? between GR and Y"
   ],
   "outputs": [
    {
     "name": "stdout",
     "output_type": "stream",
     "text": [
      "['E']\n"
     ]
    }
   ],
   "execution_count": 8
  },
  {
   "cell_type": "code",
   "metadata": {
    "colab": {},
    "colab_type": "code",
    "id": "c7xuIjyLzeHJ",
    "outputId": "5f86f01d-7b12-40d3-bf21-27546c53ce15",
    "ExecuteTime": {
     "end_time": "2024-06-11T12:23:00.909932Z",
     "start_time": "2024-06-11T12:23:00.884626Z"
    }
   },
   "source": [
    "# Ditto for two characters to be found\n",
    "re.findall(\"G(.)?(.)?Y\", \"GREY\")"
   ],
   "outputs": [
    {
     "data": {
      "text/plain": [
       "[('R', 'E')]"
      ]
     },
     "execution_count": 9,
     "metadata": {},
     "output_type": "execute_result"
    }
   ],
   "execution_count": 9
  },
  {
   "cell_type": "markdown",
   "metadata": {},
   "source": [
    "To keep only numbers. "
   ]
  },
  {
   "cell_type": "code",
   "metadata": {
    "colab": {},
    "colab_type": "code",
    "id": "WBrIVn-_zeHN",
    "outputId": "fc9c1cfe-4b92-4994-ce15-b5d4e7139ff1",
    "ExecuteTime": {
     "end_time": "2024-06-11T12:23:00.941053Z",
     "start_time": "2024-06-11T12:23:00.922989Z"
    }
   },
   "source": [
    "# Only numbers\n",
    "print(re.findall(\"([0-9]+)\", \"Hello I live on the 7th floor of 220 street of sims\"))\n",
    "# \"+\" Means 1 or more characters"
   ],
   "outputs": [
    {
     "name": "stdout",
     "output_type": "stream",
     "text": [
      "['7', '220']\n"
     ]
    }
   ],
   "execution_count": 10
  },
  {
   "cell_type": "markdown",
   "metadata": {},
   "source": [
    "And conversely, if you only want to keep the words. "
   ]
  },
  {
   "cell_type": "code",
   "metadata": {
    "colab": {},
    "colab_type": "code",
    "id": "ox7Nu7kUzeHU",
    "outputId": "69941c41-5c8f-4056-dfe6-ff66651d7bbd",
    "ExecuteTime": {
     "end_time": "2024-06-11T12:23:01.048724Z",
     "start_time": "2024-06-11T12:23:01.036659Z"
    }
   },
   "source": [
    "# Only words\n",
    "print(re.findall(\"([A-z]+)\", \"Hello I live on the 7th floor of 220 street of sims\"))"
   ],
   "outputs": [
    {
     "name": "stdout",
     "output_type": "stream",
     "text": [
      "['Hello', 'I', 'live', 'on', 'the', 'th', 'floor', 'of', 'street', 'of', 'sims']\n"
     ]
    }
   ],
   "execution_count": 11
  },
  {
   "cell_type": "markdown",
   "metadata": {
    "colab_type": "text",
    "id": "kjICFwLNzeHX"
   },
   "source": [
    "### Stop, we recap !"
   ]
  },
  {
   "cell_type": "markdown",
   "metadata": {
    "colab_type": "text",
    "id": "dMMTCegrzeHY"
   },
   "source": [
    "Character | Meaning   \n",
    ":-------------------------:|:-------------------------:\n",
    "**.** | Refers to any character.\n",
    "**^** | Indicates the beginning of the string.<br />For example, _^a_ matches _ab_ but not _ba_. \n",
    "**$** | Indicates the end of the string.<br />For example, _a$_ matches _ba_ but not _ab_. \n",
    "**?**| The previous character can be repeated zero or once.<br /> For example, _ab?_ corresponds to _ab_ and _a_.\n",
    " *| The previous character can be repeated none or several times. <br />For example, _ab\\*_ may correspond to: _a_, _ab_, or _a_ followed by any number of _b_.\n",
    "**+**| The previous character can be repeated once or several times. <br/>For example, to _ab+_ corresponds an _a_ followed by any number of _b_.\n",
    "**{n}**| Indicates that the previous character must be repeated _n_ times.\n",
    "**{n, m}**|Indicates that the previous character must be repeated between _n_ and _m_ times.\n",
    "**\\w** | It corresponds to any alphabetical character, it is equivalent to _[a-zA-Z]_.\n",
    "**\\W** | It corresponds to everything that is not an alphabetical character.\n",
    "**\\d** | It corresponds to any numeric character, i.e. it is equivalent to _[0-9]_.\n",
    "**\\D** | It corresponds to everything that is not a numeric character."
   ]
  },
  {
   "cell_type": "markdown",
   "metadata": {
    "colab_type": "text",
    "id": "ZNoamLAczeHc"
   },
   "source": [
    "<img src=\"https://i.redd.it/nac35ntlfg831.jpg\" width=\"400\">\n"
   ]
  },
  {
   "cell_type": "markdown",
   "metadata": {
    "colab_type": "text",
    "id": "kHIg2LmjzeHd"
   },
   "source": [
    "### Some useful resources\n",
    "[Regex quickstart](http://www.rexegg.com/regex-quickstart.html): the Regex cheat sheet\n",
    "\n",
    "[Dreambank Regex](http://www.dreambank.net/regex.html#examples): some examples of regex behaviour\n",
    "\n",
    "[Pythex](https://pythex.org/): a real-time regular expression editor for Python, a quick way to test your regular expressions.  \n",
    "\n",
    "[Regex101](https://regex101.com/): online regex editor and debugger. Regex101 allows you to create, debug, test and have your expressions explained for PHP, PCRE, Python, Golang and JavaScript. The website also features a community where you can share useful expressions.\n",
    "\n",
    "##### And just for fun...\n",
    "[Regex Crosswords](https://regexcrossword.com/): some crossword puzzles to test your Regex knowledge\n"
   ]
  },
  {
   "cell_type": "markdown",
   "metadata": {
    "colab_type": "text",
    "id": "f-xPzTvWzeHe"
   },
   "source": [
    "#### How to check that the entered string is that of a number ?"
   ]
  },
  {
   "cell_type": "code",
   "metadata": {
    "colab": {},
    "colab_type": "code",
    "id": "w3nZ_oIbzeHf",
    "outputId": "890ed6b5-b5f5-4c19-a7d0-3848899346a1",
    "ExecuteTime": {
     "end_time": "2024-06-11T12:23:03.714765Z",
     "start_time": "2024-06-11T12:23:01.165637Z"
    }
   },
   "source": [
    "number = input(\"Your number : \")\n",
    "if re.match(\"^[0-9]+$\", number):\n",
    "    print(\"The string entered is a number.\")\n",
    "else:\n",
    "    print(\"The string entered is NOT a number.\")"
   ],
   "outputs": [
    {
     "name": "stdout",
     "output_type": "stream",
     "text": [
      "The string entered is a number.\n"
     ]
    }
   ],
   "execution_count": 12
  },
  {
   "cell_type": "markdown",
   "metadata": {},
   "source": [
    "Another way"
   ]
  },
  {
   "cell_type": "code",
   "metadata": {
    "colab": {},
    "colab_type": "code",
    "id": "hH4MzAn5zeHi",
    "outputId": "799bd89d-35df-406f-e1d5-f17d4c1a2889",
    "ExecuteTime": {
     "end_time": "2024-06-11T12:23:03.730290Z",
     "start_time": "2024-06-11T12:23:03.717279Z"
    }
   },
   "source": [
    "compiled = re.compile(\"^[0-9]+$\")\n",
    "if compiled.search(number) is not None:\n",
    "    print(\"The string entered is a number.\")\n",
    "else:\n",
    "    print(\"The string entered is NOT a number\")"
   ],
   "outputs": [
    {
     "name": "stdout",
     "output_type": "stream",
     "text": [
      "The string entered is a number.\n"
     ]
    }
   ],
   "execution_count": 13
  },
  {
   "cell_type": "markdown",
   "metadata": {},
   "source": [
    "### Drill"
   ]
  },
  {
   "cell_type": "markdown",
   "metadata": {
    "colab_type": "text",
    "id": "f5YsM8CYzeHl"
   },
   "source": [
    "\n",
    "**1. Create a regex that finds integers without size limit.**"
   ]
  },
  {
   "cell_type": "code",
   "metadata": {
    "colab": {},
    "colab_type": "code",
    "id": "-Ui9NhETzeHm",
    "outputId": "e0932e42-44c0-4718-b4d0-6b247fc1f674",
    "ExecuteTime": {
     "end_time": "2024-06-11T12:23:03.792166Z",
     "start_time": "2024-06-11T12:23:03.778107Z"
    }
   },
   "source": [
    "import re\n",
    "s = \"sssgdds8sfsfs\"\n",
    "pattern = '\\d'\n",
    "matches = re.findall(pattern, s)\n",
    "print(matches)"
   ],
   "outputs": [
    {
     "name": "stdout",
     "output_type": "stream",
     "text": [
      "['8']\n"
     ]
    }
   ],
   "execution_count": 14
  },
  {
   "cell_type": "markdown",
   "metadata": {
    "colab_type": "text",
    "id": "5s96xBmKzeHr"
   },
   "source": [
    "**2. Create a regex that finds negative integers without size limit.**"
   ]
  },
  {
   "cell_type": "code",
   "metadata": {
    "colab": {},
    "colab_type": "code",
    "id": "_BE3W4FrzeHr",
    "ExecuteTime": {
     "end_time": "2024-06-11T12:23:03.901419Z",
     "start_time": "2024-06-11T12:23:03.884323Z"
    }
   },
   "source": [
    "\n",
    "s = \"sssgdds-8sfsfs\"\n",
    "pattern = '-\\d'\n",
    "match = re.findall(pattern, s)\n",
    "print(match)"
   ],
   "outputs": [
    {
     "name": "stdout",
     "output_type": "stream",
     "text": [
      "['-8']\n"
     ]
    }
   ],
   "execution_count": 15
  },
  {
   "cell_type": "markdown",
   "metadata": {
    "colab_type": "text",
    "id": "VTyKX9W6zeHt"
   },
   "source": [
    "**3. Create a regex that finds (positive or negative) integers without size limit.**"
   ]
  },
  {
   "cell_type": "code",
   "metadata": {
    "colab": {},
    "colab_type": "code",
    "id": "aUt7Ut6szeHu",
    "ExecuteTime": {
     "end_time": "2024-06-11T12:23:04.009977Z",
     "start_time": "2024-06-11T12:23:03.999909Z"
    }
   },
   "source": [
    "s = \"sssgdds-8s8fsfs\"\n",
    "\n",
    "import re\n",
    "pattern = r'-?\\d'\n",
    "match = re.findall(pattern, s)\n",
    "print(match)"
   ],
   "outputs": [
    {
     "name": "stdout",
     "output_type": "stream",
     "text": [
      "['-8', '8']\n"
     ]
    }
   ],
   "execution_count": 16
  },
  {
   "cell_type": "markdown",
   "metadata": {
    "colab_type": "text",
    "id": "0PHROIn0zeHw"
   },
   "source": [
    "**4. Capture all the numbers of the following sentence :**"
   ]
  },
  {
   "cell_type": "code",
   "metadata": {
    "colab": {},
    "colab_type": "code",
    "id": "ZqZWhh6DzeHx",
    "ExecuteTime": {
     "end_time": "2024-06-11T12:23:04.057215Z",
     "start_time": "2024-06-11T12:23:04.042104Z"
    }
   },
   "source": [
    "text = \"21 scouts and 3 tanks fought against 4,003 protestors, so the manager was not 100.00% happy.\"\n",
    "\n",
    "pattern = r'-?\\b\\d+(?:[,.]\\d+)*(?:\\.\\d+)?%?\\b'\n",
    "mat = re.findall(pattern, text)\n",
    "print(mat)"
   ],
   "outputs": [
    {
     "name": "stdout",
     "output_type": "stream",
     "text": [
      "['21', '3', '4,003', '100.00']\n"
     ]
    }
   ],
   "execution_count": 17
  },
  {
   "cell_type": "markdown",
   "metadata": {
    "colab_type": "text",
    "id": "eMyqTHyTzeH2"
   },
   "source": [
    "**5. Find all words that end with 'ly'.**"
   ]
  },
  {
   "cell_type": "code",
   "metadata": {
    "colab": {},
    "colab_type": "code",
    "id": "F0zce0lbzeH2",
    "ExecuteTime": {
     "end_time": "2024-06-11T12:23:04.164405Z",
     "start_time": "2024-06-11T12:23:04.152552Z"
    }
   },
   "source": [
    "text = \"He had prudently disguised himself but was quickly captured by the police.\"\n",
    "pattern = r'\\b\\w+ly\\b'\n",
    "matches = re.findall(pattern, text)\n",
    "print(matches)"
   ],
   "outputs": [
    {
     "name": "stdout",
     "output_type": "stream",
     "text": [
      "['prudently', 'quickly']\n"
     ]
    }
   ],
   "execution_count": 18
  },
  {
   "cell_type": "markdown",
   "metadata": {
    "colab": {},
    "colab_type": "code",
    "id": "QoIRhUQazeH4"
   },
   "source": [
    "**6. License plate number**  \n",
    "A Belgian license plate consists of 1 digit (0, 1 or 2), a dash ('-'), 3 capital letters, a dash ('-') and finally 3 digits. Write a script to check that an input string is a valid license plate.  \n",
    "If it's correct, print `\"good\"`. If it's not correct, print `\"Not good\"`."
   ]
  },
  {
   "cell_type": "code",
   "metadata": {
    "colab": {},
    "colab_type": "code",
    "id": "PA-6loX6zeH8",
    "outputId": "b7289953-b595-4a76-c493-a6964423804a",
    "ExecuteTime": {
     "end_time": "2024-06-11T12:23:04.210994Z",
     "start_time": "2024-06-11T12:23:04.191891Z"
    }
   },
   "source": [
    "\n",
    "pattern = r'\\b[012]-[A-Z]{3}-\\d{3}$'\n",
    "def check_license_plate(plate):\n",
    "    if re.match(pattern, plate):\n",
    "        print(\"good\")\n",
    "    else:\n",
    "        print(\"Not good\")\n",
    "\n",
    "test_plates = [\"0-ABC-123\", \"1-XYZ-456\", \"2-DEF-789\", \"3-ABC-123\", \"0-abc-123\", \"0-ABC-12\"]\n",
    "for plate in test_plates:\n",
    "    print(f\"Checking {plate}: \", end=\"\")\n",
    "    check_license_plate(plate)"
   ],
   "outputs": [
    {
     "name": "stdout",
     "output_type": "stream",
     "text": [
      "Checking 0-ABC-123: good\n",
      "Checking 1-XYZ-456: good\n",
      "Checking 2-DEF-789: good\n",
      "Checking 3-ABC-123: Not good\n",
      "Checking 0-abc-123: Not good\n",
      "Checking 0-ABC-12: Not good\n"
     ]
    }
   ],
   "execution_count": 19
  },
  {
   "cell_type": "markdown",
   "metadata": {
    "colab_type": "text",
    "id": "3ioJXWmXzeIC"
   },
   "source": [
    "**7. Address IPV4**  \n",
    "An IPv4 address is composed of 4 numbers between 0 and 255 separated by '.'   \n",
    "Write a script to verify that a string entered is a valid IPv4 address."
   ]
  },
  {
   "cell_type": "code",
   "metadata": {
    "colab": {},
    "colab_type": "code",
    "id": "AEcNL-vXzeIE",
    "ExecuteTime": {
     "end_time": "2024-06-11T12:23:04.288819Z",
     "start_time": "2024-06-11T12:23:04.278169Z"
    }
   },
   "source": [
    "\n",
    "import re\n",
    "\n",
    "# Define the regex pattern for a valid IPv4 address\n",
    "pattern = r'^((25[0-5]|2[0-4][0-9]|[01]?[0-9][0-9]?)\\.){3}(25[0-5]|2[0-4][0-9]|[01]?[0-9][0-9]?)$'\n",
    "\n",
    "def check_ipv4_address(ip):\n",
    "    if re.match(pattern, ip):\n",
    "        print(\"Valid IPv4 address\")\n",
    "    else:\n",
    "        print(\"Invalid IPv4 address\")\n",
    "\n",
    "# Test the function with some examples\n",
    "test_ips = [\n",
    "    \"192.168.1.1\",      # Valid\n",
    "    \"255.255.255.255\",  # Valid\n",
    "    \"0.0.0.0\",          # Valid\n",
    "    \"256.256.256.256\",  # Invalid\n",
    "    \"192.168.1\",        # Invalid\n",
    "    \"192.168.1.256\",    # Invalid\n",
    "    \"123.456.78.90\",    # Invalid\n",
    "    \"12.34.56.78\",      # Valid\n",
    "    \"192.168.1.01\"      # Invalid due to leading zero\n",
    "]\n",
    "\n",
    "for ip in test_ips:\n",
    "    print(f\"Checking {ip}: \", end=\"\")\n",
    "    check_ipv4_address(ip)\n",
    "\n"
   ],
   "outputs": [
    {
     "name": "stdout",
     "output_type": "stream",
     "text": [
      "Checking 192.168.1.1: Valid IPv4 address\n",
      "Checking 255.255.255.255: Valid IPv4 address\n",
      "Checking 0.0.0.0: Valid IPv4 address\n",
      "Checking 256.256.256.256: Invalid IPv4 address\n",
      "Checking 192.168.1: Invalid IPv4 address\n",
      "Checking 192.168.1.256: Invalid IPv4 address\n",
      "Checking 123.456.78.90: Invalid IPv4 address\n",
      "Checking 12.34.56.78: Valid IPv4 address\n",
      "Checking 192.168.1.01: Valid IPv4 address\n"
     ]
    }
   ],
   "execution_count": 20
  },
  {
   "cell_type": "markdown",
   "metadata": {},
   "source": [
    "**8. Valid Mail**  \n",
    "An email is composed of alphanumeric characters followed by `@` and a domain name.  \n",
    "Write a script that checks that the string entered by a user is indeed that of an email, otherwise ask him to re-enter it again (until he gets a valid email)."
   ]
  },
  {
   "cell_type": "code",
   "metadata": {
    "colab": {},
    "colab_type": "code",
    "id": "8NGjap8NzeIH",
    "ExecuteTime": {
     "end_time": "2024-06-11T12:23:35.355986Z",
     "start_time": "2024-06-11T12:23:23.387179Z"
    }
   },
   "source": [
    "mail = input(\"Enter your email :\")\n",
    "pattern = r'^[a-zA-Z0-9._%+-]+@[a-zA-Z0-9.-]+\\.[a-zA-Z]{2,}$'\n",
    "\n",
    "while not re.match(pattern, mail) :\n",
    "    mail = input(\"Enter your email :\")"
   ],
   "outputs": [],
   "execution_count": 28
  },
  {
   "cell_type": "markdown",
   "metadata": {
    "colab_type": "text",
    "id": "5YoLVVnJzeIK"
   },
   "source": [
    "**9. Valid Password**  \n",
    "Write an additional script that verifies the password (obviously if the email is valid) where the only specificity of the password is that it has to contain at least 6 characters."
   ]
  },
  {
   "cell_type": "code",
   "metadata": {
    "colab": {},
    "colab_type": "code",
    "id": "1NJd2SIGzeIM",
    "ExecuteTime": {
     "end_time": "2024-06-11T12:29:32.104578Z",
     "start_time": "2024-06-11T12:28:53.057246Z"
    }
   },
   "source": [
    "password = input(\"Enter your password :\")\n",
    "pat = r'^\\w{6,}$'\n",
    "mail = input(\"Enter your email :\")\n",
    "pattern = r'^[a-zA-Z0-9._%+-]+@[a-zA-Z0-9.-]+\\.[a-zA-Z]{2,}$'\n",
    "\n",
    "while not re.match(pattern, mail) :\n",
    "    mail = input(\"Enter your email :\")\n",
    "\n",
    "if re.match(pattern, mail) : \n",
    "    while not re.match(pat, password) :\n",
    "        password = input(\"Enter your password :\")"
   ],
   "outputs": [],
   "execution_count": 32
  },
  {
   "cell_type": "markdown",
   "metadata": {
    "colab_type": "text",
    "id": "QBnkFFmtzeIO"
   },
   "source": [
    "**10. Valid Password bis**  \n",
    "The password must now contain at least 6 characters AND  \n",
    "\n",
    "- at least one lowercase letter AND \n",
    "- at least one uppercase letter AND \n",
    "- at least one number AND \n",
    "- at least one special character (among `$#@`)."
   ]
  },
  {
   "cell_type": "code",
   "metadata": {
    "colab": {},
    "colab_type": "code",
    "id": "Kh8YQEcjzeIP",
    "ExecuteTime": {
     "end_time": "2024-06-11T12:34:37.361310Z",
     "start_time": "2024-06-11T12:34:15.961617Z"
    }
   },
   "source": [
    "pattern = r'^(?=.*[a-z])(?=.*[A-Z])(?=.*\\d)(?=.*[=$#@]).{6,}$'\n",
    "\n",
    "def check_password(password):\n",
    "    if re.match(pattern, password):\n",
    "        print(\"Valid password\")\n",
    "    else:\n",
    "        print(\"Invalid password\")\n",
    "\n",
    "# Prompt the user to enter a password\n",
    "psw= input(\"Enter your password: \")\n",
    "check_password(psw)\n",
    "\n",
    "while not re.match(pattern, psw) :\n",
    "    psw = input(\"Enter your password :\")"
   ],
   "outputs": [
    {
     "name": "stdout",
     "output_type": "stream",
     "text": [
      "Invalid password\n"
     ]
    }
   ],
   "execution_count": 35
  },
  {
   "cell_type": "markdown",
   "metadata": {},
   "source": [
    "**11. Search by groups**  \n",
    "It is possible to search by groups, and it is very powerful!  \n",
    "`?P<x>\\w+` means the capture of a \"group\" named `x`, this group is composed of at least (`+`) one alphanumeric  character `(\\w)`."
   ]
  },
  {
   "cell_type": "code",
   "metadata": {
    "colab": {},
    "colab_type": "code",
    "id": "B84T52avzeIT",
    "outputId": "8c172ad4-e738-4959-853f-769431aa63fd",
    "ExecuteTime": {
     "end_time": "2024-06-11T12:35:18.368268Z",
     "start_time": "2024-06-11T12:35:18.343302Z"
    }
   },
   "source": [
    "m = re.search(\n",
    "    \"Welcome to (?P<where>\\w+) ! You are (?P<age>\\d+) years old ?\",\n",
    "    \"Welcome to Olivier ! You are 32 years old ?\",\n",
    ")\n",
    "print(m.group(\"where\"))\n",
    "print(m.group(\"age\"))"
   ],
   "outputs": [
    {
     "name": "stdout",
     "output_type": "stream",
     "text": [
      "Olivier\n",
      "32\n"
     ]
    }
   ],
   "execution_count": 36
  },
  {
   "cell_type": "code",
   "metadata": {
    "colab": {},
    "colab_type": "code",
    "id": "8zIMNbCVzeIW",
    "outputId": "7688cc3b-627d-4c7f-9352-71238148cb88",
    "ExecuteTime": {
     "end_time": "2024-06-11T12:35:22.565742Z",
     "start_time": "2024-06-11T12:35:22.548672Z"
    }
   },
   "source": [
    "# Another Example\n",
    "m = re.search(\n",
    "    \"^(?P<who>\\w*)[.]?(?P<who2>\\w*)@(?P<operator>\\w+)[.](?P<zone>\\w+$)\",\n",
    "    \"audrey.boulevart@benextcomapgny.com\",\n",
    ")\n",
    "if m is not None:\n",
    "    print(m.group(\"who\"))\n",
    "    print(m.group(\"who2\"))\n",
    "    print(m.group(\"operator\"))\n",
    "    print(m.group(\"zone\"))"
   ],
   "outputs": [
    {
     "name": "stdout",
     "output_type": "stream",
     "text": [
      "audrey\n",
      "boulevart\n",
      "benextcomapgny\n",
      "com\n"
     ]
    }
   ],
   "execution_count": 37
  },
  {
   "cell_type": "markdown",
   "metadata": {
    "colab_type": "text",
    "id": "jWjUNH0wzeIY"
   },
   "source": [
    "Load the file `./data/mail.txt` and clean it with the regex. The goal is to retrieve the last name, first name, operator and zone, as in the previous example. Store each of those into their own separate list."
   ]
  },
  {
   "cell_type": "code",
   "metadata": {
    "colab": {},
    "colab_type": "code",
    "id": "-lbl8DZDzeIZ",
    "ExecuteTime": {
     "end_time": "2024-06-11T12:47:06.449847Z",
     "start_time": "2024-06-11T12:47:06.414887Z"
    }
   },
   "source": [
    "\n",
    "with open(\"./data/mail.txt\") as list_mail : \n",
    "\n",
    "    name = []\n",
    "    operator_lst = []\n",
    "    zone = []\n",
    "    pattern = re.compile(r\"^(?P<who>\\w+)@(?P<operator>\\w+)[.](?P<zone>\\w+)$\")\n",
    "\n",
    "    for line in list_mail :\n",
    "        line.strip()\n",
    "        m = pattern.search(line)\n",
    "    \n",
    "        if m is not None:\n",
    "            name.append(m.group(\"who\"))\n",
    "            operator_lst.append(m.group(\"operator\"))\n",
    "            zone.append(m.group(\"zone\"))\n",
    "    \n",
    "\n",
    "# print(name)\n",
    "# print(operator_lst)\n",
    "# print(zone)"
   ],
   "outputs": [
    {
     "name": "stdout",
     "output_type": "stream",
     "text": [
      "['imail', 'email', 'proton', 'belgaximus', 'gaagle', 'napster', 'youhoo', 'belgaximus', 'email', 'imail', 'proton', 'napster', 'imail', 'email', 'ecoin', 'email', 'odul', 'hotmoille', 'youhoo', 'youhoo', 'napster', 'imail', 'gaagle', 'belgaximus', 'gaagle', 'gaagle', 'ecoin', 'gaagle', 'imail', 'gaagle', 'ecoin', 'odul', 'napster', 'youhoo', 'ecoin', 'imail', 'email', 'hotmoille', 'hotmoille', 'hotmoille', 'gaagle', 'email', 'ecoin', 'hotmoille', 'proton', 'ecoin', 'napster', 'napster', 'gaagle', 'proton', 'proton', 'hotmoille', 'youhoo', 'youhoo', 'belgaximus', 'proton', 'proton', 'belgaximus', 'hotmoille', 'hotmoille', 'email', 'belgaximus', 'hotmoille', 'proton', 'imail', 'belgaximus', 'odul', 'ecoin', 'napster', 'odul', 'imail', 'gaagle', 'napster', 'youhoo', 'napster', 'odul', 'youhoo', 'gaagle', 'youhoo', 'proton', 'imail', 'email', 'proton', 'ecoin', 'gaagle', 'hotmoille', 'hotmoille', 'napster', 'odul', 'belgaximus', 'proton', 'hotmoille', 'gaagle', 'hotmoille', 'imail', 'imail', 'email', 'imail', 'email', 'youhoo', 'napster', 'ecoin', 'email', 'proton', 'imail', 'odul', 'hotmoille', 'imail', 'imail', 'youhoo', 'gaagle', 'hotmoille', 'gaagle', 'email', 'gaagle', 'proton', 'email', 'napster', 'napster', 'proton', 'imail', 'ecoin', 'belgaximus', 'email', 'gaagle', 'email', 'odul', 'ecoin', 'proton', 'proton', 'youhoo', 'odul', 'odul', 'hotmoille', 'proton', 'ecoin', 'youhoo', 'email', 'email', 'youhoo', 'ecoin', 'email', 'youhoo', 'odul', 'gaagle', 'imail', 'belgaximus', 'belgaximus', 'odul', 'gaagle', 'gaagle', 'ecoin', 'gaagle', 'napster', 'youhoo', 'youhoo', 'gaagle', 'gaagle', 'ecoin', 'odul', 'hotmoille', 'email', 'youhoo', 'gaagle', 'ecoin', 'gaagle', 'hotmoille', 'belgaximus', 'hotmoille', 'napster', 'ecoin', 'hotmoille', 'youhoo', 'youhoo', 'ecoin', 'proton', 'odul', 'ecoin', 'hotmoille', 'belgaximus', 'hotmoille', 'youhoo', 'youhoo', 'youhoo', 'proton', 'proton', 'proton', 'napster', 'email', 'imail', 'hotmoille', 'gaagle', 'hotmoille', 'napster', 'email', 'proton', 'proton', 'napster', 'napster', 'ecoin', 'gaagle', 'proton', 'napster', 'belgaximus', 'youhoo', 'hotmoille', 'odul', 'odul', 'belgaximus', 'ecoin', 'email', 'odul', 'youhoo', 'imail', 'imail', 'proton', 'napster', 'imail', 'hotmoille', 'proton', 'proton', 'napster', 'odul', 'hotmoille', 'youhoo', 'belgaximus', 'hotmoille', 'gaagle', 'email', 'napster', 'imail', 'gaagle', 'proton', 'belgaximus', 'gaagle', 'odul', 'napster', 'imail', 'proton', 'youhoo', 'ecoin', 'gaagle', 'imail', 'imail', 'email', 'belgaximus', 'napster', 'odul', 'proton', 'hotmoille', 'gaagle', 'napster', 'email', 'ecoin', 'youhoo', 'odul', 'odul', 'gaagle', 'gaagle', 'hotmoille', 'hotmoille', 'ecoin', 'hotmoille', 'proton', 'ecoin', 'ecoin', 'proton', 'email', 'proton', 'gaagle', 'belgaximus', 'gaagle', 'hotmoille', 'imail', 'hotmoille', 'youhoo', 'odul', 'email', 'napster', 'ecoin', 'odul', 'imail', 'hotmoille', 'proton', 'gaagle', 'proton', 'odul', 'youhoo', 'proton', 'gaagle', 'ecoin', 'odul', 'email', 'email', 'hotmoille', 'gaagle', 'youhoo', 'gaagle', 'napster', 'napster', 'email', 'napster', 'gaagle', 'proton', 'youhoo', 'hotmoille', 'napster', 'belgaximus', 'odul', 'napster', 'ecoin', 'youhoo', 'belgaximus', 'imail', 'hotmoille', 'email', 'gaagle', 'proton', 'youhoo', 'imail', 'youhoo', 'email', 'belgaximus', 'youhoo', 'proton', 'gaagle', 'ecoin', 'odul', 'belgaximus', 'gaagle', 'imail', 'youhoo', 'youhoo', 'belgaximus', 'imail', 'gaagle', 'odul', 'gaagle', 'odul', 'youhoo', 'imail', 'hotmoille', 'odul', 'napster', 'belgaximus', 'email', 'gaagle', 'belgaximus', 'ecoin', 'imail', 'youhoo', 'youhoo', 'email', 'gaagle', 'ecoin', 'odul', 'odul', 'email', 'imail', 'napster', 'imail', 'imail', 'hotmoille', 'gaagle', 'gaagle', 'belgaximus', 'odul', 'odul', 'odul', 'napster', 'email', 'ecoin', 'email', 'napster', 'proton', 'imail', 'proton', 'imail', 'youhoo', 'proton', 'odul', 'imail', 'email', 'hotmoille', 'hotmoille', 'email', 'belgaximus', 'odul', 'youhoo', 'hotmoille', 'email', 'gaagle', 'belgaximus', 'napster', 'gaagle', 'hotmoille', 'ecoin', 'odul', 'belgaximus', 'napster', 'hotmoille', 'email', 'belgaximus', 'imail', 'gaagle', 'napster', 'gaagle', 'ecoin', 'youhoo', 'youhoo', 'napster', 'napster', 'imail', 'imail', 'proton', 'youhoo', 'ecoin', 'hotmoille', 'belgaximus', 'youhoo', 'imail', 'odul', 'napster', 'imail', 'ecoin', 'hotmoille', 'proton', 'belgaximus', 'odul', 'youhoo', 'imail', 'imail', 'proton', 'napster', 'email', 'belgaximus', 'gaagle', 'proton', 'gaagle', 'proton', 'youhoo', 'ecoin', 'gaagle', 'belgaximus', 'youhoo', 'odul', 'proton', 'napster', 'proton', 'proton', 'odul', 'hotmoille', 'odul', 'email', 'youhoo', 'proton', 'hotmoille', 'imail', 'napster', 'belgaximus', 'ecoin', 'ecoin', 'belgaximus', 'odul', 'ecoin', 'proton', 'imail', 'belgaximus', 'gaagle', 'imail', 'napster', 'proton', 'odul', 'hotmoille', 'imail', 'odul', 'proton', 'hotmoille', 'imail', 'gaagle', 'email', 'ecoin', 'hotmoille', 'gaagle', 'youhoo', 'hotmoille', 'youhoo', 'hotmoille', 'gaagle', 'youhoo', 'youhoo', 'gaagle', 'ecoin', 'hotmoille', 'odul', 'hotmoille', 'imail', 'youhoo', 'napster', 'youhoo', 'youhoo', 'email', 'odul', 'odul', 'youhoo', 'odul', 'belgaximus', 'napster', 'gaagle', 'napster', 'email', 'belgaximus', 'napster', 'odul', 'proton', 'ecoin', 'proton', 'proton', 'hotmoille', 'odul', 'odul', 'gaagle', 'email', 'email', 'proton', 'napster', 'belgaximus', 'email', 'imail', 'napster', 'email', 'odul', 'hotmoille', 'odul', 'youhoo', 'imail', 'ecoin', 'imail', 'ecoin', 'hotmoille', 'youhoo', 'proton', 'odul', 'imail', 'proton', 'napster', 'ecoin', 'proton', 'proton', 'hotmoille', 'napster', 'ecoin', 'napster', 'belgaximus', 'hotmoille', 'napster', 'email', 'email', 'youhoo', 'odul', 'odul', 'youhoo', 'imail', 'email', 'napster', 'belgaximus', 'youhoo', 'napster', 'hotmoille', 'gaagle', 'odul', 'imail', 'email', 'odul', 'belgaximus', 'proton', 'email', 'proton', 'hotmoille', 'belgaximus', 'proton', 'hotmoille', 'proton', 'email', 'youhoo', 'odul', 'youhoo', 'odul', 'ecoin', 'gaagle', 'email', 'proton', 'belgaximus', 'gaagle', 'imail', 'imail', 'hotmoille', 'napster', 'imail', 'proton', 'belgaximus', 'belgaximus', 'odul', 'belgaximus', 'napster', 'imail', 'ecoin', 'napster', 'odul', 'email', 'odul', 'napster', 'email', 'belgaximus', 'youhoo', 'hotmoille', 'email', 'email', 'hotmoille', 'ecoin', 'belgaximus', 'ecoin', 'napster', 'gaagle', 'imail', 'imail', 'odul', 'hotmoille', 'email', 'napster', 'hotmoille', 'odul', 'napster', 'odul', 'proton', 'ecoin', 'gaagle', 'ecoin', 'odul', 'ecoin', 'email', 'youhoo', 'napster', 'proton', 'youhoo', 'odul', 'email', 'gaagle', 'ecoin', 'hotmoille', 'email', 'ecoin', 'napster', 'ecoin', 'email', 'ecoin', 'napster', 'youhoo', 'proton', 'hotmoille', 'ecoin', 'hotmoille', 'youhoo', 'gaagle', 'hotmoille', 'proton', 'proton', 'odul', 'belgaximus', 'email', 'youhoo', 'ecoin', 'imail', 'imail', 'napster', 'belgaximus', 'ecoin', 'email', 'napster', 'proton', 'napster', 'gaagle', 'napster', 'youhoo', 'belgaximus', 'proton', 'imail', 'gaagle', 'napster', 'belgaximus', 'hotmoille', 'odul', 'proton', 'ecoin', 'napster', 'imail', 'gaagle', 'proton', 'odul', 'gaagle', 'imail', 'youhoo', 'ecoin', 'odul', 'imail', 'imail', 'napster', 'belgaximus', 'imail', 'ecoin', 'youhoo', 'odul', 'proton', 'email', 'gaagle', 'youhoo', 'gaagle', 'proton', 'ecoin', 'odul', 'napster', 'hotmoille', 'odul', 'gaagle', 'email', 'hotmoille', 'proton', 'proton', 'email', 'email', 'gaagle', 'hotmoille', 'hotmoille', 'hotmoille', 'gaagle', 'gaagle', 'email', 'gaagle', 'belgaximus', 'ecoin', 'odul', 'email', 'gaagle', 'email', 'ecoin', 'proton', 'imail', 'youhoo', 'odul', 'imail', 'ecoin', 'proton', 'proton', 'gaagle', 'email', 'youhoo', 'belgaximus', 'youhoo', 'hotmoille', 'gaagle', 'proton', 'odul', 'imail', 'youhoo', 'ecoin', 'napster', 'imail', 'belgaximus', 'gaagle', 'hotmoille', 'napster', 'gaagle', 'hotmoille', 'belgaximus', 'napster', 'belgaximus', 'proton', 'odul', 'ecoin', 'odul', 'belgaximus', 'belgaximus', 'email', 'napster', 'youhoo', 'belgaximus', 'napster', 'hotmoille', 'napster', 'youhoo', 'proton', 'imail', 'proton', 'gaagle', 'imail', 'odul', 'ecoin', 'odul', 'proton', 'youhoo', 'belgaximus', 'email', 'hotmoille', 'proton', 'napster', 'odul', 'imail', 'belgaximus', 'napster', 'email', 'napster', 'belgaximus', 'proton', 'belgaximus', 'youhoo', 'imail', 'odul', 'napster', 'gaagle', 'belgaximus', 'youhoo', 'belgaximus', 'imail', 'imail', 'napster', 'gaagle', 'imail', 'email', 'odul', 'hotmoille', 'imail', 'odul', 'youhoo', 'hotmoille', 'gaagle', 'ecoin', 'hotmoille', 'youhoo', 'napster', 'hotmoille', 'belgaximus', 'email', 'belgaximus', 'gaagle', 'napster', 'youhoo', 'odul', 'imail', 'imail', 'youhoo', 'ecoin', 'napster', 'email', 'belgaximus', 'ecoin', 'ecoin', 'napster', 'proton', 'ecoin', 'napster', 'gaagle', 'napster', 'hotmoille', 'email', 'hotmoille', 'napster', 'gaagle', 'proton', 'email', 'email', 'napster', 'ecoin', 'napster', 'proton', 'proton', 'belgaximus', 'ecoin', 'ecoin', 'gaagle', 'hotmoille', 'belgaximus', 'odul', 'email', 'imail', 'gaagle', 'odul', 'gaagle', 'hotmoille', 'belgaximus', 'hotmoille', 'napster', 'odul', 'odul', 'proton', 'ecoin', 'odul', 'proton', 'hotmoille', 'youhoo', 'napster', 'email', 'belgaximus', 'odul', 'proton', 'belgaximus', 'gaagle', 'youhoo', 'imail', 'imail', 'email', 'youhoo', 'odul', 'youhoo', 'proton', 'imail', 'imail', 'odul', 'youhoo', 'youhoo', 'napster', 'ecoin', 'gaagle', 'email', 'imail', 'gaagle', 'email', 'youhoo', 'belgaximus', 'ecoin', 'odul', 'hotmoille', 'hotmoille', 'proton', 'gaagle', 'odul', 'imail', 'proton', 'napster', 'napster', 'hotmoille', 'email', 'proton', 'imail', 'proton', 'ecoin', 'odul', 'gaagle', 'hotmoille', 'ecoin', 'hotmoille', 'belgaximus', 'hotmoille', 'belgaximus', 'imail', 'email', 'email', 'hotmoille', 'ecoin', 'youhoo', 'youhoo', 'ecoin', 'proton', 'odul', 'imail', 'imail', 'hotmoille', 'odul', 'hotmoille', 'hotmoille', 'email', 'proton', 'odul', 'odul', 'proton', 'hotmoille', 'gaagle', 'email', 'youhoo', 'imail', 'email', 'gaagle', 'hotmoille', 'hotmoille', 'napster', 'proton', 'youhoo', 'ecoin', 'imail', 'odul', 'imail', 'youhoo', 'email', 'belgaximus', 'odul', 'odul', 'youhoo', 'proton', 'imail', 'hotmoille', 'gaagle', 'odul', 'proton', 'ecoin', 'email', 'youhoo', 'odul', 'ecoin', 'hotmoille', 'proton', 'belgaximus', 'youhoo', 'imail', 'gaagle', 'email', 'hotmoille', 'napster', 'imail', 'imail', 'imail', 'proton', 'hotmoille', 'email', 'email', 'odul', 'odul', 'youhoo', 'hotmoille', 'napster', 'ecoin', 'email', 'gaagle', 'gaagle', 'belgaximus', 'odul', 'ecoin', 'napster', 'hotmoille', 'gaagle', 'imail', 'imail', 'proton', 'hotmoille', 'imail', 'gaagle', 'proton', 'imail', 'hotmoille', 'gaagle', 'napster', 'napster', 'napster', 'imail', 'youhoo', 'ecoin', 'youhoo', 'email', 'imail', 'gaagle', 'napster', 'hotmoille', 'email', 'imail', 'ecoin', 'youhoo', 'napster', 'youhoo', 'napster', 'ecoin', 'odul', 'napster', 'odul', 'belgaximus', 'odul', 'napster', 'gaagle', 'hotmoille', 'ecoin', 'youhoo', 'proton', 'imail', 'napster', 'belgaximus', 'email', 'gaagle', 'ecoin', 'odul', 'youhoo', 'hotmoille', 'proton', 'youhoo', 'youhoo', 'napster', 'gaagle', 'proton', 'belgaximus', 'email', 'napster', 'ecoin', 'imail', 'odul', 'youhoo', 'imail', 'youhoo', 'youhoo', 'gaagle', 'odul', 'belgaximus', 'hotmoille', 'youhoo', 'odul', 'napster', 'youhoo', 'email', 'odul', 'ecoin', 'youhoo', 'hotmoille', 'napster', 'ecoin', 'odul', 'napster', 'napster', 'odul', 'gaagle', 'hotmoille', 'ecoin', 'odul', 'hotmoille', 'proton', 'odul', 'gaagle', 'ecoin', 'imail', 'email', 'youhoo', 'hotmoille', 'proton', 'youhoo', 'napster', 'youhoo', 'hotmoille', 'proton', 'imail', 'gaagle', 'proton', 'odul', 'email', 'imail', 'imail', 'ecoin', 'proton', 'belgaximus', 'napster', 'belgaximus', 'napster', 'email', 'hotmoille', 'gaagle', 'proton', 'napster', 'gaagle', 'youhoo', 'imail', 'odul', 'odul', 'ecoin', 'hotmoille', 'belgaximus', 'gaagle', 'odul', 'youhoo', 'odul', 'belgaximus', 'proton', 'hotmoille', 'youhoo', 'ecoin', 'belgaximus', 'gaagle', 'proton', 'proton', 'napster', 'odul', 'youhoo', 'odul', 'hotmoille', 'hotmoille', 'belgaximus', 'napster', 'gaagle', 'hotmoille', 'hotmoille', 'imail', 'email', 'ecoin', 'belgaximus', 'gaagle', 'youhoo', 'youhoo', 'imail', 'hotmoille', 'belgaximus', 'proton', 'imail', 'odul', 'hotmoille', 'odul', 'imail', 'ecoin', 'odul', 'proton', 'napster', 'email', 'imail', 'youhoo', 'ecoin', 'hotmoille', 'ecoin', 'ecoin', 'youhoo', 'belgaximus', 'imail', 'youhoo', 'imail', 'odul', 'odul', 'belgaximus', 'proton', 'ecoin', 'youhoo', 'email', 'proton', 'ecoin', 'imail', 'odul', 'proton', 'imail', 'imail', 'imail', 'imail', 'odul', 'imail', 'email', 'gaagle', 'imail', 'proton', 'odul', 'imail', 'youhoo', 'odul', 'youhoo', 'gaagle', 'odul', 'youhoo', 'odul', 'proton', 'gaagle', 'ecoin', 'youhoo', 'proton', 'napster', 'napster', 'proton', 'gaagle', 'ecoin', 'hotmoille', 'hotmoille', 'belgaximus', 'youhoo', 'imail', 'hotmoille', 'ecoin', 'gaagle', 'gaagle', 'proton', 'ecoin', 'belgaximus', 'gaagle', 'napster', 'proton', 'email', 'hotmoille', 'imail', 'gaagle', 'gaagle', 'hotmoille', 'email', 'email', 'belgaximus', 'youhoo', 'odul', 'odul', 'gaagle', 'proton', 'belgaximus', 'belgaximus', 'ecoin', 'belgaximus', 'ecoin', 'belgaximus', 'youhoo', 'youhoo', 'belgaximus', 'email', 'youhoo', 'odul', 'napster', 'belgaximus', 'belgaximus', 'gaagle', 'ecoin', 'imail', 'email', 'napster', 'gaagle', 'proton', 'ecoin', 'email', 'belgaximus', 'odul', 'youhoo', 'proton', 'youhoo', 'gaagle', 'youhoo', 'email', 'hotmoille', 'youhoo', 'hotmoille', 'belgaximus', 'ecoin', 'belgaximus', 'ecoin', 'proton', 'proton', 'belgaximus', 'imail', 'odul', 'ecoin', 'imail', 'gaagle', 'youhoo', 'ecoin', 'gaagle', 'ecoin', 'proton', 'hotmoille', 'odul', 'ecoin', 'youhoo', 'ecoin', 'belgaximus', 'belgaximus', 'imail', 'belgaximus', 'napster', 'hotmoille', 'imail', 'belgaximus', 'youhoo', 'email', 'belgaximus', 'ecoin', 'belgaximus', 'imail', 'hotmoille', 'proton', 'hotmoille', 'hotmoille', 'napster', 'ecoin', 'imail', 'proton', 'proton', 'odul', 'ecoin', 'ecoin', 'napster', 'proton', 'imail', 'ecoin', 'youhoo', 'odul', 'ecoin', 'imail', 'gaagle', 'belgaximus', 'belgaximus', 'proton', 'email', 'email', 'youhoo', 'imail', 'email', 'odul', 'ecoin', 'odul', 'gaagle', 'napster', 'proton', 'gaagle', 'imail', 'imail', 'hotmoille', 'gaagle', 'gaagle', 'imail', 'gaagle', 'napster', 'napster', 'odul', 'ecoin', 'imail', 'email', 'imail', 'email', 'hotmoille', 'odul', 'proton', 'youhoo', 'email', 'ecoin', 'napster', 'imail', 'hotmoille', 'napster', 'ecoin', 'gaagle', 'proton', 'email', 'imail', 'email', 'gaagle', 'napster', 'napster', 'gaagle', 'email', 'napster', 'email', 'hotmoille', 'odul', 'youhoo', 'napster', 'imail', 'proton', 'proton', 'email', 'hotmoille', 'proton', 'belgaximus', 'gaagle', 'odul', 'hotmoille', 'odul', 'hotmoille', 'belgaximus', 'email', 'napster', 'napster', 'ecoin', 'email', 'imail', 'email', 'odul', 'hotmoille', 'odul', 'youhoo', 'ecoin', 'gaagle', 'belgaximus', 'ecoin', 'imail', 'odul', 'odul', 'youhoo', 'youhoo', 'ecoin', 'ecoin', 'imail', 'email', 'email', 'youhoo', 'belgaximus', 'email', 'youhoo', 'proton', 'proton', 'gaagle', 'hotmoille', 'proton', 'ecoin', 'belgaximus', 'gaagle', 'odul', 'proton', 'belgaximus', 'email', 'youhoo', 'napster', 'gaagle', 'napster', 'hotmoille', 'ecoin', 'hotmoille', 'odul', 'imail', 'youhoo', 'youhoo', 'gaagle', 'hotmoille', 'proton', 'imail', 'email', 'odul', 'ecoin', 'belgaximus', 'gaagle', 'youhoo', 'imail', 'odul', 'odul', 'email', 'imail', 'gaagle', 'napster', 'hotmoille', 'imail', 'hotmoille', 'belgaximus', 'odul', 'proton', 'email', 'hotmoille', 'hotmoille', 'belgaximus', 'napster', 'napster', 'belgaximus', 'odul', 'ecoin', 'odul', 'belgaximus', 'proton', 'imail', 'odul', 'youhoo', 'youhoo', 'hotmoille', 'proton', 'email', 'belgaximus', 'proton', 'napster', 'gaagle', 'email', 'proton', 'belgaximus', 'proton', 'email', 'napster', 'ecoin', 'belgaximus', 'proton', 'ecoin', 'youhoo', 'gaagle', 'odul', 'odul', 'youhoo', 'hotmoille', 'gaagle', 'proton', 'napster', 'imail', 'napster', 'odul', 'gaagle', 'belgaximus', 'hotmoille', 'napster', 'imail', 'imail', 'odul', 'email', 'youhoo', 'belgaximus', 'napster', 'odul', 'odul', 'imail', 'hotmoille', 'belgaximus', 'gaagle', 'youhoo', 'ecoin', 'ecoin', 'proton', 'napster', 'odul', 'proton', 'napster', 'proton', 'email', 'hotmoille', 'napster', 'gaagle', 'napster', 'hotmoille', 'youhoo', 'imail', 'imail', 'youhoo', 'proton', 'ecoin', 'imail', 'napster', 'youhoo', 'email', 'gaagle', 'ecoin', 'odul', 'hotmoille', 'odul', 'hotmoille', 'email', 'imail', 'email', 'ecoin', 'email', 'email', 'proton', 'proton', 'hotmoille', 'napster', 'odul', 'napster', 'email', 'proton', 'hotmoille', 'hotmoille', 'proton', 'napster', 'gaagle', 'gaagle', 'napster', 'hotmoille', 'hotmoille', 'ecoin', 'belgaximus', 'email', 'ecoin', 'youhoo', 'odul', 'napster', 'proton', 'youhoo', 'youhoo', 'youhoo', 'proton', 'proton', 'email', 'imail', 'hotmoille', 'email', 'hotmoille', 'napster', 'email', 'proton', 'gaagle', 'imail', 'proton', 'email', 'imail', 'odul', 'ecoin', 'ecoin', 'email', 'ecoin', 'hotmoille', 'email', 'ecoin', 'odul', 'belgaximus', 'imail', 'napster', 'proton', 'hotmoille', 'proton', 'belgaximus', 'email', 'napster', 'gaagle', 'odul', 'imail', 'ecoin', 'hotmoille', 'youhoo', 'proton', 'napster', 'gaagle', 'youhoo', 'napster', 'ecoin', 'napster', 'odul', 'napster', 'imail', 'ecoin', 'hotmoille', 'imail', 'youhoo', 'proton', 'belgaximus', 'belgaximus', 'imail', 'imail', 'napster', 'imail', 'ecoin', 'gaagle', 'napster', 'ecoin', 'imail', 'gaagle', 'ecoin', 'ecoin', 'belgaximus', 'youhoo', 'ecoin', 'youhoo', 'youhoo', 'hotmoille', 'youhoo', 'gaagle', 'imail', 'proton', 'imail', 'hotmoille', 'youhoo', 'email', 'proton', 'email', 'gaagle', 'napster', 'youhoo', 'hotmoille', 'odul', 'youhoo', 'hotmoille', 'email', 'imail', 'hotmoille', 'youhoo', 'ecoin', 'odul', 'odul', 'hotmoille', 'youhoo', 'youhoo', 'imail', 'odul', 'proton', 'proton', 'youhoo', 'email', 'youhoo', 'belgaximus', 'odul', 'ecoin', 'belgaximus', 'belgaximus', 'hotmoille', 'gaagle', 'youhoo', 'belgaximus', 'odul', 'hotmoille', 'ecoin', 'proton', 'ecoin', 'email', 'proton', 'imail', 'hotmoille', 'imail', 'email', 'ecoin', 'imail', 'imail', 'proton', 'napster', 'odul', 'odul', 'odul', 'email', 'email', 'proton', 'proton', 'imail', 'ecoin', 'odul', 'belgaximus', 'ecoin', 'gaagle', 'email', 'email', 'imail', 'email', 'email', 'imail', 'hotmoille', 'imail', 'proton', 'youhoo', 'proton', 'napster', 'gaagle', 'imail', 'napster', 'youhoo', 'ecoin', 'imail', 'belgaximus', 'odul', 'gaagle', 'odul', 'youhoo', 'belgaximus', 'napster', 'imail', 'proton', 'odul', 'hotmoille', 'ecoin', 'gaagle', 'imail', 'ecoin', 'gaagle', 'email', 'youhoo', 'imail', 'gaagle', 'youhoo', 'hotmoille', 'proton', 'napster', 'proton', 'proton', 'hotmoille', 'ecoin', 'youhoo', 'email', 'imail', 'belgaximus', 'gaagle', 'email', 'belgaximus', 'imail', 'odul', 'email', 'hotmoille', 'proton', 'napster', 'ecoin', 'email', 'belgaximus', 'youhoo', 'belgaximus', 'ecoin', 'imail', 'hotmoille', 'belgaximus', 'youhoo', 'proton', 'odul', 'ecoin', 'gaagle', 'napster', 'proton', 'napster', 'napster', 'proton', 'imail', 'hotmoille', 'odul', 'youhoo', 'proton', 'ecoin', 'youhoo', 'belgaximus', 'napster', 'napster', 'youhoo', 'proton', 'hotmoille', 'youhoo', 'proton', 'youhoo', 'ecoin', 'ecoin', 'ecoin', 'ecoin', 'odul', 'proton', 'proton', 'proton', 'imail', 'imail', 'hotmoille', 'email', 'hotmoille', 'gaagle', 'proton', 'ecoin', 'youhoo', 'belgaximus', 'ecoin', 'proton', 'youhoo', 'youhoo', 'belgaximus', 'napster', 'belgaximus', 'gaagle', 'youhoo', 'proton', 'imail', 'odul', 'gaagle', 'belgaximus', 'napster', 'gaagle', 'belgaximus', 'napster', 'hotmoille', 'napster', 'belgaximus', 'proton', 'napster', 'hotmoille', 'odul', 'gaagle', 'email', 'belgaximus', 'odul', 'youhoo', 'email', 'napster', 'belgaximus', 'napster', 'email', 'odul', 'youhoo', 'belgaximus', 'youhoo', 'belgaximus', 'proton', 'youhoo', 'ecoin', 'email', 'napster', 'ecoin', 'ecoin', 'youhoo', 'gaagle', 'gaagle', 'imail', 'youhoo', 'proton', 'napster', 'hotmoille', 'email', 'ecoin', 'napster', 'napster', 'ecoin', 'email', 'belgaximus', 'proton', 'ecoin', 'imail', 'youhoo', 'hotmoille', 'ecoin', 'odul', 'imail', 'belgaximus', 'hotmoille', 'odul', 'napster', 'napster', 'email', 'hotmoille', 'napster', 'imail', 'youhoo', 'odul', 'hotmoille', 'proton', 'ecoin', 'ecoin', 'napster', 'belgaximus', 'ecoin', 'hotmoille', 'belgaximus', 'proton', 'imail', 'odul', 'email', 'odul', 'napster', 'napster', 'youhoo', 'youhoo', 'youhoo', 'ecoin', 'youhoo', 'youhoo', 'proton', 'ecoin', 'gaagle', 'gaagle', 'email', 'ecoin', 'imail', 'youhoo', 'gaagle', 'imail', 'ecoin', 'belgaximus', 'odul', 'napster', 'imail', 'hotmoille', 'proton', 'gaagle', 'ecoin', 'gaagle', 'ecoin', 'belgaximus', 'napster', 'hotmoille', 'proton', 'belgaximus', 'email', 'proton', 'imail', 'gaagle', 'napster', 'napster', 'imail', 'youhoo', 'napster', 'belgaximus', 'ecoin', 'hotmoille', 'hotmoille', 'proton', 'gaagle', 'odul', 'hotmoille', 'belgaximus', 'napster', 'hotmoille', 'imail', 'hotmoille', 'ecoin', 'proton', 'gaagle', 'email', 'hotmoille', 'gaagle', 'email', 'ecoin', 'imail', 'ecoin', 'napster', 'belgaximus', 'imail', 'youhoo', 'imail', 'email', 'imail', 'ecoin', 'hotmoille', 'imail', 'email', 'proton', 'belgaximus', 'ecoin', 'odul', 'ecoin', 'youhoo', 'imail', 'email', 'odul', 'gaagle', 'proton', 'napster', 'youhoo', 'youhoo', 'youhoo', 'proton', 'youhoo', 'odul', 'odul', 'hotmoille', 'belgaximus', 'belgaximus', 'proton', 'imail', 'hotmoille', 'hotmoille', 'youhoo', 'youhoo', 'imail', 'hotmoille', 'ecoin', 'proton', 'hotmoille', 'gaagle', 'napster', 'imail', 'proton', 'belgaximus', 'youhoo', 'email', 'hotmoille', 'odul', 'youhoo', 'youhoo', 'hotmoille', 'gaagle', 'belgaximus', 'youhoo', 'email', 'email', 'odul', 'hotmoille', 'belgaximus', 'odul', 'proton', 'email', 'gaagle', 'odul', 'napster', 'napster', 'proton', 'imail', 'odul', 'napster', 'gaagle', 'imail', 'hotmoille', 'odul', 'gaagle', 'youhoo', 'gaagle', 'proton', 'hotmoille', 'gaagle', 'proton', 'odul', 'napster', 'ecoin', 'napster', 'gaagle', 'belgaximus', 'odul', 'email', 'belgaximus', 'proton', 'youhoo', 'imail', 'ecoin', 'belgaximus', 'email', 'proton', 'odul', 'youhoo', 'ecoin', 'proton', 'hotmoille', 'youhoo', 'imail', 'imail', 'hotmoille', 'youhoo', 'ecoin', 'youhoo', 'proton', 'ecoin', 'email', 'napster', 'hotmoille', 'gaagle', 'belgaximus', 'imail', 'imail', 'napster', 'email', 'email', 'email', 'gaagle', 'imail', 'proton', 'napster', 'youhoo', 'imail', 'proton', 'ecoin', 'napster', 'hotmoille', 'ecoin', 'napster', 'ecoin', 'napster', 'odul', 'odul', 'odul', 'ecoin', 'gaagle', 'hotmoille', 'imail', 'email', 'ecoin', 'ecoin', 'youhoo', 'odul', 'napster', 'imail', 'gaagle', 'youhoo', 'youhoo', 'email', 'youhoo', 'email', 'gaagle', 'gaagle', 'hotmoille', 'belgaximus', 'youhoo', 'belgaximus', 'youhoo', 'imail', 'email', 'youhoo', 'imail', 'ecoin', 'youhoo', 'odul', 'napster', 'napster', 'odul', 'napster', 'youhoo', 'gaagle', 'imail', 'hotmoille', 'belgaximus', 'imail', 'imail', 'email', 'odul', 'belgaximus', 'odul', 'gaagle', 'napster', 'youhoo', 'youhoo', 'hotmoille', 'ecoin', 'belgaximus', 'ecoin', 'youhoo', 'gaagle', 'belgaximus', 'proton', 'hotmoille', 'ecoin', 'youhoo', 'email', 'ecoin', 'email', 'ecoin', 'imail', 'imail', 'email', 'email', 'belgaximus', 'belgaximus', 'email', 'ecoin', 'napster', 'napster', 'belgaximus', 'imail', 'imail', 'gaagle', 'ecoin', 'proton', 'email', 'proton', 'proton', 'odul', 'gaagle', 'email', 'odul', 'imail', 'proton', 'imail', 'hotmoille', 'email', 'email', 'odul', 'email', 'odul', 'belgaximus', 'email', 'napster', 'email', 'odul', 'hotmoille', 'email', 'odul', 'ecoin', 'youhoo', 'belgaximus', 'napster', 'gaagle', 'proton', 'napster', 'email', 'gaagle', 'belgaximus', 'youhoo', 'hotmoille', 'gaagle', 'odul', 'email', 'hotmoille', 'ecoin', 'odul', 'proton', 'youhoo', 'ecoin', 'napster', 'youhoo', 'belgaximus', 'proton', 'gaagle', 'belgaximus', 'napster', 'odul', 'email', 'hotmoille', 'hotmoille', 'ecoin', 'email', 'belgaximus', 'belgaximus', 'imail', 'email', 'belgaximus', 'proton', 'imail', 'gaagle', 'belgaximus', 'imail', 'hotmoille', 'email', 'ecoin', 'gaagle', 'hotmoille', 'belgaximus', 'email', 'belgaximus', 'belgaximus', 'hotmoille', 'proton', 'proton', 'youhoo', 'gaagle', 'imail', 'proton', 'proton', 'youhoo', 'napster', 'gaagle', 'gaagle', 'proton', 'ecoin', 'hotmoille', 'gaagle', 'email', 'odul', 'belgaximus', 'youhoo', 'youhoo', 'hotmoille', 'ecoin', 'hotmoille', 'email', 'proton', 'email', 'email', 'youhoo', 'odul', 'imail', 'imail', 'email', 'imail', 'odul', 'youhoo', 'youhoo', 'hotmoille', 'odul', 'email', 'gaagle', 'odul', 'napster', 'imail', 'odul', 'belgaximus', 'youhoo', 'gaagle', 'ecoin', 'email', 'odul', 'imail', 'email', 'ecoin', 'email', 'imail', 'ecoin', 'youhoo', 'imail', 'proton', 'youhoo', 'napster', 'ecoin', 'odul', 'ecoin', 'imail', 'hotmoille', 'odul', 'youhoo', 'proton', 'imail', 'youhoo', 'hotmoille', 'email', 'email', 'imail', 'youhoo', 'proton', 'ecoin', 'odul', 'proton', 'gaagle', 'gaagle', 'napster', 'odul', 'odul', 'belgaximus', 'odul', 'belgaximus', 'hotmoille', 'proton', 'hotmoille', 'youhoo', 'gaagle', 'proton', 'proton', 'imail', 'hotmoille', 'hotmoille', 'proton', 'napster', 'ecoin', 'ecoin', 'odul', 'email', 'imail', 'youhoo', 'hotmoille', 'napster', 'odul', 'ecoin', 'gaagle', 'youhoo', 'proton', 'ecoin', 'proton', 'imail', 'odul', 'imail', 'gaagle', 'belgaximus', 'hotmoille', 'imail', 'gaagle', 'email', 'odul', 'proton', 'email', 'gaagle', 'proton', 'ecoin', 'ecoin', 'proton', 'proton', 'napster', 'email', 'imail', 'napster', 'ecoin', 'youhoo', 'hotmoille', 'gaagle', 'imail', 'email', 'belgaximus', 'gaagle', 'imail', 'hotmoille', 'email', 'belgaximus', 'gaagle', 'ecoin', 'proton', 'proton', 'ecoin', 'gaagle', 'email', 'ecoin', 'gaagle', 'youhoo', 'imail', 'imail', 'email', 'imail', 'napster', 'odul', 'hotmoille', 'gaagle', 'proton', 'gaagle', 'napster', 'gaagle', 'proton', 'napster', 'youhoo', 'youhoo', 'imail', 'ecoin', 'email', 'hotmoille', 'ecoin', 'odul', 'napster', 'hotmoille', 'napster', 'napster', 'odul', 'gaagle', 'youhoo', 'imail', 'email', 'gaagle', 'ecoin', 'ecoin', 'ecoin', 'youhoo', 'belgaximus', 'hotmoille', 'imail', 'belgaximus', 'napster', 'belgaximus', 'youhoo', 'imail', 'email', 'belgaximus', 'gaagle', 'belgaximus', 'ecoin', 'imail', 'hotmoille', 'napster', 'napster', 'odul', 'odul', 'odul', 'proton', 'email', 'ecoin', 'napster', 'gaagle', 'napster', 'hotmoille', 'email', 'hotmoille', 'imail', 'napster', 'email', 'proton', 'email', 'youhoo', 'email', 'odul', 'proton', 'ecoin', 'belgaximus', 'napster', 'odul', 'proton', 'napster', 'proton', 'youhoo', 'hotmoille', 'email', 'email', 'hotmoille', 'odul', 'gaagle', 'youhoo', 'email', 'napster', 'proton', 'proton', 'youhoo', 'gaagle', 'napster', 'youhoo', 'belgaximus', 'hotmoille', 'email', 'napster', 'email', 'imail', 'gaagle', 'imail', 'napster', 'email', 'email', 'imail', 'email', 'imail', 'ecoin', 'proton', 'hotmoille', 'email', 'imail', 'ecoin', 'napster', 'hotmoille', 'hotmoille', 'gaagle', 'proton', 'napster', 'napster', 'hotmoille', 'hotmoille', 'ecoin', 'belgaximus', 'odul', 'belgaximus', 'youhoo', 'proton', 'belgaximus', 'email', 'hotmoille', 'odul', 'belgaximus', 'imail', 'ecoin', 'proton', 'napster', 'belgaximus', 'gaagle', 'email', 'imail', 'proton', 'gaagle', 'ecoin', 'proton', 'imail', 'odul', 'proton', 'imail', 'youhoo', 'odul', 'imail', 'hotmoille', 'email', 'email', 'email', 'youhoo', 'belgaximus', 'hotmoille', 'email', 'youhoo', 'gaagle', 'gaagle', 'belgaximus', 'odul', 'odul', 'gaagle', 'hotmoille', 'proton', 'belgaximus', 'email', 'odul', 'proton', 'proton', 'proton', 'email', 'imail', 'gaagle', 'napster', 'belgaximus', 'imail', 'ecoin', 'imail', 'imail', 'gaagle', 'youhoo', 'email', 'ecoin', 'proton', 'ecoin', 'youhoo', 'email', 'youhoo', 'odul', 'email', 'youhoo', 'hotmoille', 'imail', 'belgaximus', 'ecoin', 'email', 'gaagle', 'odul', 'gaagle', 'email', 'proton', 'imail', 'napster', 'belgaximus', 'odul', 'napster', 'belgaximus', 'gaagle', 'email', 'belgaximus', 'imail', 'ecoin', 'imail', 'gaagle', 'ecoin', 'ecoin', 'napster', 'email', 'proton', 'proton', 'imail', 'imail', 'youhoo', 'ecoin', 'belgaximus', 'hotmoille', 'odul', 'ecoin', 'ecoin', 'belgaximus', 'hotmoille', 'hotmoille', 'belgaximus', 'proton', 'imail', 'proton', 'belgaximus', 'hotmoille', 'belgaximus', 'imail', 'youhoo', 'proton', 'youhoo', 'gaagle', 'gaagle', 'proton', 'youhoo', 'email', 'napster', 'ecoin', 'belgaximus', 'odul', 'gaagle', 'hotmoille', 'email', 'hotmoille', 'gaagle', 'youhoo', 'odul', 'ecoin', 'youhoo', 'ecoin', 'napster', 'email', 'odul', 'imail', 'imail', 'belgaximus', 'gaagle', 'proton', 'odul', 'hotmoille', 'proton', 'youhoo', 'belgaximus', 'youhoo', 'youhoo', 'youhoo', 'belgaximus', 'youhoo', 'belgaximus', 'youhoo', 'odul', 'belgaximus', 'proton', 'imail', 'ecoin', 'ecoin', 'proton', 'hotmoille', 'odul', 'hotmoille', 'napster', 'odul', 'youhoo', 'odul', 'belgaximus', 'napster', 'napster', 'belgaximus', 'youhoo', 'proton', 'belgaximus', 'ecoin', 'proton', 'ecoin', 'gaagle', 'ecoin', 'gaagle', 'odul', 'proton', 'email', 'email', 'hotmoille', 'odul', 'proton', 'email', 'ecoin', 'ecoin', 'gaagle', 'youhoo', 'youhoo', 'belgaximus', 'proton', 'gaagle', 'proton', 'gaagle', 'belgaximus', 'imail', 'odul', 'email', 'imail', 'ecoin', 'napster', 'hotmoille', 'proton', 'imail', 'proton', 'napster', 'odul', 'belgaximus', 'email', 'imail', 'belgaximus', 'odul', 'belgaximus', 'belgaximus', 'belgaximus', 'napster', 'hotmoille', 'napster', 'imail', 'proton', 'ecoin', 'youhoo', 'youhoo', 'ecoin', 'napster', 'odul', 'email', 'youhoo', 'youhoo', 'belgaximus', 'belgaximus', 'napster', 'belgaximus', 'youhoo', 'proton', 'imail', 'hotmoille', 'proton', 'youhoo', 'odul', 'ecoin', 'odul', 'youhoo', 'hotmoille', 'belgaximus', 'email', 'proton', 'email', 'youhoo', 'proton', 'odul', 'email', 'youhoo', 'hotmoille', 'gaagle', 'belgaximus', 'napster', 'odul', 'odul', 'youhoo', 'youhoo', 'odul', 'gaagle', 'napster', 'napster', 'belgaximus', 'youhoo', 'napster', 'email', 'youhoo', 'odul', 'email', 'odul', 'odul', 'odul', 'ecoin', 'proton', 'youhoo', 'email', 'ecoin', 'belgaximus', 'napster', 'youhoo', 'imail', 'youhoo', 'youhoo', 'odul', 'napster', 'email', 'belgaximus', 'hotmoille', 'youhoo', 'proton', 'proton', 'gaagle', 'napster', 'email', 'youhoo', 'napster', 'napster', 'imail', 'proton', 'youhoo', 'imail', 'hotmoille', 'proton', 'proton', 'youhoo', 'belgaximus', 'imail', 'email', 'imail', 'gaagle', 'email', 'youhoo', 'ecoin', 'youhoo', 'email', 'youhoo', 'imail', 'ecoin', 'proton', 'belgaximus', 'hotmoille', 'imail', 'odul', 'email', 'proton', 'imail', 'proton', 'odul', 'imail', 'youhoo', 'odul', 'youhoo', 'ecoin', 'odul', 'ecoin', 'proton', 'youhoo', 'proton', 'odul', 'proton', 'belgaximus', 'imail', 'hotmoille', 'gaagle', 'hotmoille', 'ecoin', 'email', 'belgaximus', 'belgaximus', 'proton', 'odul', 'gaagle', 'odul', 'napster', 'ecoin', 'napster', 'email', 'odul', 'belgaximus', 'gaagle', 'ecoin', 'imail', 'imail', 'ecoin', 'imail', 'email', 'youhoo', 'gaagle', 'ecoin', 'imail', 'odul', 'youhoo', 'imail', 'proton', 'gaagle', 'email', 'odul', 'youhoo', 'youhoo', 'belgaximus', 'hotmoille', 'ecoin', 'gaagle', 'belgaximus', 'ecoin', 'email', 'odul', 'napster', 'napster', 'odul', 'hotmoille', 'imail', 'proton', 'youhoo', 'gaagle', 'ecoin', 'odul', 'belgaximus', 'proton', 'hotmoille', 'ecoin', 'email', 'imail', 'youhoo', 'gaagle', 'odul', 'napster', 'odul', 'proton', 'proton', 'youhoo', 'odul', 'ecoin', 'hotmoille', 'proton', 'youhoo', 'napster', 'odul', 'hotmoille', 'belgaximus', 'proton', 'ecoin', 'ecoin', 'odul', 'proton', 'proton', 'ecoin', 'ecoin', 'youhoo', 'napster', 'imail', 'odul', 'ecoin', 'odul', 'youhoo', 'hotmoille', 'email', 'napster', 'email', 'belgaximus', 'proton', 'email', 'ecoin', 'ecoin', 'imail', 'napster', 'gaagle', 'proton', 'gaagle', 'napster', 'belgaximus', 'belgaximus', 'email', 'hotmoille', 'imail', 'napster', 'email', 'ecoin', 'belgaximus', 'odul', 'belgaximus', 'odul', 'belgaximus', 'imail', 'belgaximus', 'hotmoille', 'hotmoille', 'belgaximus', 'gaagle', 'ecoin', 'imail', 'napster', 'email', 'email', 'imail', 'hotmoille', 'napster', 'email', 'imail', 'youhoo', 'gaagle', 'youhoo', 'hotmoille', 'proton', 'ecoin', 'napster', 'youhoo', 'proton', 'napster', 'ecoin', 'gaagle', 'odul', 'imail', 'email', 'belgaximus', 'belgaximus', 'belgaximus', 'belgaximus', 'youhoo', 'imail', 'proton', 'youhoo', 'napster', 'napster', 'ecoin', 'proton', 'odul', 'imail', 'email', 'odul', 'hotmoille', 'imail', 'imail', 'odul', 'gaagle', 'imail', 'napster', 'belgaximus', 'gaagle', 'email', 'youhoo', 'email', 'odul', 'youhoo', 'hotmoille', 'email', 'odul', 'youhoo', 'napster', 'youhoo', 'youhoo', 'gaagle', 'odul', 'hotmoille', 'odul', 'youhoo', 'hotmoille', 'odul', 'gaagle', 'hotmoille', 'ecoin', 'imail', 'youhoo', 'belgaximus', 'odul', 'gaagle', 'gaagle', 'napster', 'odul', 'email', 'ecoin', 'proton', 'ecoin', 'email', 'proton', 'email', 'napster', 'ecoin', 'odul', 'odul', 'imail', 'hotmoille', 'youhoo', 'hotmoille', 'gaagle', 'imail', 'imail', 'youhoo', 'proton', 'napster', 'gaagle', 'belgaximus', 'youhoo', 'napster', 'odul', 'belgaximus', 'proton', 'belgaximus', 'hotmoille', 'ecoin', 'belgaximus', 'email', 'hotmoille', 'gaagle', 'odul', 'youhoo', 'proton', 'ecoin', 'imail', 'napster', 'belgaximus', 'gaagle', 'gaagle', 'imail', 'odul', 'imail', 'odul', 'proton', 'belgaximus', 'youhoo', 'proton', 'hotmoille', 'gaagle', 'proton', 'gaagle', 'imail', 'email', 'email', 'belgaximus', 'belgaximus', 'imail', 'proton', 'imail', 'imail', 'napster', 'odul', 'imail', 'belgaximus', 'ecoin', 'hotmoille', 'email', 'gaagle', 'proton', 'odul', 'odul', 'youhoo', 'imail', 'odul', 'imail', 'email', 'odul', 'ecoin', 'odul', 'imail', 'email', 'napster', 'ecoin', 'youhoo', 'imail', 'gaagle', 'hotmoille', 'ecoin', 'odul', 'imail', 'belgaximus', 'youhoo', 'proton', 'napster', 'email', 'proton', 'belgaximus', 'email', 'odul', 'gaagle', 'belgaximus', 'odul', 'email', 'imail', 'gaagle', 'imail', 'email', 'gaagle', 'youhoo', 'gaagle', 'gaagle', 'belgaximus', 'belgaximus', 'hotmoille', 'ecoin', 'email', 'proton', 'odul', 'proton', 'ecoin', 'napster', 'email', 'imail', 'ecoin', 'imail', 'ecoin', 'odul', 'imail', 'odul', 'odul', 'ecoin', 'belgaximus', 'gaagle', 'email', 'odul', 'odul', 'imail', 'belgaximus', 'gaagle', 'gaagle', 'proton', 'napster', 'imail', 'imail', 'odul', 'gaagle', 'proton', 'youhoo', 'proton', 'hotmoille', 'proton', 'proton', 'youhoo', 'hotmoille', 'odul', 'hotmoille', 'email', 'gaagle', 'napster', 'proton', 'belgaximus', 'gaagle', 'hotmoille', 'gaagle', 'ecoin', 'ecoin', 'hotmoille', 'email', 'imail', 'napster', 'proton', 'proton', 'hotmoille', 'imail', 'email', 'youhoo', 'odul', 'imail', 'ecoin', 'odul', 'email', 'gaagle', 'ecoin', 'ecoin', 'ecoin', 'odul', 'proton', 'odul', 'ecoin', 'email', 'email', 'gaagle', 'proton', 'gaagle', 'youhoo', 'ecoin', 'email', 'belgaximus', 'email', 'ecoin', 'odul', 'youhoo', 'proton', 'youhoo', 'odul', 'gaagle', 'email', 'youhoo', 'ecoin', 'odul', 'email', 'gaagle', 'imail', 'ecoin', 'ecoin', 'email', 'gaagle', 'ecoin', 'ecoin', 'imail', 'gaagle', 'email', 'odul', 'hotmoille', 'ecoin', 'email', 'imail', 'belgaximus', 'email', 'imail', 'imail', 'odul', 'imail', 'gaagle', 'napster', 'gaagle', 'gaagle', 'hotmoille', 'gaagle', 'gaagle', 'ecoin', 'belgaximus', 'ecoin', 'ecoin', 'gaagle', 'imail', 'odul', 'email', 'gaagle', 'email', 'youhoo', 'email', 'gaagle', 'youhoo', 'belgaximus', 'belgaximus', 'proton', 'belgaximus', 'email', 'email', 'napster', 'ecoin', 'napster', 'proton', 'gaagle', 'hotmoille', 'napster', 'gaagle', 'youhoo', 'belgaximus', 'gaagle', 'belgaximus', 'odul', 'proton', 'napster', 'youhoo', 'youhoo', 'youhoo', 'napster', 'ecoin', 'youhoo', 'imail', 'youhoo', 'ecoin', 'hotmoille', 'gaagle', 'gaagle', 'ecoin', 'ecoin', 'gaagle', 'youhoo', 'odul', 'hotmoille', 'email', 'hotmoille', 'proton', 'napster', 'belgaximus', 'hotmoille', 'napster', 'gaagle', 'ecoin', 'youhoo', 'hotmoille', 'odul', 'imail', 'youhoo', 'youhoo', 'ecoin', 'proton', 'youhoo', 'imail', 'gaagle', 'proton', 'napster', 'proton', 'youhoo', 'hotmoille', 'ecoin', 'proton', 'hotmoille', 'imail', 'proton', 'belgaximus', 'odul', 'imail', 'imail', 'ecoin', 'youhoo', 'belgaximus', 'imail', 'youhoo', 'gaagle', 'youhoo', 'proton', 'proton', 'napster', 'ecoin', 'belgaximus', 'email', 'hotmoille', 'imail', 'odul', 'imail', 'gaagle', 'hotmoille', 'odul', 'gaagle', 'gaagle', 'napster', 'odul', 'ecoin', 'napster', 'imail', 'youhoo', 'ecoin', 'ecoin', 'email', 'belgaximus', 'imail', 'imail', 'youhoo', 'napster', 'hotmoille', 'belgaximus', 'proton', 'youhoo', 'gaagle', 'proton', 'email', 'email', 'ecoin', 'youhoo', 'belgaximus', 'belgaximus', 'youhoo', 'odul', 'belgaximus', 'email', 'gaagle', 'imail', 'youhoo', 'odul', 'ecoin', 'imail', 'proton', 'odul', 'odul', 'imail', 'belgaximus', 'hotmoille', 'belgaximus', 'odul', 'gaagle', 'odul', 'youhoo', 'odul', 'belgaximus', 'email', 'imail', 'odul', 'odul', 'youhoo', 'belgaximus', 'belgaximus', 'imail', 'odul', 'youhoo', 'email', 'imail', 'gaagle', 'imail', 'hotmoille', 'gaagle', 'youhoo', 'napster', 'belgaximus', 'youhoo', 'odul', 'gaagle', 'email', 'hotmoille', 'youhoo', 'belgaximus', 'youhoo', 'belgaximus', 'imail', 'youhoo', 'odul', 'belgaximus', 'proton', 'gaagle', 'napster', 'belgaximus', 'napster', 'email', 'napster', 'imail', 'youhoo', 'ecoin', 'email', 'email', 'proton', 'hotmoille', 'ecoin', 'imail', 'ecoin', 'imail', 'odul', 'belgaximus', 'proton', 'proton', 'email', 'odul', 'belgaximus', 'gaagle', 'odul', 'youhoo', 'napster', 'ecoin', 'youhoo', 'email', 'imail', 'proton', 'belgaximus', 'email', 'imail', 'odul', 'odul', 'odul', 'imail', 'email', 'hotmoille', 'gaagle', 'belgaximus', 'belgaximus', 'ecoin', 'ecoin', 'proton', 'odul', 'hotmoille', 'youhoo', 'proton', 'belgaximus', 'belgaximus', 'gaagle', 'email', 'proton', 'proton', 'imail', 'hotmoille', 'imail', 'napster', 'odul', 'youhoo', 'imail', 'gaagle', 'belgaximus', 'hotmoille', 'ecoin', 'proton', 'email', 'proton', 'hotmoille', 'napster', 'ecoin', 'belgaximus', 'youhoo', 'proton', 'napster', 'proton', 'ecoin', 'proton', 'email', 'ecoin', 'napster', 'ecoin', 'hotmoille', 'imail', 'gaagle', 'youhoo', 'ecoin', 'email', 'gaagle', 'hotmoille', 'proton', 'hotmoille', 'ecoin', 'odul', 'gaagle', 'gaagle', 'imail', 'hotmoille', 'proton', 'proton', 'ecoin', 'napster', 'belgaximus', 'proton', 'proton', 'odul', 'youhoo', 'hotmoille', 'ecoin', 'hotmoille', 'imail', 'email', 'proton', 'gaagle', 'proton', 'email', 'proton', 'belgaximus', 'gaagle', 'ecoin', 'youhoo', 'proton', 'belgaximus', 'proton', 'odul', 'email', 'proton', 'gaagle', 'odul', 'odul', 'odul', 'youhoo', 'ecoin', 'gaagle', 'proton', 'proton', 'proton', 'odul', 'ecoin', 'youhoo', 'hotmoille', 'odul', 'odul', 'gaagle', 'proton', 'hotmoille', 'imail', 'email', 'hotmoille', 'proton', 'ecoin', 'proton', 'proton', 'hotmoille', 'proton', 'ecoin', 'odul', 'youhoo', 'odul', 'imail', 'napster', 'belgaximus', 'hotmoille', 'imail', 'imail', 'proton', 'imail', 'proton', 'youhoo', 'youhoo', 'hotmoille', 'hotmoille', 'proton', 'youhoo', 'napster', 'odul', 'ecoin', 'gaagle', 'ecoin', 'napster', 'odul', 'belgaximus', 'imail', 'email', 'belgaximus', 'belgaximus', 'email', 'proton', 'proton', 'gaagle', 'imail', 'gaagle', 'ecoin', 'youhoo', 'belgaximus', 'belgaximus', 'proton', 'ecoin', 'odul', 'hotmoille', 'odul', 'belgaximus', 'imail', 'belgaximus', 'proton', 'youhoo', 'ecoin', 'imail', 'ecoin', 'napster', 'napster', 'gaagle', 'napster', 'odul', 'proton', 'gaagle', 'hotmoille', 'belgaximus', 'imail', 'odul', 'proton', 'belgaximus', 'napster', 'odul', 'hotmoille', 'belgaximus', 'imail', 'belgaximus', 'email', 'gaagle', 'youhoo', 'napster', 'email', 'belgaximus', 'imail', 'proton', 'email', 'gaagle', 'youhoo', 'email', 'odul', 'youhoo', 'hotmoille', 'imail', 'odul', 'proton', 'gaagle', 'email', 'belgaximus', 'gaagle', 'odul', 'gaagle', 'email', 'napster', 'hotmoille', 'belgaximus', 'odul', 'proton', 'ecoin', 'imail', 'hotmoille', 'gaagle', 'napster', 'napster', 'napster', 'napster', 'hotmoille', 'odul', 'ecoin', 'belgaximus', 'odul', 'napster', 'odul', 'imail', 'imail', 'youhoo', 'youhoo', 'youhoo', 'odul', 'napster', 'imail', 'email', 'belgaximus', 'proton', 'gaagle', 'proton', 'ecoin', 'imail', 'odul', 'odul', 'email', 'email', 'hotmoille', 'gaagle', 'proton', 'ecoin', 'imail', 'youhoo', 'email', 'odul', 'imail', 'hotmoille', 'proton', 'imail', 'youhoo', 'youhoo', 'belgaximus', 'odul', 'ecoin', 'napster', 'ecoin', 'ecoin', 'email', 'proton', 'napster', 'gaagle', 'odul', 'ecoin', 'email', 'napster', 'youhoo', 'ecoin', 'hotmoille', 'youhoo', 'ecoin', 'imail', 'hotmoille', 'ecoin', 'proton', 'proton', 'email', 'proton', 'napster', 'odul', 'proton', 'youhoo', 'ecoin', 'ecoin', 'odul', 'email', 'odul', 'youhoo', 'email', 'odul', 'odul', 'proton', 'ecoin', 'napster', 'hotmoille', 'gaagle', 'imail', 'youhoo', 'belgaximus', 'gaagle', 'proton', 'ecoin', 'proton', 'youhoo', 'gaagle', 'napster', 'email', 'email', 'imail', 'youhoo', 'napster', 'hotmoille', 'hotmoille', 'imail', 'gaagle', 'proton', 'hotmoille', 'napster', 'ecoin', 'belgaximus', 'hotmoille', 'hotmoille', 'imail', 'hotmoille', 'proton', 'imail', 'youhoo', 'napster', 'imail', 'napster', 'hotmoille', 'gaagle', 'napster', 'youhoo', 'napster', 'email', 'youhoo', 'odul', 'hotmoille', 'proton', 'ecoin', 'proton', 'belgaximus', 'napster', 'email', 'belgaximus', 'belgaximus', 'proton', 'gaagle', 'napster', 'hotmoille', 'proton', 'gaagle', 'youhoo', 'youhoo', 'ecoin', 'napster', 'ecoin', 'hotmoille', 'belgaximus', 'hotmoille', 'belgaximus', 'youhoo', 'youhoo', 'gaagle', 'proton', 'gaagle', 'email', 'odul', 'belgaximus', 'hotmoille', 'youhoo', 'email', 'imail', 'email', 'odul', 'proton', 'imail', 'odul', 'imail', 'proton', 'hotmoille', 'hotmoille', 'ecoin', 'email', 'belgaximus', 'youhoo', 'napster', 'napster', 'napster', 'proton', 'proton', 'youhoo', 'proton', 'email', 'odul', 'youhoo', 'youhoo', 'imail', 'napster', 'gaagle', 'gaagle', 'proton', 'napster', 'hotmoille', 'imail', 'email', 'gaagle', 'napster', 'gaagle', 'email', 'belgaximus', 'odul', 'napster', 'gaagle', 'ecoin', 'napster', 'belgaximus', 'imail', 'gaagle', 'napster', 'proton', 'ecoin', 'ecoin', 'gaagle', 'hotmoille', 'proton', 'youhoo', 'proton', 'hotmoille', 'belgaximus', 'napster', 'email', 'gaagle', 'email', 'hotmoille', 'email', 'odul', 'belgaximus', 'proton', 'gaagle', 'imail', 'odul', 'hotmoille', 'belgaximus', 'hotmoille', 'napster', 'youhoo', 'youhoo', 'odul', 'proton', 'belgaximus', 'youhoo', 'imail', 'odul', 'imail', 'email', 'belgaximus', 'belgaximus', 'belgaximus', 'napster', 'proton', 'ecoin', 'odul', 'gaagle', 'proton', 'belgaximus', 'belgaximus', 'hotmoille', 'napster', 'ecoin', 'gaagle', 'proton', 'odul', 'proton', 'belgaximus', 'email', 'hotmoille', 'gaagle', 'proton', 'proton', 'napster', 'email', 'proton', 'youhoo', 'hotmoille', 'youhoo', 'proton', 'napster', 'proton', 'ecoin', 'proton', 'belgaximus', 'gaagle', 'napster', 'ecoin', 'youhoo', 'odul', 'ecoin', 'youhoo', 'gaagle', 'youhoo', 'imail', 'ecoin', 'ecoin', 'hotmoille', 'hotmoille', 'gaagle', 'youhoo', 'gaagle', 'belgaximus', 'email', 'hotmoille', 'ecoin', 'gaagle', 'imail', 'ecoin', 'belgaximus', 'youhoo', 'email', 'gaagle', 'proton', 'napster', 'proton', 'email', 'ecoin', 'hotmoille', 'gaagle', 'email', 'ecoin', 'odul', 'imail', 'gaagle', 'proton', 'youhoo', 'belgaximus', 'gaagle', 'imail', 'ecoin', 'napster', 'hotmoille', 'hotmoille', 'napster', 'gaagle', 'hotmoille', 'napster', 'napster', 'email', 'imail', 'belgaximus', 'napster', 'odul', 'hotmoille', 'imail', 'email', 'napster', 'imail', 'belgaximus', 'youhoo', 'ecoin', 'belgaximus', 'youhoo', 'hotmoille', 'imail', 'ecoin', 'gaagle', 'napster', 'proton', 'belgaximus', 'hotmoille', 'hotmoille', 'odul', 'belgaximus', 'imail', 'ecoin', 'proton', 'imail', 'belgaximus', 'email', 'imail', 'napster', 'odul', 'proton', 'odul', 'napster', 'odul', 'napster', 'napster', 'youhoo', 'odul', 'gaagle', 'hotmoille', 'belgaximus', 'imail', 'imail', 'imail', 'gaagle', 'youhoo', 'email', 'imail', 'youhoo', 'odul', 'youhoo', 'proton', 'ecoin', 'youhoo', 'odul', 'gaagle', 'gaagle', 'hotmoille', 'ecoin', 'youhoo', 'youhoo', 'youhoo', 'ecoin', 'belgaximus', 'gaagle', 'youhoo', 'hotmoille', 'youhoo', 'proton', 'proton', 'hotmoille', 'ecoin', 'hotmoille', 'imail', 'ecoin', 'odul', 'gaagle', 'gaagle', 'napster', 'gaagle', 'email', 'napster', 'ecoin', 'odul', 'ecoin', 'imail', 'odul', 'imail', 'email', 'youhoo', 'email', 'youhoo', 'proton', 'odul', 'belgaximus', 'odul', 'email', 'email', 'odul', 'odul', 'odul', 'belgaximus', 'hotmoille', 'proton', 'gaagle', 'belgaximus', 'email', 'ecoin', 'imail', 'hotmoille', 'gaagle', 'napster', 'youhoo', 'odul', 'gaagle', 'napster', 'ecoin', 'youhoo', 'proton', 'napster', 'ecoin', 'proton', 'hotmoille', 'hotmoille', 'napster', 'napster', 'proton', 'imail', 'odul', 'youhoo', 'ecoin', 'email', 'youhoo', 'imail', 'imail', 'ecoin', 'napster', 'gaagle', 'napster', 'hotmoille', 'ecoin', 'napster', 'ecoin', 'odul', 'hotmoille', 'ecoin', 'hotmoille', 'belgaximus', 'odul', 'napster', 'imail', 'youhoo', 'belgaximus', 'odul', 'gaagle', 'ecoin', 'proton', 'odul', 'email', 'imail', 'youhoo', 'ecoin', 'hotmoille', 'imail', 'belgaximus', 'napster', 'napster', 'odul', 'belgaximus', 'proton', 'napster', 'hotmoille', 'gaagle', 'youhoo', 'ecoin', 'youhoo', 'ecoin', 'belgaximus', 'belgaximus', 'odul', 'proton', 'ecoin', 'gaagle', 'email', 'odul', 'imail', 'odul', 'proton', 'hotmoille', 'proton', 'belgaximus', 'ecoin', 'proton', 'imail', 'proton', 'odul', 'imail', 'email', 'gaagle', 'email', 'gaagle', 'ecoin', 'gaagle', 'ecoin', 'youhoo', 'youhoo', 'ecoin', 'gaagle', 'imail', 'odul', 'youhoo', 'napster', 'email', 'proton', 'gaagle', 'imail', 'belgaximus', 'hotmoille', 'email', 'odul', 'napster', 'imail', 'imail', 'gaagle', 'imail', 'odul', 'napster', 'youhoo', 'proton', 'imail', 'belgaximus', 'youhoo', 'odul', 'napster', 'odul', 'odul', 'belgaximus', 'youhoo', 'youhoo', 'hotmoille', 'gaagle', 'hotmoille', 'gaagle', 'gaagle', 'hotmoille', 'proton', 'youhoo', 'imail', 'napster', 'youhoo', 'odul', 'imail', 'hotmoille', 'napster', 'belgaximus', 'gaagle', 'imail', 'imail', 'hotmoille', 'email', 'proton', 'email', 'gaagle', 'imail', 'proton', 'proton', 'email', 'napster', 'email', 'odul', 'imail', 'odul', 'napster', 'hotmoille', 'odul', 'youhoo', 'odul', 'hotmoille', 'email', 'gaagle', 'proton', 'ecoin', 'ecoin', 'odul', 'napster', 'napster', 'youhoo', 'gaagle', 'email', 'odul', 'proton', 'gaagle', 'belgaximus', 'email', 'napster', 'youhoo', 'youhoo', 'ecoin', 'email', 'odul', 'hotmoille', 'hotmoille', 'odul', 'imail', 'email', 'hotmoille', 'email', 'napster', 'napster', 'youhoo', 'youhoo', 'gaagle', 'imail', 'proton', 'odul', 'email', 'imail', 'odul', 'hotmoille', 'odul', 'email', 'proton', 'odul', 'napster', 'gaagle', 'gaagle', 'ecoin', 'gaagle', 'email', 'ecoin', 'imail', 'email', 'napster', 'youhoo', 'hotmoille', 'youhoo', 'hotmoille', 'odul', 'proton', 'gaagle', 'imail', 'imail', 'gaagle', 'proton', 'hotmoille', 'gaagle', 'imail', 'proton', 'proton', 'email', 'ecoin', 'gaagle', 'hotmoille', 'ecoin', 'gaagle', 'ecoin', 'youhoo', 'proton', 'gaagle', 'napster', 'proton', 'napster', 'imail', 'gaagle', 'belgaximus', 'youhoo', 'email', 'odul', 'imail', 'belgaximus', 'odul', 'youhoo', 'proton', 'odul', 'imail', 'ecoin', 'gaagle', 'hotmoille', 'imail', 'belgaximus', 'odul', 'proton', 'hotmoille', 'odul', 'email', 'napster', 'belgaximus', 'imail', 'belgaximus', 'proton', 'youhoo', 'odul', 'imail', 'email', 'proton', 'hotmoille', 'proton', 'hotmoille', 'belgaximus', 'gaagle', 'proton', 'youhoo', 'proton', 'proton', 'belgaximus', 'youhoo', 'odul', 'proton', 'email', 'email', 'belgaximus', 'proton', 'email', 'ecoin', 'napster', 'gaagle', 'napster', 'imail', 'email', 'odul', 'proton', 'ecoin', 'hotmoille', 'imail', 'ecoin', 'hotmoille', 'email', 'odul', 'imail', 'ecoin', 'hotmoille', 'odul', 'belgaximus', 'odul', 'proton', 'youhoo', 'belgaximus', 'email', 'napster', 'proton', 'hotmoille', 'odul', 'odul', 'odul', 'email', 'napster', 'hotmoille', 'email', 'hotmoille', 'hotmoille', 'odul', 'proton', 'imail', 'email', 'imail', 'odul', 'belgaximus', 'imail', 'email', 'email', 'youhoo', 'napster', 'email', 'imail', 'napster', 'email', 'proton', 'proton', 'napster', 'belgaximus', 'napster', 'proton', 'proton', 'odul', 'napster', 'email', 'napster', 'odul', 'gaagle', 'youhoo', 'imail', 'napster', 'hotmoille', 'odul', 'gaagle', 'ecoin', 'proton', 'hotmoille', 'youhoo', 'youhoo', 'belgaximus', 'napster', 'hotmoille', 'gaagle', 'hotmoille', 'youhoo', 'proton', 'napster', 'belgaximus', 'napster', 'ecoin', 'email', 'imail', 'imail', 'imail', 'belgaximus', 'youhoo', 'imail', 'email', 'napster', 'gaagle', 'youhoo', 'imail', 'odul', 'imail', 'belgaximus', 'proton', 'napster', 'email', 'youhoo', 'napster', 'belgaximus', 'youhoo', 'belgaximus', 'odul', 'napster', 'youhoo', 'email', 'gaagle', 'ecoin', 'gaagle', 'ecoin', 'proton', 'youhoo', 'napster', 'email', 'belgaximus', 'odul', 'proton', 'youhoo', 'gaagle', 'gaagle', 'odul', 'imail', 'odul', 'hotmoille', 'napster', 'proton', 'odul', 'napster', 'belgaximus', 'email', 'gaagle', 'napster', 'belgaximus', 'ecoin', 'email', 'proton', 'ecoin', 'imail', 'belgaximus', 'odul', 'youhoo', 'proton', 'belgaximus', 'email', 'hotmoille', 'youhoo', 'youhoo', 'email', 'email', 'odul', 'proton', 'imail', 'belgaximus', 'ecoin', 'youhoo', 'email', 'youhoo', 'email', 'odul', 'gaagle', 'proton', 'email', 'proton', 'gaagle', 'hotmoille', 'email', 'gaagle', 'ecoin', 'belgaximus', 'imail', 'youhoo', 'proton', 'proton', 'belgaximus', 'gaagle', 'email', 'email', 'hotmoille', 'email', 'belgaximus', 'imail', 'gaagle', 'gaagle', 'odul', 'napster', 'belgaximus', 'gaagle', 'imail', 'odul', 'odul', 'odul', 'imail', 'odul', 'proton', 'hotmoille', 'gaagle', 'napster', 'ecoin', 'odul', 'odul', 'proton', 'ecoin', 'proton', 'youhoo', 'imail', 'belgaximus', 'belgaximus', 'youhoo', 'belgaximus', 'email', 'napster', 'ecoin', 'hotmoille', 'odul', 'youhoo', 'odul', 'imail', 'napster', 'ecoin', 'ecoin', 'hotmoille', 'imail', 'hotmoille', 'belgaximus', 'youhoo', 'proton', 'odul', 'belgaximus', 'ecoin', 'odul', 'napster', 'napster', 'proton', 'ecoin', 'ecoin', 'odul', 'hotmoille', 'proton', 'odul', 'gaagle', 'imail', 'ecoin', 'youhoo', 'gaagle', 'proton', 'ecoin', 'odul', 'odul', 'imail', 'belgaximus', 'proton', 'imail', 'proton', 'belgaximus', 'email', 'belgaximus', 'gaagle', 'email', 'hotmoille', 'proton', 'proton', 'proton', 'napster', 'hotmoille', 'odul', 'email', 'imail', 'belgaximus', 'napster', 'hotmoille', 'gaagle', 'odul', 'odul', 'odul', 'email', 'youhoo', 'odul', 'email', 'ecoin', 'odul', 'proton', 'gaagle', 'odul', 'hotmoille', 'napster', 'ecoin', 'belgaximus', 'email', 'proton', 'ecoin', 'napster', 'ecoin', 'ecoin', 'imail', 'belgaximus', 'youhoo', 'napster', 'imail', 'imail', 'odul', 'imail', 'belgaximus', 'email', 'gaagle', 'youhoo', 'gaagle', 'ecoin', 'napster', 'proton', 'napster', 'imail', 'imail', 'gaagle', 'imail', 'belgaximus', 'imail', 'proton', 'ecoin', 'belgaximus', 'youhoo', 'proton', 'odul', 'email', 'hotmoille', 'youhoo', 'napster', 'proton', 'proton', 'email', 'email', 'imail', 'belgaximus', 'youhoo', 'youhoo', 'odul', 'belgaximus', 'email', 'email', 'napster', 'proton', 'belgaximus', 'proton', 'napster', 'ecoin', 'email', 'gaagle', 'imail', 'gaagle', 'belgaximus', 'napster', 'odul', 'email', 'belgaximus', 'hotmoille', 'ecoin', 'ecoin', 'napster', 'belgaximus', 'ecoin', 'youhoo', 'gaagle', 'imail', 'odul', 'odul', 'ecoin', 'napster', 'belgaximus', 'gaagle', 'belgaximus', 'email', 'hotmoille', 'odul', 'gaagle', 'napster', 'odul', 'belgaximus', 'email', 'email', 'hotmoille', 'belgaximus', 'belgaximus', 'email', 'email', 'imail', 'belgaximus', 'ecoin', 'imail', 'email', 'napster', 'hotmoille', 'gaagle', 'email', 'odul', 'ecoin', 'ecoin', 'youhoo', 'youhoo', 'email', 'email', 'email', 'hotmoille', 'ecoin', 'ecoin', 'belgaximus', 'napster', 'napster', 'belgaximus', 'youhoo', 'proton', 'email', 'imail', 'ecoin', 'proton', 'proton', 'ecoin', 'belgaximus', 'imail', 'email', 'belgaximus', 'hotmoille', 'napster', 'odul', 'ecoin', 'email', 'imail', 'imail', 'gaagle', 'hotmoille', 'odul', 'proton', 'gaagle', 'hotmoille', 'napster', 'imail', 'napster', 'imail', 'belgaximus', 'hotmoille', 'youhoo', 'hotmoille', 'ecoin', 'gaagle', 'hotmoille', 'odul', 'ecoin', 'ecoin', 'hotmoille', 'youhoo', 'imail', 'gaagle', 'belgaximus', 'gaagle', 'gaagle', 'imail', 'imail', 'odul', 'ecoin', 'napster', 'napster', 'hotmoille', 'hotmoille', 'imail', 'belgaximus', 'email', 'belgaximus', 'hotmoille', 'gaagle', 'belgaximus', 'imail', 'email', 'proton', 'napster', 'youhoo', 'gaagle', 'gaagle', 'proton', 'gaagle', 'napster', 'youhoo', 'hotmoille', 'ecoin', 'ecoin', 'napster', 'hotmoille', 'gaagle', 'gaagle', 'belgaximus', 'gaagle', 'email', 'email', 'youhoo', 'belgaximus', 'hotmoille', 'ecoin', 'gaagle', 'odul', 'youhoo', 'belgaximus', 'belgaximus', 'belgaximus', 'imail', 'email', 'imail', 'proton', 'hotmoille', 'napster', 'ecoin', 'napster', 'proton', 'proton', 'proton', 'gaagle', 'napster', 'odul', 'belgaximus', 'proton', 'belgaximus', 'hotmoille', 'youhoo', 'hotmoille', 'hotmoille', 'youhoo', 'youhoo', 'imail', 'imail', 'ecoin', 'email', 'napster', 'imail', 'odul', 'ecoin', 'youhoo', 'belgaximus', 'odul', 'hotmoille', 'imail', 'imail', 'odul', 'email', 'napster', 'imail', 'odul', 'ecoin', 'gaagle', 'belgaximus', 'proton', 'napster', 'email', 'hotmoille', 'odul', 'email', 'imail', 'imail', 'hotmoille', 'hotmoille', 'email', 'napster', 'gaagle', 'napster', 'odul', 'hotmoille', 'odul', 'proton', 'imail', 'napster', 'odul', 'gaagle', 'napster', 'youhoo', 'gaagle', 'ecoin', 'ecoin', 'napster', 'ecoin', 'proton', 'odul', 'ecoin', 'hotmoille', 'belgaximus', 'hotmoille', 'ecoin', 'imail', 'belgaximus', 'odul', 'ecoin', 'napster', 'youhoo', 'proton', 'email', 'proton', 'odul', 'ecoin', 'belgaximus', 'napster', 'imail', 'youhoo', 'hotmoille', 'imail', 'odul', 'odul', 'odul', 'hotmoille', 'hotmoille', 'napster', 'proton', 'email', 'proton', 'youhoo', 'hotmoille', 'belgaximus', 'gaagle', 'imail', 'gaagle', 'imail', 'proton', 'imail', 'belgaximus', 'hotmoille', 'hotmoille', 'proton', 'napster', 'napster', 'belgaximus', 'ecoin', 'napster', 'ecoin', 'imail', 'odul', 'hotmoille', 'youhoo', 'proton', 'hotmoille', 'ecoin', 'youhoo', 'imail', 'hotmoille', 'proton', 'imail', 'hotmoille', 'hotmoille', 'napster', 'youhoo', 'napster', 'odul', 'email', 'belgaximus', 'imail', 'email', 'gaagle', 'imail', 'odul', 'proton', 'hotmoille', 'belgaximus', 'belgaximus', 'belgaximus', 'youhoo', 'imail', 'hotmoille', 'email', 'napster', 'imail', 'email', 'napster', 'ecoin', 'napster', 'email', 'belgaximus', 'odul', 'odul', 'hotmoille', 'email', 'youhoo', 'imail', 'napster', 'proton', 'youhoo', 'odul', 'napster', 'ecoin', 'odul', 'belgaximus', 'ecoin', 'ecoin', 'gaagle', 'email', 'imail', 'hotmoille', 'napster', 'email', 'proton', 'hotmoille', 'napster', 'belgaximus', 'imail', 'napster', 'youhoo', 'proton', 'gaagle', 'hotmoille', 'ecoin', 'hotmoille', 'imail', 'email', 'hotmoille', 'odul', 'gaagle', 'napster', 'email', 'belgaximus', 'email', 'ecoin', 'napster', 'imail', 'gaagle', 'belgaximus', 'belgaximus', 'belgaximus', 'email', 'odul', 'proton', 'email', 'proton', 'odul', 'belgaximus', 'youhoo', 'imail', 'hotmoille', 'odul', 'hotmoille', 'ecoin', 'hotmoille', 'belgaximus', 'napster', 'belgaximus', 'gaagle', 'odul', 'email', 'napster', 'napster', 'youhoo', 'hotmoille', 'napster', 'youhoo', 'imail', 'napster', 'gaagle', 'napster', 'hotmoille', 'gaagle', 'email', 'imail', 'odul', 'odul', 'napster', 'gaagle', 'imail', 'ecoin', 'odul', 'proton', 'odul', 'hotmoille', 'odul', 'napster', 'napster', 'belgaximus', 'email', 'odul', 'imail', 'imail', 'belgaximus', 'proton', 'youhoo', 'hotmoille', 'hotmoille', 'napster', 'proton', 'napster', 'youhoo', 'belgaximus', 'hotmoille', 'youhoo', 'hotmoille', 'ecoin', 'belgaximus', 'odul', 'imail', 'napster', 'napster', 'napster', 'ecoin', 'gaagle', 'ecoin', 'youhoo', 'ecoin', 'gaagle', 'hotmoille', 'gaagle', 'imail', 'email', 'email', 'imail', 'gaagle', 'odul', 'napster', 'youhoo', 'imail', 'hotmoille', 'belgaximus', 'gaagle', 'proton', 'imail', 'odul', 'proton', 'belgaximus', 'email', 'email', 'gaagle', 'gaagle', 'imail', 'proton', 'ecoin', 'proton', 'gaagle', 'odul', 'ecoin', 'hotmoille', 'ecoin', 'ecoin', 'odul', 'imail', 'imail', 'gaagle', 'odul', 'napster', 'youhoo', 'odul', 'ecoin', 'proton', 'belgaximus', 'proton', 'belgaximus', 'belgaximus', 'email', 'youhoo', 'email', 'napster', 'hotmoille', 'youhoo', 'hotmoille', 'youhoo', 'email', 'imail', 'ecoin', 'belgaximus', 'odul', 'ecoin', 'youhoo', 'ecoin', 'hotmoille', 'hotmoille', 'gaagle', 'hotmoille', 'imail', 'hotmoille', 'gaagle', 'gaagle', 'hotmoille', 'napster', 'gaagle', 'napster', 'hotmoille', 'hotmoille', 'napster', 'ecoin', 'email', 'gaagle', 'ecoin', 'gaagle', 'belgaximus', 'belgaximus', 'imail', 'gaagle', 'belgaximus', 'proton', 'imail', 'email', 'hotmoille', 'gaagle', 'ecoin', 'youhoo', 'odul', 'odul', 'gaagle', 'youhoo', 'email', 'odul', 'email', 'odul', 'gaagle', 'email', 'odul', 'gaagle', 'odul', 'napster', 'youhoo', 'gaagle', 'email', 'ecoin', 'belgaximus', 'odul', 'odul', 'youhoo', 'gaagle', 'imail', 'proton', 'hotmoille', 'napster', 'ecoin', 'proton', 'ecoin', 'proton', 'gaagle', 'napster', 'proton', 'youhoo', 'napster', 'napster', 'odul', 'youhoo', 'gaagle', 'ecoin', 'gaagle', 'email', 'ecoin', 'belgaximus', 'gaagle', 'odul', 'napster', 'imail', 'odul', 'napster', 'odul', 'email', 'belgaximus', 'hotmoille', 'belgaximus', 'odul', 'gaagle', 'belgaximus', 'belgaximus', 'belgaximus', 'belgaximus', 'hotmoille', 'napster', 'email', 'youhoo', 'odul', 'email', 'imail', 'imail', 'email', 'email', 'youhoo', 'belgaximus', 'email', 'youhoo', 'napster', 'napster', 'youhoo', 'belgaximus', 'napster', 'odul', 'proton', 'gaagle', 'ecoin', 'belgaximus', 'belgaximus', 'proton', 'youhoo', 'hotmoille', 'belgaximus', 'ecoin', 'gaagle', 'gaagle', 'napster', 'imail', 'email', 'odul', 'proton', 'napster', 'email', 'email', 'imail', 'belgaximus', 'gaagle', 'gaagle', 'ecoin', 'belgaximus', 'ecoin', 'napster', 'odul', 'proton', 'email', 'odul', 'ecoin', 'gaagle', 'ecoin', 'ecoin', 'napster', 'ecoin', 'belgaximus', 'odul', 'napster', 'gaagle', 'odul', 'napster', 'ecoin', 'hotmoille', 'hotmoille', 'hotmoille', 'ecoin', 'napster', 'odul', 'gaagle', 'proton', 'hotmoille', 'hotmoille', 'napster', 'gaagle', 'proton', 'napster', 'proton', 'hotmoille', 'imail', 'proton', 'gaagle', 'proton', 'belgaximus', 'proton', 'odul', 'imail', 'proton', 'hotmoille', 'belgaximus', 'imail', 'hotmoille', 'youhoo', 'odul', 'proton', 'hotmoille', 'imail', 'napster', 'belgaximus', 'imail', 'proton', 'napster', 'proton', 'ecoin', 'ecoin', 'proton', 'napster', 'ecoin', 'imail', 'odul', 'youhoo', 'ecoin', 'imail', 'proton', 'youhoo', 'ecoin', 'imail', 'proton', 'hotmoille', 'proton', 'proton', 'napster', 'email', 'ecoin', 'imail', 'belgaximus', 'proton', 'odul', 'youhoo', 'youhoo', 'napster', 'imail', 'youhoo', 'email', 'email', 'belgaximus', 'napster', 'email', 'proton', 'hotmoille', 'youhoo', 'hotmoille', 'odul', 'belgaximus', 'youhoo', 'youhoo', 'youhoo', 'napster', 'email', 'gaagle', 'hotmoille', 'hotmoille', 'gaagle', 'email', 'hotmoille', 'napster', 'hotmoille', 'email', 'hotmoille', 'napster', 'hotmoille', 'proton', 'imail', 'odul', 'email', 'belgaximus', 'odul', 'email', 'ecoin', 'odul', 'imail', 'hotmoille', 'belgaximus', 'hotmoille', 'proton', 'napster', 'ecoin', 'odul', 'proton', 'gaagle', 'napster', 'gaagle', 'proton', 'gaagle', 'odul', 'email', 'gaagle', 'hotmoille', 'hotmoille', 'imail', 'email', 'imail', 'youhoo', 'belgaximus', 'belgaximus', 'hotmoille', 'ecoin', 'hotmoille', 'youhoo', 'email', 'ecoin', 'ecoin', 'ecoin', 'napster', 'hotmoille', 'ecoin', 'email', 'imail', 'odul', 'imail', 'gaagle', 'email', 'ecoin', 'imail', 'youhoo', 'odul', 'hotmoille', 'imail', 'odul', 'imail', 'napster', 'email', 'ecoin', 'proton', 'proton', 'gaagle', 'napster', 'youhoo', 'youhoo', 'ecoin', 'email', 'odul', 'odul', 'imail', 'email', 'odul', 'gaagle', 'gaagle', 'gaagle', 'imail', 'gaagle', 'youhoo', 'napster', 'ecoin', 'imail', 'napster', 'proton', 'belgaximus', 'napster', 'gaagle', 'odul', 'belgaximus', 'imail', 'belgaximus', 'imail', 'email', 'proton', 'odul', 'ecoin', 'gaagle', 'email', 'napster', 'proton', 'gaagle', 'odul', 'belgaximus', 'email', 'proton', 'napster', 'belgaximus', 'email', 'imail', 'belgaximus', 'youhoo', 'proton', 'email', 'hotmoille', 'youhoo', 'youhoo', 'youhoo', 'napster', 'imail', 'gaagle', 'odul', 'gaagle', 'gaagle', 'youhoo', 'gaagle', 'hotmoille', 'hotmoille', 'hotmoille', 'proton', 'imail', 'youhoo', 'hotmoille', 'belgaximus', 'belgaximus', 'hotmoille', 'youhoo', 'hotmoille', 'hotmoille', 'belgaximus', 'napster', 'gaagle', 'email', 'gaagle', 'hotmoille', 'imail', 'gaagle', 'email', 'gaagle', 'napster', 'odul', 'gaagle', 'ecoin', 'proton', 'hotmoille', 'email', 'youhoo', 'belgaximus', 'imail', 'youhoo', 'belgaximus', 'odul', 'proton', 'proton', 'hotmoille', 'belgaximus', 'napster', 'hotmoille', 'belgaximus', 'youhoo', 'youhoo', 'hotmoille', 'napster', 'proton', 'ecoin', 'proton', 'odul', 'youhoo', 'napster', 'youhoo', 'imail', 'odul', 'ecoin', 'hotmoille', 'hotmoille', 'odul', 'hotmoille', 'ecoin', 'odul', 'imail', 'hotmoille', 'napster', 'gaagle', 'odul', 'belgaximus', 'youhoo', 'belgaximus', 'odul', 'hotmoille', 'imail', 'napster', 'gaagle', 'email', 'napster', 'email', 'email', 'ecoin', 'imail', 'proton', 'ecoin', 'gaagle', 'proton', 'napster', 'hotmoille', 'hotmoille', 'hotmoille', 'belgaximus', 'gaagle', 'napster', 'proton', 'napster', 'belgaximus', 'ecoin', 'belgaximus', 'proton', 'youhoo', 'napster', 'napster', 'proton', 'ecoin', 'odul', 'odul', 'email', 'napster', 'belgaximus', 'odul', 'odul', 'gaagle', 'ecoin', 'youhoo', 'odul', 'odul', 'gaagle', 'gaagle', 'hotmoille', 'odul', 'proton', 'belgaximus', 'belgaximus', 'belgaximus', 'email', 'youhoo', 'ecoin', 'napster', 'hotmoille', 'odul', 'belgaximus', 'email', 'imail', 'proton', 'imail', 'odul', 'proton', 'proton', 'email', 'youhoo', 'ecoin', 'ecoin', 'proton', 'email', 'belgaximus', 'odul', 'gaagle', 'youhoo', 'odul', 'hotmoille', 'gaagle', 'ecoin', 'proton', 'imail', 'odul', 'imail', 'napster', 'belgaximus', 'napster', 'belgaximus', 'odul', 'youhoo', 'napster', 'gaagle', 'ecoin', 'youhoo', 'hotmoille', 'odul', 'ecoin', 'gaagle', 'ecoin', 'napster', 'belgaximus', 'napster', 'napster', 'hotmoille', 'hotmoille', 'hotmoille', 'belgaximus', 'ecoin', 'belgaximus', 'email', 'hotmoille', 'youhoo', 'napster', 'imail', 'napster', 'proton', 'odul', 'hotmoille', 'odul', 'napster', 'imail', 'odul', 'odul', 'napster', 'napster', 'ecoin', 'imail', 'ecoin', 'hotmoille', 'imail', 'ecoin', 'gaagle', 'proton', 'napster', 'gaagle', 'napster', 'proton', 'napster', 'imail', 'imail', 'youhoo', 'hotmoille', 'gaagle', 'email', 'odul', 'proton', 'napster', 'odul', 'ecoin', 'odul', 'gaagle', 'imail', 'napster', 'belgaximus', 'napster', 'imail', 'email', 'hotmoille', 'ecoin', 'imail', 'gaagle', 'email', 'napster', 'belgaximus', 'ecoin', 'belgaximus', 'gaagle', 'email', 'ecoin', 'youhoo', 'ecoin', 'napster', 'ecoin', 'hotmoille', 'youhoo', 'proton', 'gaagle', 'odul', 'ecoin', 'youhoo', 'gaagle', 'youhoo', 'email', 'ecoin', 'hotmoille', 'email', 'youhoo', 'gaagle', 'email', 'ecoin', 'youhoo', 'belgaximus', 'belgaximus', 'ecoin', 'ecoin', 'youhoo', 'imail', 'napster', 'email', 'youhoo', 'napster', 'odul', 'napster', 'gaagle', 'imail', 'gaagle', 'gaagle', 'proton', 'imail', 'proton', 'belgaximus', 'belgaximus', 'ecoin', 'email', 'odul', 'imail', 'email', 'imail', 'gaagle', 'email', 'proton', 'belgaximus', 'odul', 'belgaximus', 'youhoo', 'belgaximus', 'ecoin', 'odul', 'belgaximus', 'email', 'proton', 'proton', 'youhoo', 'imail', 'proton', 'hotmoille', 'napster', 'imail', 'proton', 'ecoin', 'youhoo', 'proton', 'youhoo', 'imail', 'hotmoille', 'email', 'hotmoille', 'ecoin', 'hotmoille', 'napster', 'hotmoille', 'hotmoille', 'belgaximus', 'odul', 'imail', 'email', 'imail', 'belgaximus', 'youhoo', 'proton', 'napster', 'hotmoille', 'belgaximus', 'odul', 'proton', 'ecoin', 'email', 'napster', 'imail', 'odul', 'proton', 'napster', 'hotmoille', 'napster', 'hotmoille', 'ecoin', 'proton', 'ecoin', 'napster', 'hotmoille', 'email', 'gaagle', 'proton', 'gaagle', 'ecoin', 'imail', 'proton', 'gaagle', 'belgaximus', 'belgaximus', 'odul', 'odul', 'belgaximus', 'email', 'odul', 'ecoin', 'ecoin', 'napster', 'belgaximus', 'email', 'email', 'gaagle', 'gaagle', 'gaagle', 'imail', 'proton', 'imail', 'ecoin', 'belgaximus', 'proton', 'gaagle', 'ecoin', 'hotmoille', 'gaagle', 'proton', 'ecoin', 'imail', 'email', 'belgaximus', 'email', 'hotmoille', 'belgaximus', 'ecoin', 'odul', 'belgaximus', 'hotmoille', 'youhoo', 'ecoin', 'belgaximus', 'ecoin', 'imail', 'email', 'hotmoille', 'odul', 'napster', 'proton', 'odul', 'email', 'odul', 'youhoo', 'hotmoille', 'odul', 'proton', 'belgaximus', 'youhoo', 'hotmoille', 'belgaximus', 'email', 'email', 'imail', 'belgaximus', 'odul', 'imail', 'odul', 'hotmoille', 'hotmoille', 'imail', 'imail', 'hotmoille', 'email', 'email', 'napster', 'gaagle', 'email', 'email', 'odul', 'imail', 'imail', 'gaagle', 'email', 'imail', 'email', 'belgaximus', 'youhoo', 'imail', 'napster', 'odul', 'gaagle', 'napster', 'napster', 'gaagle', 'odul', 'ecoin', 'imail', 'imail', 'belgaximus', 'hotmoille', 'odul', 'hotmoille', 'imail', 'hotmoille', 'odul', 'proton', 'belgaximus', 'youhoo', 'imail', 'belgaximus', 'proton', 'napster', 'youhoo', 'hotmoille', 'hotmoille', 'email', 'ecoin', 'proton', 'ecoin', 'youhoo', 'gaagle', 'belgaximus', 'napster', 'belgaximus', 'email', 'imail', 'youhoo', 'email', 'gaagle', 'gaagle', 'hotmoille']\n"
     ]
    }
   ],
   "execution_count": 50
  },
  {
   "cell_type": "markdown",
   "metadata": {
    "colab_type": "text",
    "id": "HRj-nKbszeIi"
   },
   "source": [
    "**12. Another way of doing things.**"
   ]
  },
  {
   "cell_type": "code",
   "metadata": {
    "colab": {},
    "colab_type": "code",
    "id": "KZ-pp_LdzeIb",
    "outputId": "9ce1a3a7-4cf2-444e-ebdb-0c1bcdb9c3d8",
    "ExecuteTime": {
     "end_time": "2024-06-11T12:47:39.230567Z",
     "start_time": "2024-06-11T12:47:39.183134Z"
    }
   },
   "source": [
    "mail = \"audrey.boulevart@benextcomapgny.com\"\n",
    "splitMail = mail.replace(\".\", \" \").split(\"@\").copy()\n",
    "\n",
    "firstName = []\n",
    "name = []\n",
    "ope = []\n",
    "zone = []\n",
    "\n",
    "firstName.append(splitMail[0].split()[0])\n",
    "name.append(splitMail[0].split()[-1])\n",
    "ope.append(splitMail[1].split()[0])\n",
    "zone.append(splitMail[1].split()[-1])\n",
    "\n",
    "firstName, name, ope, zone"
   ],
   "outputs": [
    {
     "data": {
      "text/plain": [
       "(['audrey'], ['boulevart'], ['benextcomapgny'], ['com'])"
      ]
     },
     "execution_count": 51,
     "metadata": {},
     "output_type": "execute_result"
    }
   ],
   "execution_count": 51
  },
  {
   "cell_type": "markdown",
   "metadata": {},
   "source": [
    "Repeat the previous exercise with this new formula and compare the length of your lists with those of the previous exercise.  \n",
    "What do you notice ?"
   ]
  }
 ],
 "metadata": {
  "colab": {
   "name": "Av_2_python_regex.ipynb",
   "provenance": [],
   "version": "0.3.2"
  },
  "kernelspec": {
   "display_name": "Python 3.10.5 64-bit",
   "language": "python",
   "name": "python3"
  },
  "language_info": {
   "codemirror_mode": {
    "name": "ipython",
    "version": 3
   },
   "file_extension": ".py",
   "mimetype": "text/x-python",
   "name": "python",
   "nbconvert_exporter": "python",
   "pygments_lexer": "ipython3",
   "version": "3.10.5"
  },
  "vscode": {
   "interpreter": {
    "hash": "aee8b7b246df8f9039afb4144a1f6fd8d2ca17a180786b69acc140d282b71a49"
   }
  }
 },
 "nbformat": 4,
 "nbformat_minor": 1
}
