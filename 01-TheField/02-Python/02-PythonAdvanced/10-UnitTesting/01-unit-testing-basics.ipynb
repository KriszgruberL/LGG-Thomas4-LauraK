{
 "cells": [
  {
   "cell_type": "markdown",
   "metadata": {},
   "source": [
    "# Unit testing\n",
    "\n",
    "## What is this?\n",
    "Unit tests are used to verify that our code behaves like we expect.\n",
    "We create a function that tests our code with different inputs. It allows us to test all the possible outputs.\n",
    "\n",
    "![test process](https://media.giphy.com/media/Y0b2MpUTfnrUa3jIM7/giphy.gif)"
   ]
  },
  {
   "cell_type": "markdown",
   "metadata": {},
   "source": [
    "## Example\n",
    "Let's take a super simple example. \n",
    "\n",
    "If we check the `add` function, it takes 2 integers and returns another integers. \n",
    "We can use the built-in `assert` keyword. The unit test would look something like this:"
   ]
  },
  {
   "cell_type": "code",
   "metadata": {
    "ExecuteTime": {
     "end_time": "2024-06-12T13:47:02.436950Z",
     "start_time": "2024-06-12T13:47:02.408626Z"
    }
   },
   "source": [
    "# Function definition\n",
    "def add(number_one: int, number_two: int) -> int:\n",
    "    return number_one + number_two\n",
    "\n",
    "\n",
    "def multiply(number_one: int, number_two: int) -> int:\n",
    "    return number_one * number_two\n",
    "\n",
    "\n",
    "# Unit testing\n",
    "def test_add():\n",
    "    test_1 = add(1, 1)\n",
    "    test_2 = add(2, 3)\n",
    "    test_3 = add(5, 5)\n",
    "\n",
    "    assert test_1 == 2\n",
    "    assert test_2 == 5\n",
    "    assert test_3 == 10\n",
    "\n",
    "    print(\"Code tested. No errors.\")\n",
    "\n",
    "def test_multiply():\n",
    "    \"\"\"Test the add function.\"\"\"\n",
    "    test_1 = multiply(1, 1)\n",
    "    test_2 = multiply(2, 3)\n",
    "    test_3 = multiply(5, 5)\n",
    "\n",
    "    assert test_1 == 1\n",
    "    assert test_2 == 6\n",
    "    assert test_3 == 25\n",
    "\n",
    "    print(\"Code tested. No errors.\")\n",
    "\n",
    "\n",
    "if __name__ == \"__main__\":\n",
    "    test_add()\n",
    "    test_multiply()"
   ],
   "outputs": [
    {
     "name": "stdout",
     "output_type": "stream",
     "text": [
      "Code tested. No errors.\n",
      "Code tested. No errors.\n"
     ]
    }
   ],
   "execution_count": 1
  },
  {
   "cell_type": "markdown",
   "metadata": {},
   "source": [
    "Perfect, our code runs well!\n",
    "\n",
    "But what will happen if there is an error in one of the functions we try to test?\n"
   ]
  },
  {
   "cell_type": "code",
   "metadata": {
    "ExecuteTime": {
     "end_time": "2024-06-12T13:47:09.966458Z",
     "start_time": "2024-06-12T13:47:09.362074Z"
    }
   },
   "source": [
    "# Function definition\n",
    "def add(number_one: int, number_two: int) -> int:\n",
    "    return number_one + number_two\n",
    "\n",
    "\n",
    "def multiply(number_one: int, number_two: int) -> int:\n",
    "    return number_one * number_two\n",
    "\n",
    "\n",
    "# Unit testing\n",
    "def test_add():\n",
    "    test_1 = add(1, 1)\n",
    "    test_2 = add(2, 3)\n",
    "    test_3 = add(5, 5)\n",
    "\n",
    "    assert test_1 == 200\n",
    "    assert test_2 == 5\n",
    "    assert test_3 == 10\n",
    "\n",
    "    print(\"Code tested. No errors.\")\n",
    "\n",
    "\n",
    "def test_multiply():\n",
    "    \"\"\"Test the add function.\"\"\"\n",
    "    test_1 = multiply(1, 1)\n",
    "    test_2 = multiply(2, 3)\n",
    "    test_3 = multiply(5, 5)\n",
    "\n",
    "    assert test_1 == 1\n",
    "    assert test_2 == 6\n",
    "    assert test_3 == 25\n",
    "\n",
    "\n",
    "if __name__ == \"__main__\":\n",
    "    test_add()\n",
    "    test_multiply()"
   ],
   "outputs": [
    {
     "ename": "AssertionError",
     "evalue": "",
     "output_type": "error",
     "traceback": [
      "\u001B[1;31m---------------------------------------------------------------------------\u001B[0m",
      "\u001B[1;31mAssertionError\u001B[0m                            Traceback (most recent call last)",
      "Cell \u001B[1;32mIn[2], line 35\u001B[0m\n\u001B[0;32m     31\u001B[0m     \u001B[38;5;28;01massert\u001B[39;00m test_3 \u001B[38;5;241m==\u001B[39m \u001B[38;5;241m25\u001B[39m\n\u001B[0;32m     34\u001B[0m \u001B[38;5;28;01mif\u001B[39;00m \u001B[38;5;18m__name__\u001B[39m \u001B[38;5;241m==\u001B[39m \u001B[38;5;124m\"\u001B[39m\u001B[38;5;124m__main__\u001B[39m\u001B[38;5;124m\"\u001B[39m:\n\u001B[1;32m---> 35\u001B[0m     \u001B[43mtest_add\u001B[49m\u001B[43m(\u001B[49m\u001B[43m)\u001B[49m\n\u001B[0;32m     36\u001B[0m     test_multiply()\n",
      "Cell \u001B[1;32mIn[2], line 16\u001B[0m, in \u001B[0;36mtest_add\u001B[1;34m()\u001B[0m\n\u001B[0;32m     13\u001B[0m test_2 \u001B[38;5;241m=\u001B[39m add(\u001B[38;5;241m2\u001B[39m, \u001B[38;5;241m3\u001B[39m)\n\u001B[0;32m     14\u001B[0m test_3 \u001B[38;5;241m=\u001B[39m add(\u001B[38;5;241m5\u001B[39m, \u001B[38;5;241m5\u001B[39m)\n\u001B[1;32m---> 16\u001B[0m \u001B[38;5;28;01massert\u001B[39;00m test_1 \u001B[38;5;241m==\u001B[39m \u001B[38;5;241m200\u001B[39m\n\u001B[0;32m     17\u001B[0m \u001B[38;5;28;01massert\u001B[39;00m test_2 \u001B[38;5;241m==\u001B[39m \u001B[38;5;241m5\u001B[39m\n\u001B[0;32m     18\u001B[0m \u001B[38;5;28;01massert\u001B[39;00m test_3 \u001B[38;5;241m==\u001B[39m \u001B[38;5;241m10\u001B[39m\n",
      "\u001B[1;31mAssertionError\u001B[0m: "
     ]
    }
   ],
   "execution_count": 2
  },
  {
   "cell_type": "markdown",
   "metadata": {},
   "source": [
    "We see that our first assert fails and we have no clue if the rest of the tests are passing or not. \n",
    " \n",
    "That's the basic of unit testing. But testing your code this way is far form being a good practice. \n",
    "It will be annoying to write as we will need to call all our functions, we could easily forget one, \n",
    "and we will come to a point where we will need more features to test our code.\n",
    "\n",
    "That's why there is the built-in `unittest` module in Python.\n",
    "With it we can create a class that starts with `Test`, inherits from `unittest.TestCase` and then we just call `unittest.main()` at the end of the file.\n",
    "All the functions starting with `test_` are also going to be executed when we will run the file.\n",
    "\n",
    "It also allows us to use cool features we'll see later.\n",
    "\n",
    "A last advantage is the structure. We can create classes related to files, blocks of code,...\n",
    "\n",
    "Let's do the same with this method!\n",
    "\n",
    "We can access some handy methods provided by the `TestCase` class:\n",
    "* `assertEqual(elem_1, elem_2)` that checks if the two parameters `elem_1` and `elem_2` we give are equal.\n",
    "* `assertTrue(elem)` that checks if `elem` is `True`.\n",
    "* `assertFalse(elem)` that checks if `elem` is `False`.\n",
    "* ..."
   ]
  },
  {
   "cell_type": "code",
   "metadata": {
    "ExecuteTime": {
     "end_time": "2024-06-12T13:52:52.201113Z",
     "start_time": "2024-06-12T13:52:51.935860Z"
    }
   },
   "source": [
    "# Import the built-in unittest module\n",
    "import unittest\n",
    "\n",
    "# Function definition\n",
    "def add(number_one: int, number_two: int) -> int:\n",
    "    return number_one + number_two\n",
    "\n",
    "\n",
    "def multiply(number_one: int, number_two: int) -> int:\n",
    "    return number_one * number_two\n",
    "\n",
    "\n",
    "# Unit testing\n",
    "class TestMathFunctions(unittest.TestCase):\n",
    "    \"\"\"Class that will test all the math related functions.\"\"\"\n",
    "\n",
    "    def test_add(self):\n",
    "        \"\"\"Test the add function.\"\"\"\n",
    "        test_1 = add(1, 1)\n",
    "        test_2 = add(2, 3)\n",
    "        test_3 = add(5, 5)\n",
    "\n",
    "        self.assertEqual(test_1, 2)\n",
    "        self.assertEqual(test_2, 5)\n",
    "        self.assertEqual(test_3, 10)\n",
    "\n",
    "    def test_multiply(self):\n",
    "        \"\"\"Test the multiply function.\"\"\"\n",
    "        test_1 = multiply(1, 1)\n",
    "        test_2 = multiply(2, 3)\n",
    "        test_3 = multiply(5, 5)\n",
    "\n",
    "        # Check that there is an output\n",
    "        self.assertTrue(test_1)\n",
    "        self.assertTrue(test_2)\n",
    "        self.assertTrue(test_3)\n",
    "        # Check that the output has the right value\n",
    "        self.assertEqual(test_1, 1)\n",
    "        self.assertEqual(test_2, 6)\n",
    "        self.assertEqual(test_3, 25)\n",
    "\n",
    "\n",
    "# In a .py file use:\n",
    "# unittest.main()\n",
    "# In a jupyter notebook, we need to add some extra parameters:\n",
    "unittest.main(argv=[\"first-arg-is-ignored\"], exit=False)"
   ],
   "outputs": [
    {
     "name": "stderr",
     "output_type": "stream",
     "text": [
      "..\n",
      "----------------------------------------------------------------------\n",
      "Ran 2 tests in 0.003s\n",
      "\n",
      "OK\n"
     ]
    },
    {
     "data": {
      "text/plain": [
       "<unittest.main.TestProgram at 0x1d45c016730>"
      ]
     },
     "execution_count": 3,
     "metadata": {},
     "output_type": "execute_result"
    }
   ],
   "execution_count": 3
  },
  {
   "cell_type": "markdown",
   "metadata": {},
   "source": [
    "What if there is an error now?"
   ]
  },
  {
   "cell_type": "code",
   "execution_count": null,
   "metadata": {},
   "outputs": [],
   "source": [
    "# Import the built-in unittest module\n",
    "import unittest\n",
    "\n",
    "# Function definition\n",
    "def add(number_one: int, number_two: int) -> int:\n",
    "    return number_one + number_two\n",
    "\n",
    "\n",
    "def multiply(number_one: int, number_two: int) -> int:\n",
    "    return number_one * number_two\n",
    "\n",
    "\n",
    "# Unit testing\n",
    "class TestMathFunctions(unittest.TestCase):\n",
    "    \"\"\"Class that will test all the math related functions.\"\"\"\n",
    "\n",
    "    def test_add(self):\n",
    "        \"\"\"Test the add function.\"\"\"\n",
    "        test_1 = add(1, 1)\n",
    "        test_2 = add(2, 3)\n",
    "        test_3 = add(5, 5)\n",
    "\n",
    "        # Error here\n",
    "        self.assertEqual(test_1, 200)\n",
    "        self.assertEqual(test_2, 5)\n",
    "        self.assertEqual(test_3, 10)\n",
    "\n",
    "    def test_multiply(self):\n",
    "        \"\"\"Test the multiply function.\"\"\"\n",
    "        test_1 = multiply(1, 1)\n",
    "        test_2 = multiply(2, 3)\n",
    "        test_3 = multiply(5, 5)\n",
    "\n",
    "        # Check that there is an output\n",
    "        self.assertTrue(test_1)\n",
    "        self.assertTrue(test_2)\n",
    "        self.assertTrue(test_3)\n",
    "        # Check that the output has the right value\n",
    "        self.assertEqual(test_1, 1)\n",
    "        self.assertEqual(test_2, 6)\n",
    "        self.assertEqual(test_3, 25)\n",
    "\n",
    "\n",
    "if __name__ == \"__main__\":\n",
    "    # In a .py file use:\n",
    "    # unittest.main()\n",
    "    # In jupyter notebook, we need a add some params:\n",
    "    unittest.main(argv=[\"first-arg-is-ignored\"], exit=False)"
   ]
  },
  {
   "cell_type": "markdown",
   "metadata": {},
   "source": [
    "As we can see, it will run all the tests and give us the number of fails, and why it failed.\n",
    "\n",
    "## What should I test?\n",
    "\n",
    "Well, it's up to you. If you want a clean and robust code, you should test every function of your code. \n",
    "It will provide you the confidence that your code is doing what you expect.\n",
    "\n",
    "- But, hey, I know what I'm doing! I'm already trying my code before pushing!\n",
    "\n",
    "Maybe, but if you work with anyone else, they can't know by heart your entire code base right? How can you be sure that when you will fix a bug in a 6 month old code you will not forget that the function you changed is needed somewhere else and is not compatible with your small bug fix?\n",
    "\n",
    "That's why we write unit tests. Make your changes, run your unit tests, if all of them pass, you're sure that your code will be fine.\n",
    "\n",
    "## How should I test?\n",
    "\n",
    "Testing the output is great, it will ensure that your function will have the correct behavior.\n",
    "\n",
    "But you want to fully take advantage of your unit tests, you can also add several verification steps. So if something goes wrong you will immediately know where the problem is!\n",
    "\n",
    "Let's take an example. "
   ]
  },
  {
   "cell_type": "code",
   "execution_count": null,
   "metadata": {},
   "outputs": [],
   "source": [
    "# Function definition\n",
    "def add(number_one: int, number_two: int) -> int:\n",
    "    return number_one + number_two\n",
    "\n",
    "\n",
    "def multiply(number_one: int, number_two: int) -> int:\n",
    "    return number_one * number_two\n",
    "\n",
    "\n",
    "def add_and_multiply(number_one: int, number_two: int) -> int:\n",
    "    addition_result = add(number_one, number_one)\n",
    "    multiplying_result = multiply(number_one, number_one)\n",
    "\n",
    "    result = add(addition_result, multiplying_result)\n",
    "    return result\n",
    "\n",
    "\n",
    "# Unit testing\n",
    "class TestMathFunctions(unittest.TestCase):\n",
    "    \"\"\"Class that will test all the math related functions.\"\"\"\n",
    "\n",
    "    def test_add(self):\n",
    "        \"\"\"Test the add function.\"\"\"\n",
    "        test_1 = add(1, 1)\n",
    "        test_2 = add(2, 3)\n",
    "        test_3 = add(5, 5)\n",
    "\n",
    "        assert test_1 == 200\n",
    "        assert test_2 == 5\n",
    "        assert test_3 == 10\n",
    "\n",
    "    def test_multiply(self):\n",
    "        \"\"\"Test the multiply function.\"\"\"\n",
    "        test_1 = multiply(1, 1)\n",
    "        test_2 = multiply(2, 3)\n",
    "        test_3 = multiply(5, 5)\n",
    "\n",
    "        assert test_1 == 1\n",
    "        assert test_2 == 6\n",
    "        assert test_3 == 25\n",
    "\n",
    "    def test_add_and_multiply(self):\n",
    "        \"\"\"Test the add_and_multiply function.\"\"\"\n",
    "        test_1 = add_and_multiply(2, 4)\n",
    "\n",
    "        assert test_1 == 14\n",
    "\n",
    "\n",
    "if __name__ == \"__main__\":\n",
    "    # In a .py file use:\n",
    "    # unittest.main()\n",
    "    # In jupyter notebook, we need a add some params:\n",
    "    unittest.main(argv=[\"first-arg-is-ignored\"], exit=False)"
   ]
  }
 ],
 "metadata": {
  "kernelspec": {
   "display_name": "Python 3",
   "language": "python",
   "name": "python3"
  },
  "language_info": {
   "codemirror_mode": {
    "name": "ipython"
   },
   "file_extension": ".py",
   "mimetype": "text/x-python",
   "name": "python",
   "nbconvert_exporter": "python"
  }
 },
 "nbformat": 4,
 "nbformat_minor": 2
}
