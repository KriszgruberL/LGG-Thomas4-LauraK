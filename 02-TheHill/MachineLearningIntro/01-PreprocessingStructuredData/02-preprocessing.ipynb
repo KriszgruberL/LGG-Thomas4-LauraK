{
 "cells": [
  {
   "cell_type": "markdown",
   "metadata": {},
   "source": [
    "# Data preprocessing using pandas and scikit-learn"
   ]
  },
  {
   "cell_type": "markdown",
   "metadata": {},
   "source": [
    "### Feature selection\n",
    "\n",
    "Data preprocessing is most always the step before training a machine learning model. There are features that are not very useful for predicting a given outcome. For example, including an `id` field which uniquely identifies each sample does not make much sense. \n",
    "Thus, such variables can be safely deleted.\n"
   ]
  },
  {
   "cell_type": "code",
   "execution_count": 127,
   "metadata": {},
   "outputs": [],
   "source": [
    "import pandas as pd\n",
    "from matplotlib import pyplot as plt"
   ]
  },
  {
   "cell_type": "code",
   "execution_count": 128,
   "metadata": {},
   "outputs": [
    {
     "data": {
      "text/plain": [
       "Index(['X', 'Y', 'Unique Squirrel ID', 'Hectare', 'Shift', 'Date',\n",
       "       'Hectare Squirrel Number', 'Age', 'Primary Fur Color',\n",
       "       'Highlight Fur Color', 'Combination of Primary and Highlight Color',\n",
       "       'Color notes', 'Location', 'Above Ground Sighter Measurement',\n",
       "       'Specific Location', 'Running', 'Chasing', 'Climbing', 'Eating',\n",
       "       'Foraging', 'Other Activities', 'Kuks', 'Quaas', 'Moans', 'Tail flags',\n",
       "       'Tail twitches', 'Approaches', 'Indifferent', 'Runs from',\n",
       "       'Other Interactions', 'Lat/Long'],\n",
       "      dtype='object')"
      ]
     },
     "execution_count": 128,
     "metadata": {},
     "output_type": "execute_result"
    }
   ],
   "source": [
    "filename = \"../../../data/NYC_Squirrels/data.csv\"\n",
    "df = pd.read_csv(filename)\n",
    "df.columns"
   ]
  },
  {
   "cell_type": "markdown",
   "metadata": {},
   "source": [
    "Again, we'll ask you do to a bit of work yourself. This time, we ask you to drop unnecessary columns."
   ]
  },
  {
   "cell_type": "code",
   "execution_count": 129,
   "metadata": {},
   "outputs": [
    {
     "name": "stdout",
     "output_type": "stream",
     "text": [
      "Index(['X', 'Y', 'Hectare', 'Shift', 'Date', 'Hectare Squirrel Number', 'Age',\n",
      "       'Primary Fur Color', 'Highlight Fur Color',\n",
      "       'Combination of Primary and Highlight Color', 'Color notes', 'Location',\n",
      "       'Above Ground Sighter Measurement', 'Specific Location', 'Running',\n",
      "       'Chasing', 'Climbing', 'Eating', 'Foraging', 'Other Activities', 'Kuks',\n",
      "       'Quaas', 'Moans', 'Tail flags', 'Tail twitches', 'Approaches',\n",
      "       'Indifferent', 'Runs from', 'Other Interactions', 'Lat/Long'],\n",
      "      dtype='object')\n"
     ]
    }
   ],
   "source": [
    "# Drop the \"Unique Squirrel ID\" column\n",
    "df.drop([\"Unique Squirrel ID\"], axis = 1, inplace= True)\n",
    "print(df.columns)"
   ]
  },
  {
   "cell_type": "markdown",
   "metadata": {},
   "source": [
    "### Feature slicing\n",
    "Feature slicing is the act of *slicing* a feature into multiple different features.\n",
    "For example, we can slice the `Date` into day, month, and year.\n"
   ]
  },
  {
   "cell_type": "code",
   "execution_count": 130,
   "metadata": {},
   "outputs": [
    {
     "data": {
      "text/plain": [
       "0    10142018\n",
       "1    10192018\n",
       "2    10142018\n",
       "3    10172018\n",
       "4    10172018\n",
       "Name: Date, dtype: int64"
      ]
     },
     "execution_count": 130,
     "metadata": {},
     "output_type": "execute_result"
    }
   ],
   "source": [
    "df[\"Date\"].head()"
   ]
  },
  {
   "cell_type": "markdown",
   "metadata": {},
   "source": [
    "Hint: use the `Series.apply()` method with a lambda function. [[Help]](https://www.analyticsvidhya.com/blog/2020/03/what-are-lambda-functions-in-python/)\n"
   ]
  },
  {
   "cell_type": "code",
   "execution_count": 131,
   "metadata": {},
   "outputs": [
    {
     "data": {
      "text/html": [
       "<div>\n",
       "<style scoped>\n",
       "    .dataframe tbody tr th:only-of-type {\n",
       "        vertical-align: middle;\n",
       "    }\n",
       "\n",
       "    .dataframe tbody tr th {\n",
       "        vertical-align: top;\n",
       "    }\n",
       "\n",
       "    .dataframe thead th {\n",
       "        text-align: right;\n",
       "    }\n",
       "</style>\n",
       "<table border=\"1\" class=\"dataframe\">\n",
       "  <thead>\n",
       "    <tr style=\"text-align: right;\">\n",
       "      <th></th>\n",
       "      <th>Date</th>\n",
       "      <th>day</th>\n",
       "      <th>month</th>\n",
       "      <th>year</th>\n",
       "    </tr>\n",
       "  </thead>\n",
       "  <tbody>\n",
       "    <tr>\n",
       "      <th>0</th>\n",
       "      <td>1970-01-01 00:00:00.010142018</td>\n",
       "      <td>1</td>\n",
       "      <td>1</td>\n",
       "      <td>1970</td>\n",
       "    </tr>\n",
       "    <tr>\n",
       "      <th>1</th>\n",
       "      <td>1970-01-01 00:00:00.010192018</td>\n",
       "      <td>1</td>\n",
       "      <td>1</td>\n",
       "      <td>1970</td>\n",
       "    </tr>\n",
       "    <tr>\n",
       "      <th>2</th>\n",
       "      <td>1970-01-01 00:00:00.010142018</td>\n",
       "      <td>1</td>\n",
       "      <td>1</td>\n",
       "      <td>1970</td>\n",
       "    </tr>\n",
       "    <tr>\n",
       "      <th>3</th>\n",
       "      <td>1970-01-01 00:00:00.010172018</td>\n",
       "      <td>1</td>\n",
       "      <td>1</td>\n",
       "      <td>1970</td>\n",
       "    </tr>\n",
       "    <tr>\n",
       "      <th>4</th>\n",
       "      <td>1970-01-01 00:00:00.010172018</td>\n",
       "      <td>1</td>\n",
       "      <td>1</td>\n",
       "      <td>1970</td>\n",
       "    </tr>\n",
       "  </tbody>\n",
       "</table>\n",
       "</div>"
      ],
      "text/plain": [
       "                           Date  day  month  year\n",
       "0 1970-01-01 00:00:00.010142018    1      1  1970\n",
       "1 1970-01-01 00:00:00.010192018    1      1  1970\n",
       "2 1970-01-01 00:00:00.010142018    1      1  1970\n",
       "3 1970-01-01 00:00:00.010172018    1      1  1970\n",
       "4 1970-01-01 00:00:00.010172018    1      1  1970"
      ]
     },
     "execution_count": 131,
     "metadata": {},
     "output_type": "execute_result"
    }
   ],
   "source": [
    "# Split the feature \"Date\" into \"day\", \"month\" and \"year\" columns\n",
    "df['Date'] = pd.to_datetime(df['Date'])  # <-- omit if datetime_utc is already datetime64[ns]\n",
    "df[['day', 'month', 'year']] = df['Date'].apply(lambda x: pd.Series([x.day, x.month, x.year]))\n",
    "\n",
    "df[[\"Date\", \"day\", \"month\", \"year\"]].head()"
   ]
  },
  {
   "cell_type": "markdown",
   "metadata": {},
   "source": [
    "### Feature engineering\n",
    "\n",
    "You can create new features based on the features you have. These might be more useful for your (future) machine learning model than the ones that are already present in the dataset.\n",
    "In this squirrel dataset, most of the fields encode the action taken by the squirrel when being approached by the human.\n",
    "We will combine them into a single feature `Reaction` with values `\"yes\"` and `\"no\"`."
   ]
  },
  {
   "cell_type": "code",
   "execution_count": 132,
   "metadata": {},
   "outputs": [
    {
     "data": {
      "text/plain": [
       "0        no\n",
       "1        no\n",
       "2        no\n",
       "3       yes\n",
       "4        no\n",
       "       ... \n",
       "3018    yes\n",
       "3019     no\n",
       "3020     no\n",
       "3021     no\n",
       "3022    yes\n",
       "Name: Reaction, Length: 3023, dtype: object"
      ]
     },
     "execution_count": 132,
     "metadata": {},
     "output_type": "execute_result"
    }
   ],
   "source": [
    "reaction_columns = [\"Kuks\", \"Quaas\", \"Moans\", \"Tail flags\",\n",
    "                    \"Tail twitches\", \"Approaches\", \"Runs from\",\n",
    "                    \"Other Interactions\"]\n",
    "\n",
    "df[\"Reaction\"] = df[reaction_columns].any(axis=1)\n",
    "df[\"Reaction\"] = df[\"Reaction\"].apply(lambda x: \"yes\" if x else \"no\")\n",
    "df[\"Reaction\"]"
   ]
  },
  {
   "cell_type": "markdown",
   "metadata": {},
   "source": [
    "A important step for a data processing pipeline is making the data understandable for machine learning algorithms. Most of them do not understand strings, like `yes` and `no` in our newly created column.\n",
    "We need to transform them to a binary format so that the machine learning model can take advantage of that feature.We are going to **One Hot Encode** our feature.\n"
   ]
  },
  {
   "cell_type": "code",
   "execution_count": 133,
   "metadata": {},
   "outputs": [
    {
     "data": {
      "text/html": [
       "<div>\n",
       "<style scoped>\n",
       "    .dataframe tbody tr th:only-of-type {\n",
       "        vertical-align: middle;\n",
       "    }\n",
       "\n",
       "    .dataframe tbody tr th {\n",
       "        vertical-align: top;\n",
       "    }\n",
       "\n",
       "    .dataframe thead th {\n",
       "        text-align: right;\n",
       "    }\n",
       "</style>\n",
       "<table border=\"1\" class=\"dataframe\">\n",
       "  <thead>\n",
       "    <tr style=\"text-align: right;\">\n",
       "      <th></th>\n",
       "      <th>Reaction_no</th>\n",
       "      <th>Reaction_yes</th>\n",
       "    </tr>\n",
       "  </thead>\n",
       "  <tbody>\n",
       "    <tr>\n",
       "      <th>0</th>\n",
       "      <td>True</td>\n",
       "      <td>False</td>\n",
       "    </tr>\n",
       "    <tr>\n",
       "      <th>1</th>\n",
       "      <td>True</td>\n",
       "      <td>False</td>\n",
       "    </tr>\n",
       "    <tr>\n",
       "      <th>2</th>\n",
       "      <td>True</td>\n",
       "      <td>False</td>\n",
       "    </tr>\n",
       "    <tr>\n",
       "      <th>3</th>\n",
       "      <td>False</td>\n",
       "      <td>True</td>\n",
       "    </tr>\n",
       "    <tr>\n",
       "      <th>4</th>\n",
       "      <td>True</td>\n",
       "      <td>False</td>\n",
       "    </tr>\n",
       "    <tr>\n",
       "      <th>...</th>\n",
       "      <td>...</td>\n",
       "      <td>...</td>\n",
       "    </tr>\n",
       "    <tr>\n",
       "      <th>3018</th>\n",
       "      <td>False</td>\n",
       "      <td>True</td>\n",
       "    </tr>\n",
       "    <tr>\n",
       "      <th>3019</th>\n",
       "      <td>True</td>\n",
       "      <td>False</td>\n",
       "    </tr>\n",
       "    <tr>\n",
       "      <th>3020</th>\n",
       "      <td>True</td>\n",
       "      <td>False</td>\n",
       "    </tr>\n",
       "    <tr>\n",
       "      <th>3021</th>\n",
       "      <td>True</td>\n",
       "      <td>False</td>\n",
       "    </tr>\n",
       "    <tr>\n",
       "      <th>3022</th>\n",
       "      <td>False</td>\n",
       "      <td>True</td>\n",
       "    </tr>\n",
       "  </tbody>\n",
       "</table>\n",
       "<p>3023 rows × 2 columns</p>\n",
       "</div>"
      ],
      "text/plain": [
       "      Reaction_no  Reaction_yes\n",
       "0            True         False\n",
       "1            True         False\n",
       "2            True         False\n",
       "3           False          True\n",
       "4            True         False\n",
       "...           ...           ...\n",
       "3018        False          True\n",
       "3019         True         False\n",
       "3020         True         False\n",
       "3021         True         False\n",
       "3022        False          True\n",
       "\n",
       "[3023 rows x 2 columns]"
      ]
     },
     "execution_count": 133,
     "metadata": {},
     "output_type": "execute_result"
    }
   ],
   "source": [
    "pd.get_dummies(df.Reaction, prefix=\"Reaction\")"
   ]
  },
  {
   "cell_type": "code",
   "execution_count": 134,
   "metadata": {},
   "outputs": [
    {
     "data": {
      "text/html": [
       "<div>\n",
       "<style scoped>\n",
       "    .dataframe tbody tr th:only-of-type {\n",
       "        vertical-align: middle;\n",
       "    }\n",
       "\n",
       "    .dataframe tbody tr th {\n",
       "        vertical-align: top;\n",
       "    }\n",
       "\n",
       "    .dataframe thead th {\n",
       "        text-align: right;\n",
       "    }\n",
       "</style>\n",
       "<table border=\"1\" class=\"dataframe\">\n",
       "  <thead>\n",
       "    <tr style=\"text-align: right;\">\n",
       "      <th></th>\n",
       "      <th>Reaction</th>\n",
       "    </tr>\n",
       "  </thead>\n",
       "  <tbody>\n",
       "    <tr>\n",
       "      <th>0</th>\n",
       "      <td>False</td>\n",
       "    </tr>\n",
       "    <tr>\n",
       "      <th>1</th>\n",
       "      <td>False</td>\n",
       "    </tr>\n",
       "    <tr>\n",
       "      <th>2</th>\n",
       "      <td>False</td>\n",
       "    </tr>\n",
       "    <tr>\n",
       "      <th>3</th>\n",
       "      <td>True</td>\n",
       "    </tr>\n",
       "    <tr>\n",
       "      <th>4</th>\n",
       "      <td>False</td>\n",
       "    </tr>\n",
       "    <tr>\n",
       "      <th>...</th>\n",
       "      <td>...</td>\n",
       "    </tr>\n",
       "    <tr>\n",
       "      <th>3018</th>\n",
       "      <td>True</td>\n",
       "    </tr>\n",
       "    <tr>\n",
       "      <th>3019</th>\n",
       "      <td>False</td>\n",
       "    </tr>\n",
       "    <tr>\n",
       "      <th>3020</th>\n",
       "      <td>False</td>\n",
       "    </tr>\n",
       "    <tr>\n",
       "      <th>3021</th>\n",
       "      <td>False</td>\n",
       "    </tr>\n",
       "    <tr>\n",
       "      <th>3022</th>\n",
       "      <td>True</td>\n",
       "    </tr>\n",
       "  </tbody>\n",
       "</table>\n",
       "<p>3023 rows × 1 columns</p>\n",
       "</div>"
      ],
      "text/plain": [
       "      Reaction\n",
       "0        False\n",
       "1        False\n",
       "2        False\n",
       "3         True\n",
       "4        False\n",
       "...        ...\n",
       "3018      True\n",
       "3019     False\n",
       "3020     False\n",
       "3021     False\n",
       "3022      True\n",
       "\n",
       "[3023 rows x 1 columns]"
      ]
     },
     "execution_count": 134,
     "metadata": {},
     "output_type": "execute_result"
    }
   ],
   "source": [
    "df = pd.get_dummies(df.Reaction, prefix=\"Reaction\", drop_first=True)\n",
    "df.rename(columns={\"Reaction_yes\": \"Reaction\"})"
   ]
  },
  {
   "cell_type": "markdown",
   "metadata": {},
   "source": [
    "\n",
    "Similar things can be done after converting the data frame to an array using the `scikit-learn` library with `LabelBinarizer` or `OneHotEncoder`."
   ]
  },
  {
   "cell_type": "markdown",
   "metadata": {},
   "source": [
    "## Feature normalization or standardization\n",
    "Although they are sometimes used interchangeably, normalization and standardization are two different ways to bring a column of values to a common scale.\n",
    "In this section, we're going to use the word normalization to refer to this concept.\n",
    "\n",
    "Why do we normalize data ?\n",
    "\n",
    "*For example, assume your input dataset contains one column with values ranging from 0 to 1, and another column with values ranging from 10,000 to 100,000. The great difference in the scale of the numbers could cause problems when you attempt to combine the values as features during modeling.* [[Source]](https://docs.microsoft.com/en-us/azure/machine-learning/studio-module-reference/normalize-data)\n",
    "\n",
    "Some algorithms require that data be normalized before training a model. Other algorithms perform their own data scaling or normalization.\n",
    "\n",
    "Given a column of values *x*, if we choose to scale them, there are a few options:\n",
    "\n",
    "- Normalization, also called *min-max scaling*, rescales every value to a range between [0, 1]. The maximum and the minimum are computed for each column separately.\n",
    "\n",
    "  $$ z = \\frac{x - min(x)}{max(x) - min(x)} $$\n",
    "\n",
    "- Standardization, also called z-score normalization, rescales the value around a 0 mean and a standard deviation of 1. It essentially transforms all values of *x* to a *z-score*. Mean and standard deviation are computed for each column separately.\n",
    "\n",
    "$$ z = \\frac{x - mean(x)}{std(x)} $$\n",
    "\n",
    "\n",
    "### Be careful!\n",
    "\n",
    "When you want to normalize your dataset, you have to do so **AFTER** splitting your data into different train-test splits. Indeed, normalizing your data before would use some information from your testing set in the training set, thus biasing the model.\n",
    "Indeed, in a real world scenario, you would not have access to the testing set, as this would be the data that you are meant to predict.\n",
    "\n",
    "The procedure is the following:\n",
    "1. Split your data into train and test\n",
    "2. For every variable $x$ of your **training set**, compute $max(x_{train})$ and $min(x_{train})$ , or $mean(x_{train})$ and $std(x_{train})$ depending if you do min-max scaling or z-score-normalization.\n",
    "3. Normalize your training set and your testing set using these values (here I'm only showing the testing set).\n",
    "$$ z_{test} = \\frac{x_{test} - min(x_{train})}{max(x_{train}) - min(x_{train})} $$\n",
    "\n",
    "\n",
    "$$ z_{test} = \\frac{x_{test} - mean(x_{train})}{std(x_{train})} $$\n"
   ]
  },
  {
   "cell_type": "code",
   "execution_count": 135,
   "metadata": {},
   "outputs": [],
   "source": [
    "from sklearn.model_selection import train_test_split\n",
    "from sklearn import datasets\n",
    "import numpy as np\n",
    "dataset = datasets.load_breast_cancer()\n",
    "X, y = dataset.data, dataset.target"
   ]
  },
  {
   "cell_type": "code",
   "execution_count": 136,
   "metadata": {},
   "outputs": [
    {
     "name": "stdout",
     "output_type": "stream",
     "text": [
      "['mean radius' 'mean texture' 'mean perimeter' 'mean area'\n",
      " 'mean smoothness' 'mean compactness' 'mean concavity'\n",
      " 'mean concave points' 'mean symmetry' 'mean fractal dimension'\n",
      " 'radius error' 'texture error' 'perimeter error' 'area error'\n",
      " 'smoothness error' 'compactness error' 'concavity error'\n",
      " 'concave points error' 'symmetry error' 'fractal dimension error'\n",
      " 'worst radius' 'worst texture' 'worst perimeter' 'worst area'\n",
      " 'worst smoothness' 'worst compactness' 'worst concavity'\n",
      " 'worst concave points' 'worst symmetry' 'worst fractal dimension']\n"
     ]
    }
   ],
   "source": [
    "print(dataset.feature_names)"
   ]
  },
  {
   "cell_type": "code",
   "execution_count": 137,
   "metadata": {},
   "outputs": [
    {
     "name": "stdout",
     "output_type": "stream",
     "text": [
      "(455, 30)\n"
     ]
    }
   ],
   "source": [
    "# Splitting data into train and test split\n",
    "X_train, X_test, y_train, y_test = train_test_split(X,y, random_state=41, test_size=0.2)\n",
    "print(X_train.shape)"
   ]
  },
  {
   "cell_type": "markdown",
   "metadata": {},
   "source": [
    "Here, we'll want you to use numpy's mean and standard deviation functions to standardize each feature of the training and testing set. These are `np.mean()` and `np.std()`."
   ]
  },
  {
   "cell_type": "code",
   "execution_count": 144,
   "metadata": {},
   "outputs": [
    {
     "name": "stdout",
     "output_type": "stream",
     "text": [
      "Feature 'mean radius' has mean -0.00 and standard deviation 1.00\n",
      "Feature 'mean texture' has mean 0.00 and standard deviation 1.00\n",
      "Feature 'mean perimeter' has mean -0.00 and standard deviation 1.00\n",
      "Feature 'mean area' has mean -0.00 and standard deviation 1.00\n",
      "Feature 'mean smoothness' has mean -0.00 and standard deviation 1.00\n",
      "Feature 'mean compactness' has mean 0.00 and standard deviation 1.00\n",
      "Feature 'mean concavity' has mean -0.00 and standard deviation 1.00\n",
      "Feature 'mean concave points' has mean -0.00 and standard deviation 1.00\n",
      "Feature 'mean symmetry' has mean 0.00 and standard deviation 1.00\n",
      "Feature 'mean fractal dimension' has mean 0.00 and standard deviation 1.00\n",
      "Feature 'radius error' has mean -0.00 and standard deviation 1.00\n",
      "Feature 'texture error' has mean -0.00 and standard deviation 1.00\n",
      "Feature 'perimeter error' has mean -0.00 and standard deviation 1.00\n",
      "Feature 'area error' has mean 0.00 and standard deviation 1.00\n",
      "Feature 'smoothness error' has mean -0.00 and standard deviation 1.00\n",
      "Feature 'compactness error' has mean -0.00 and standard deviation 1.00\n",
      "Feature 'concavity error' has mean -0.00 and standard deviation 1.00\n",
      "Feature 'concave points error' has mean -0.00 and standard deviation 1.00\n",
      "Feature 'symmetry error' has mean 0.00 and standard deviation 1.00\n",
      "Feature 'fractal dimension error' has mean 0.00 and standard deviation 1.00\n",
      "Feature 'worst radius' has mean 0.00 and standard deviation 1.00\n",
      "Feature 'worst texture' has mean -0.00 and standard deviation 1.00\n",
      "Feature 'worst perimeter' has mean -0.00 and standard deviation 1.00\n",
      "Feature 'worst area' has mean -0.00 and standard deviation 1.00\n",
      "Feature 'worst smoothness' has mean 0.00 and standard deviation 1.00\n",
      "Feature 'worst compactness' has mean -0.00 and standard deviation 1.00\n",
      "Feature 'worst concavity' has mean 0.00 and standard deviation 1.00\n",
      "Feature 'worst concave points' has mean -0.00 and standard deviation 1.00\n",
      "Feature 'worst symmetry' has mean -0.00 and standard deviation 1.00\n",
      "Feature 'worst fractal dimension' has mean 0.00 and standard deviation 1.00\n"
     ]
    }
   ],
   "source": [
    "# Standardizing each feature using the train mean and standard deviation\n",
    "for idx, name in enumerate(dataset.feature_names):\n",
    "    # Get mean and standard deviation from training set (per feature)\n",
    "    mean = np.mean(X_train[: , idx])\n",
    "    stdev = np.std(X_train[: , idx])\n",
    "    print(f\"Feature '{name}' has mean {mean:.2f} and standard deviation {stdev:.2f}\")\n",
    "    # Standardize training and testing set using the mean and standard deviation from the training set\n",
    "    \n",
    "    X_train[:, idx] = (X_train[: , idx] - mean ) /stdev\n",
    "    X_test[:, idx] = (X_test[: , idx] - mean ) /stdev"
   ]
  },
  {
   "cell_type": "markdown",
   "metadata": {},
   "source": [
    "If you run the previous cell twice (without running the others cells again), you'll see that the second time, the mean and standard deviation for each feature will be 0 and 1 respectively, which is exactly what we want when we standardize (z-score normalization)."
   ]
  },
  {
   "cell_type": "code",
   "execution_count": 145,
   "metadata": {},
   "outputs": [
    {
     "name": "stdout",
     "output_type": "stream",
     "text": [
      "\n",
      "Standardized Training Data (After Standardization):\n",
      "     mean radius  mean texture  mean perimeter  mean area  mean smoothness  \\\n",
      "0      -0.364987     -0.834638       -0.370442  -0.422655        -0.414374   \n",
      "1       0.052088     -0.267009       -0.017729  -0.046333        -2.194288   \n",
      "2      -0.125825     -1.432510       -0.159153  -0.237774         0.023381   \n",
      "3      -0.951226      1.138106       -0.963237  -0.855932        -1.026942   \n",
      "4       1.901220      2.329197        2.051973   1.837960         1.564913   \n",
      "..           ...           ...             ...        ...              ...   \n",
      "450    -0.717897     -0.264682       -0.646092  -0.715184         1.543242   \n",
      "451    -0.359154      0.477423       -0.381451  -0.399992        -1.489979   \n",
      "452    -0.096659      1.035747       -0.131207  -0.174855        -1.134574   \n",
      "453     1.772889      0.079617        1.670891   1.864797        -1.151189   \n",
      "454    -0.767480      0.384369       -0.754912  -0.736952         1.015914   \n",
      "\n",
      "     mean compactness  mean concavity  mean concave points  mean symmetry  \\\n",
      "0           -0.408926       -0.380271            -0.456438      -0.379767   \n",
      "1           -0.994345       -0.811747            -0.902450      -0.639652   \n",
      "2           -0.324060       -0.630296            -0.591236      -1.660629   \n",
      "3           -0.728996       -0.930789            -1.048503       0.626360   \n",
      "4            3.321893        3.382945             2.716423       2.189384   \n",
      "..                ...             ...                  ...            ...   \n",
      "450          0.850809        0.180262             0.194258       0.555820   \n",
      "451         -0.399902       -0.342902            -0.773410      -0.843848   \n",
      "452         -0.689635       -0.526408            -0.648558      -0.127307   \n",
      "453         -0.352285        0.353623             0.760148       0.448153   \n",
      "454         -0.199066       -0.540020            -0.677612       0.128866   \n",
      "\n",
      "     mean fractal dimension  ...  worst radius  worst texture  \\\n",
      "0                 -0.534265  ...     -0.453655      -1.061777   \n",
      "1                 -1.012387  ...     -0.004653      -0.093985   \n",
      "2                  0.095920  ...     -0.190156      -1.553042   \n",
      "3                  0.072526  ...     -0.677102       0.919659   \n",
      "4                  1.078482  ...      2.002153       2.224786   \n",
      "..                      ...  ...           ...            ...   \n",
      "450                1.427935  ...     -0.607538      -0.071059   \n",
      "451               -0.240374  ...     -0.388307       0.192587   \n",
      "452               -1.241943  ...     -0.259720       0.082871   \n",
      "453               -1.728838  ...      1.437211      -0.459158   \n",
      "454                1.062398  ...     -0.660238       1.035925   \n",
      "\n",
      "     worst perimeter  worst area  worst smoothness  worst compactness  \\\n",
      "0          -0.419853   -0.488824         -0.003816           0.029583   \n",
      "1          -0.036730   -0.101754         -1.670457          -0.251139   \n",
      "2          -0.222201   -0.307142         -0.069345          -0.056598   \n",
      "3          -0.703694   -0.670145         -0.536791          -0.589527   \n",
      "4           2.363120    1.710186          1.411628           3.876684   \n",
      "..               ...         ...               ...                ...   \n",
      "450        -0.574565   -0.629429          1.979553           0.199411   \n",
      "451        -0.468277   -0.416441         -1.689242          -0.397520   \n",
      "452        -0.274279   -0.307504         -1.704096          -0.710561   \n",
      "453         1.315470    1.413414         -1.192090          -0.650361   \n",
      "454        -0.684507   -0.634858          1.005343          -0.562279   \n",
      "\n",
      "     worst concavity  worst concave points  worst symmetry  \\\n",
      "0           0.347072             -0.259673        0.171929   \n",
      "1          -0.569570             -0.604303       -0.441127   \n",
      "2          -0.476515             -0.523844       -0.865296   \n",
      "3          -1.023143             -1.256851        0.259745   \n",
      "4           3.182380              2.297439        1.963047   \n",
      "..               ...                   ...             ...   \n",
      "450         0.207969              0.409854       -0.401362   \n",
      "451        -0.438621             -0.899372       -0.686350   \n",
      "452        -0.668381             -0.822125       -0.396391   \n",
      "453        -0.070238              0.423620        0.253117   \n",
      "454        -0.478434             -0.818913       -0.232357   \n",
      "\n",
      "     worst fractal dimension  \n",
      "0                  -0.353263  \n",
      "1                  -0.423417  \n",
      "2                   0.156741  \n",
      "3                  -0.451255  \n",
      "4                   2.206779  \n",
      "..                       ...  \n",
      "450                 0.464079  \n",
      "451                -0.158950  \n",
      "452                -1.177844  \n",
      "453                -1.393872  \n",
      "454                 0.230792  \n",
      "\n",
      "[455 rows x 30 columns]\n",
      "\n",
      "Standardized Testing Data (After Standardization):\n",
      "     mean radius  mean texture  mean perimeter  mean area  mean smoothness  \\\n",
      "0      -0.437903     -0.213503       -0.500010  -0.476032        -0.881746   \n",
      "1       0.197919     -1.064947        0.136821   0.059824        -0.533565   \n",
      "2       0.162919     -0.948629        0.174930   0.009728         1.232624   \n",
      "3      -0.417486     -0.267009       -0.378911  -0.486170         0.828098   \n",
      "4      -0.481652     -0.539192       -0.552092  -0.510920        -1.485645   \n",
      "..           ...           ...             ...        ...              ...   \n",
      "109    -0.411653     -0.469401       -0.439884  -0.473348         0.481362   \n",
      "110    -1.403884     -1.499974       -1.276572  -1.192594         4.858910   \n",
      "111    -0.166658     -0.099512       -0.149838  -0.269979         0.705296   \n",
      "112    -0.881227     -0.511275       -0.863309  -0.841320         1.680492   \n",
      "113    -0.061660     -0.722973       -0.132054  -0.163822        -0.628917   \n",
      "\n",
      "     mean compactness  mean concavity  mean concave points  mean symmetry  \\\n",
      "0           -1.187116       -1.105690            -1.185552      -0.409468   \n",
      "1           -0.502816       -0.537837            -0.338653      -1.062894   \n",
      "2            0.574324        0.150213             0.586874       1.146130   \n",
      "3            0.564724       -0.100069             0.066003      -0.617376   \n",
      "4           -1.333423       -0.957242            -0.817383      -1.244813   \n",
      "..                ...             ...                  ...            ...   \n",
      "109         -0.525088       -0.719545            -0.710591      -0.372342   \n",
      "110          2.302355        0.119907             0.112594       2.118843   \n",
      "111          0.205677       -0.027771             0.146358      -0.004790   \n",
      "112          0.059754       -0.607824            -0.144963       0.544682   \n",
      "113         -0.942120       -0.936696            -0.715564      -1.423020   \n",
      "\n",
      "     mean fractal dimension  ...  worst radius  worst texture  \\\n",
      "0                 -0.619069  ...     -0.578026      -0.450970   \n",
      "1                 -0.535727  ...      0.216686      -1.294309   \n",
      "2                  0.098844  ...      0.020643      -1.243545   \n",
      "3                  0.841614  ...     -0.392523      -0.603263   \n",
      "4                 -1.048940  ...     -0.704506      -0.920947   \n",
      "..                      ...  ...           ...            ...   \n",
      "109               -0.430453  ...     -0.533759      -0.775205   \n",
      "110                4.713376  ...     -1.256799      -1.548129   \n",
      "111               -0.291549  ...     -0.303988       0.223700   \n",
      "112                2.482142  ...     -0.959573      -0.834157   \n",
      "113               -0.578129  ...     -0.238640      -0.041583   \n",
      "\n",
      "     worst perimeter  worst area  worst smoothness  worst compactness  \\\n",
      "0          -0.653138   -0.564284         -1.261988          -1.204582   \n",
      "1           0.219092    0.008812         -0.466893          -0.351261   \n",
      "2           0.072908   -0.130888         -0.217880           0.333118   \n",
      "3          -0.356812   -0.438337          0.900496           0.810283   \n",
      "4          -0.768867   -0.651506         -2.123050          -1.325742   \n",
      "..               ...         ...               ...                ...   \n",
      "109        -0.557510   -0.545645          0.249566          -0.856308   \n",
      "110        -1.155950   -1.041834          2.512529           0.556175   \n",
      "111        -0.294683   -0.363239          0.441787           0.004236   \n",
      "112        -0.941851   -0.841151          1.464052          -0.337320   \n",
      "113        -0.312652   -0.328495         -0.759593          -0.985580   \n",
      "\n",
      "     worst concavity  worst concave points  worst symmetry  \\\n",
      "0          -1.293487             -1.621947       -0.658183   \n",
      "1          -0.288486              0.157462        0.342591   \n",
      "2          -0.071197              0.380790        0.412181   \n",
      "3           0.397917              0.396087        0.543076   \n",
      "4          -1.212947             -1.322932       -1.658956   \n",
      "..               ...                   ...             ...   \n",
      "109        -0.830988             -0.899219       -0.354968   \n",
      "110        -0.313428             -0.188239        0.224950   \n",
      "111         0.328845              0.466451       -0.391420   \n",
      "112        -0.717787             -0.300821       -0.202533   \n",
      "113        -1.066744             -0.906256       -0.895120   \n",
      "\n",
      "     worst fractal dimension  \n",
      "0                  -1.116599  \n",
      "1                  -0.138906  \n",
      "2                   0.020331  \n",
      "3                   1.054259  \n",
      "4                  -1.394429  \n",
      "..                       ...  \n",
      "109                -0.862154  \n",
      "110                 2.273592  \n",
      "111                -0.417849  \n",
      "112                 1.805902  \n",
      "113                -0.736880  \n",
      "\n",
      "[114 rows x 30 columns]\n"
     ]
    }
   ],
   "source": [
    "# Print standardized training and testing data\n",
    "print(\"\\nStandardized Training Data (After Standardization):\")\n",
    "print(pd.DataFrame(X_train, columns=dataset.feature_names))\n",
    "print(\"\\nStandardized Testing Data (After Standardization):\")\n",
    "print(pd.DataFrame(X_test, columns=dataset.feature_names))"
   ]
  },
  {
   "cell_type": "markdown",
   "metadata": {},
   "source": [
    "## Resampling\n",
    "\n",
    "Sometimes, when you have multiple classes and the number of samples of each class are not equally distributed, i.e. there is an imbalance in the number of samples of each class, you can resort to resampling.\n",
    "Resampling is using more (or less) of a given class to get a balanced dataset.\n",
    "\n",
    "**BE CAREFUL**, resample **AFTER** splitting your data set into two parts. You do not want to accidentally have a copy of a testing sample in the training set.\n",
    "Moreover, **do not resample the testing set**. This would give a false sense of the performance of the model.\n"
   ]
  },
  {
   "cell_type": "code",
   "execution_count": 146,
   "metadata": {},
   "outputs": [],
   "source": [
    "\n",
    "import sklearn\n",
    "import numpy as np\n",
    "from sklearn import datasets\n",
    "\n",
    "dataset = datasets.load_breast_cancer()\n",
    "X, y = dataset.data, dataset.target"
   ]
  },
  {
   "cell_type": "code",
   "execution_count": 147,
   "metadata": {},
   "outputs": [
    {
     "name": "stdout",
     "output_type": "stream",
     "text": [
      "Shape of class 0 samples:  (212, 30)\n",
      "Shape of class 1 samples:  (357, 30)\n"
     ]
    }
   ],
   "source": [
    "# We separate the samples of the different classes\n",
    "class_one_idx = np.argwhere(y==1)\n",
    "class_zero_idx = np.argwhere(y==0)\n",
    "\n",
    "class_one_x = np.squeeze(X[class_one_idx])\n",
    "class_zero_x = np.squeeze(X[class_zero_idx])\n",
    "\n",
    "print(\"Shape of class 0 samples: \", class_zero_x.shape)\n",
    "print(\"Shape of class 1 samples: \", class_one_x.shape)"
   ]
  },
  {
   "cell_type": "markdown",
   "metadata": {},
   "source": [
    "You see that we have 212 samples of class 0 and 357 samples of class 1.\n",
    "We can either upsample, i.e. take more samples of, the minority class (here class 0) or we can downsample, i.e. take fewer samples of, the majority class (here class 1).\n",
    "To do this, we first have to separate the samples of each class."
   ]
  },
  {
   "cell_type": "code",
   "execution_count": 148,
   "metadata": {},
   "outputs": [
    {
     "name": "stdout",
     "output_type": "stream",
     "text": [
      "New shape of class 0 samples:  (357, 30)\n",
      "New shape of class 1 samples:  (212, 30)\n"
     ]
    }
   ],
   "source": [
    "from sklearn.utils import resample\n",
    "\n",
    "# Upsample minority class\n",
    "class_zero_upsampled = resample(class_zero_x, \n",
    "                                 replace=True,     # sample with replacement\n",
    "                                 n_samples=357,    # to match majority class\n",
    "                                 random_state=123) # reproducible results\n",
    "\n",
    "print(\"New shape of class 0 samples: \",class_zero_upsampled.shape)\n",
    "\n",
    "# Downsample majority class\n",
    "class_one_downsampled = resample(class_one_x, \n",
    "                                 replace=True,     # sample with replacement\n",
    "                                 n_samples=212,    # to match minority class\n",
    "                                 random_state=123) # reproducible results\n",
    "\n",
    "print(\"New shape of class 1 samples: \",class_one_downsampled.shape)"
   ]
  },
  {
   "cell_type": "markdown",
   "metadata": {},
   "source": [
    "After having either upsampled our minority class, or downsampled our majority class, we can combine the upsampled with the majority class or the downsampled with the minority class to have a balanced data set.\n",
    "\n",
    "Which one you use depends on what you want to do, and which one does best."
   ]
  },
  {
   "cell_type": "code",
   "execution_count": 149,
   "metadata": {},
   "outputs": [
    {
     "name": "stdout",
     "output_type": "stream",
     "text": [
      "(Upsampled) Balanced data set shape:  (714, 30)\n",
      "(Downsampled) Balanced data set shape:  (424, 30)\n"
     ]
    }
   ],
   "source": [
    "X_balanced = np.concatenate((class_zero_upsampled, class_one_x), axis=0)\n",
    "print(\"(Upsampled) Balanced data set shape: \", X_balanced.shape)\n",
    "\n",
    "X_balanced = np.concatenate((class_one_downsampled, class_zero_x), axis=0)\n",
    "print(\"(Downsampled) Balanced data set shape: \", X_balanced.shape)"
   ]
  },
  {
   "cell_type": "markdown",
   "metadata": {},
   "source": [
    "## Reading material and additional ressources\n",
    "\n",
    "[[1] Feature Engineering - Elite Data Science](https://elitedatascience.com/feature-engineering)  \n",
    "[[2] Feature Engineering - Towards Data Science](https://towardsdatascience.com/feature-engineering-for-machine-learning-3a5e293a5114)  \n",
    "[[3] Feature Engineering Tutorial - Kaggle](https://towardsdatascience.com/feature-engineering-for-machine-learning-3a5e293a5114)  \n",
    "[[4] LabelBinarizer - scikit-learn](https://scikit-learn.org/stable/modules/generated/sklearn.preprocessing.LabelEncoder.html)  \n",
    "[[5] OneHotEncoder - scikit-learn](https://scikit-learn.org/stable/modules/generated/sklearn.preprocessing.OneHotEncoder.html)  \n",
    "[[6] Zscore - Simply Psychology](https://www.simplypsychology.org/z-score.html)  \n",
    "[[7] Normalize data - Microsoft Azure](https://docs.microsoft.com/en-us/azure/machine-learning/studio-module-reference/normalize-data)  \n",
    "[[8] How to handle imbalanced classes - Elite Data Science ](https://elitedatascience.com/imbalanced-classes)"
   ]
  }
 ],
 "metadata": {
  "interpreter": {
   "hash": "6922277e53701330cd18f9c625d32c99c01f722fe74997b870ac987017115c44"
  },
  "kernelspec": {
   "display_name": "Python 3.8.8 64-bit ('base': conda)",
   "name": "python3"
  },
  "language_info": {
   "codemirror_mode": {
    "name": "ipython",
    "version": 3
   },
   "file_extension": ".py",
   "mimetype": "text/x-python",
   "name": "python",
   "nbconvert_exporter": "python",
   "pygments_lexer": "ipython3",
   "version": "3.12.4"
  }
 },
 "nbformat": 4,
 "nbformat_minor": 4
}
